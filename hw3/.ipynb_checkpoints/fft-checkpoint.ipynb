{
 "cells": [
  {
   "cell_type": "markdown",
   "metadata": {},
   "source": [
    "# FFT and Polynomial Multiplication\n",
    "\n",
    "Here, you will implement FFT, and then implement polynomial multiplication, using FFT as a black box. We believe this will give you a thorough understanding of the complete working of FFT. Have fun!\n",
    "\n",
    "Fun fact: Many companies and large organizations have dedicated teams working towards optimizing FFT and applying them to various problems. \n",
    "\n",
    "There also exist several public repositories dedicated to making the fastest implementations of FFT. One such repository is FFTW (https://www.fftw.org) which stands for The Fastest Fourier Transform in the West! "
   ]
  },
  {
   "cell_type": "code",
   "execution_count": 1,
   "metadata": {},
   "outputs": [],
   "source": [
    "ok=\"\"\"\n",
    "         _          _                  _           _        \n",
    "        /\\ \\       / /\\               / /\\        / /\\      \n",
    "       /  \\ \\     / /  \\             / /  \\      / /  \\     \n",
    "      / /\\ \\ \\   / / /\\ \\           / / /\\ \\__  / / /\\ \\__  \n",
    "     / / /\\ \\_\\ / / /\\ \\ \\         / / /\\ \\___\\/ / /\\ \\___\\ \n",
    "    / / /_/ / // / /  \\ \\ \\        \\ \\ \\ \\/___/\\ \\ \\ \\/___/ \n",
    "   / / /__\\/ // / /___/ /\\ \\        \\ \\ \\       \\ \\ \\       \n",
    "  / / /_____// / /_____/ /\\ \\   _    \\ \\ \\  _    \\ \\ \\      \n",
    " / / /      / /_________/\\ \\ \\ /_/\\__/ / / /_/\\__/ / /      \n",
    "/ / /      / / /_       __\\ \\_\\\\ \\/___/ /  \\ \\/___/ /       \n",
    "\\/_/       \\_\\___\\     /____/_/ \\_____\\/    \\_____\\/        \n",
    "                                                            \n",
    "\"\"\""
   ]
  },
  {
   "cell_type": "code",
   "execution_count": 2,
   "metadata": {},
   "outputs": [],
   "source": [
    "import math\n",
    "import cmath\n",
    "import numpy as np\n",
    "from numpy.random import randint\n",
    "from time import time\n",
    "import matplotlib.pyplot as plt\n",
    "import tqdm\n",
    "\n",
    "import typing"
   ]
  },
  {
   "cell_type": "code",
   "execution_count": 3,
   "metadata": {},
   "outputs": [],
   "source": [
    "np.random.seed(114514)"
   ]
  },
  {
   "cell_type": "code",
   "execution_count": 4,
   "metadata": {},
   "outputs": [],
   "source": [
    "def reversed_np_fft(*args, **kwargs):\n",
    "    return np.roll(np.fft.fft(*args, **kwargs)[::-1], 1)"
   ]
  },
  {
   "cell_type": "markdown",
   "metadata": {},
   "source": [
    "## Complex Numbers in Python\n",
    "\n",
    "Python has an inbuilt functionality to deal with complex literals. Following are some ways to represent complex numbers in python:"
   ]
  },
  {
   "cell_type": "code",
   "execution_count": 5,
   "metadata": {},
   "outputs": [
    {
     "name": "stdout",
     "output_type": "stream",
     "text": [
      "Real part: 2.0\n",
      "Imaginary part: 3.0\n",
      "z1: (2+3j)\n",
      "Conjugate:  (2-3j)\n"
     ]
    }
   ],
   "source": [
    "z1 = 2 + 3j\n",
    "print('Real part:', z1.real)\n",
    "print('Imaginary part:', z1.imag)\n",
    "print('z1:', z1)\n",
    "print('Conjugate: ', z1.conjugate())"
   ]
  },
  {
   "cell_type": "markdown",
   "metadata": {},
   "source": [
    "You could also write:"
   ]
  },
  {
   "cell_type": "code",
   "execution_count": 6,
   "metadata": {},
   "outputs": [
    {
     "name": "stdout",
     "output_type": "stream",
     "text": [
      "Real part: 2.0\n",
      "Imaginary part: 3.0\n",
      "z2: (2+3j)\n",
      "Conjugate:  (2-3j)\n"
     ]
    }
   ],
   "source": [
    "z2 = complex(2, 3)\n",
    "print('Real part:', z2.real)\n",
    "print('Imaginary part:', z2.imag)\n",
    "print('z2:', z2)\n",
    "print('Conjugate: ', z2.conjugate())"
   ]
  },
  {
   "cell_type": "markdown",
   "metadata": {},
   "source": [
    "`numpy` also supports calculation with complex numbers."
   ]
  },
  {
   "cell_type": "code",
   "execution_count": 7,
   "metadata": {},
   "outputs": [
    {
     "name": "stdout",
     "output_type": "stream",
     "text": [
      "Real part: -19.884530844146983\n",
      "Imaginary part: 2.8344711324870038\n",
      "npz: (-19.884530844146983+2.8344711324870038j)\n"
     ]
    }
   ],
   "source": [
    "npz = np.e ** (3j + 3)\n",
    "print('Real part:', npz.real)\n",
    "print('Imaginary part:', npz.imag)\n",
    "print('npz:', npz)"
   ]
  },
  {
   "cell_type": "markdown",
   "metadata": {},
   "source": [
    "However, sometimes `numpy`'s default `dtype` is `float`, so if you need to use those functions, `dtype` specification might be needed."
   ]
  },
  {
   "cell_type": "code",
   "execution_count": 8,
   "metadata": {},
   "outputs": [
    {
     "name": "stdout",
     "output_type": "stream",
     "text": [
      "can't convert complex to float\n"
     ]
    }
   ],
   "source": [
    "try:\n",
    "    err = np.zeros(16)\n",
    "    err[3] = 3 + 5j\n",
    "except Exception as e:\n",
    "    print(e)"
   ]
  },
  {
   "cell_type": "code",
   "execution_count": 9,
   "metadata": {},
   "outputs": [
    {
     "name": "stdout",
     "output_type": "stream",
     "text": [
      "(3+5j)\n"
     ]
    }
   ],
   "source": [
    "try:\n",
    "    noerr = np.zeros(16, dtype=complex)\n",
    "    noerr[3] = 3 + 5j\n",
    "except Exception as e:\n",
    "    print(e)\n",
    "print(noerr[3])"
   ]
  },
  {
   "cell_type": "markdown",
   "metadata": {},
   "source": [
    "## Roots of Unity\n",
    "$n$th roots of unity are defined as complex numbers $z$, where $z^n=1$.\n",
    "\n",
    "Another definition is $z = e^{\\frac{2\\pi ik}{n}}$ where $k={0, 1, \\cdots, n}$.     \n",
    "\n",
    "First, using any definition, write a function that, given $n$, outputs a list of all $n$th roots of unity. \n",
    "\n",
    "The order of your roots will matter later in the notebook, so make sure your roots are in the order of $e^{\\frac{2\\pi ik}{n}}$ for $k={0, 1, \\cdots, n}$, i.e. the first element corresponds to $k=0$, the second to $k=1$, and so on."
   ]
  },
  {
   "cell_type": "code",
   "execution_count": 10,
   "metadata": {},
   "outputs": [],
   "source": [
    "def roots_of_unities(n: int) -> typing.Union[list, np.ndarray]:\n",
    "    roots = []\n",
    "    \n",
    "    ## Your solution here\n",
    "\n",
    "    for i in range(n):\n",
    "        roots.append(np.e ** (2 * np.pi * i * 1j/n))\n",
    "    \n",
    "    return roots"
   ]
  },
  {
   "cell_type": "markdown",
   "metadata": {},
   "source": [
    "To make sure your helper function is correct, we can draw the resulting values on the unit circle. Run the following cell and make sure the output is as you expect it to be:"
   ]
  },
  {
   "cell_type": "code",
   "execution_count": 11,
   "metadata": {},
   "outputs": [
    {
     "data": {
      "image/png": "[encoded data removed]",
      "text/plain": [
       "<Figure size 288x288 with 1 Axes>"
      ]
     },
     "metadata": {
      "needs_background": "light"
     },
     "output_type": "display_data"
    }
   ],
   "source": [
    "N = 16 # feel free to change this value and observe what happens\n",
    "roots = roots_of_unities(N)\n",
    "\n",
    "# Plot\n",
    "f,ax = plt.subplots()\n",
    "f.set_figwidth(4)\n",
    "f.set_figheight(4)\n",
    "plt.scatter([r.real for r in roots], [r.imag for r in roots]) \n",
    "ax.spines['left'].set_position('zero')\n",
    "ax.spines['right'].set_color('none')\n",
    "ax.yaxis.tick_left()\n",
    "ax.spines['bottom'].set_position('zero')\n",
    "ax.spines['top'].set_color('none')\n",
    "ax.set_xlim([-1.2,1.2])\n",
    "ax.set_ylim([-1.2,1.2])\n",
    "ax.set_xticks([-1, -0.5, 0.5, 1])\n",
    "ax.set_yticks([-1, -0.5, 0.5, 1])\n",
    "ax.xaxis.tick_bottom()\n",
    "plt.show() "
   ]
  },
  {
   "cell_type": "markdown",
   "metadata": {},
   "source": [
    "## Discrete Fourier Transform\n",
    "In CS170, we define the process that transforms polynomials from coefficient representation to value representation (at next $2^n$th roots of unities) as \"Discrete Fourier Transform\".  \n",
    "\n",
    "For example, for polynomial $P(x)=1+x+x^2+x^3$, its value representation would be $P(1)=4, P(i)=0, P(-1)=0, P(-i)=0$. Note that we write $P(x)$ and its corresponding coefficient vector in increasing order of exponents (i.e. smallest exponent comes first).\n",
    "\n",
    "Write an naive algorithm that simulates DFT and returns a list of values (each corresponding to the polynomial evaluated at a root of unity). Again, the order of your values matter.\n",
    "\n",
    "The input list is a list of coefficients but you might find `np.poly1d` useful (if you choose to use `np.poly1d` keep in mind the order of the coefficients may be different)."
   ]
  },
  {
   "cell_type": "code",
   "execution_count": 12,
   "metadata": {},
   "outputs": [],
   "source": [
    "hyperceil = lambda x: int(2 ** np.ceil(np.log2(x))) # Utility function, returns next 2^n of x"
   ]
  },
  {
   "cell_type": "code",
   "execution_count": 13,
   "metadata": {},
   "outputs": [],
   "source": [
    "def dft_naive(coeffs: typing.Union[list, np.ndarray]) -> typing.Union[list, np.ndarray]:\n",
    "    roots_needed = hyperceil(len(coeffs))\n",
    "    roots = roots_of_unities(roots_needed)\n",
    "    \n",
    "    # Your solution here:\n",
    "    p = np.poly1d(list(reversed(coeffs)))\n",
    "    \n",
    "    return np.array([p(r) for r in roots])"
   ]
  },
  {
   "cell_type": "code",
   "execution_count": 14,
   "metadata": {},
   "outputs": [
    {
     "name": "stderr",
     "output_type": "stream",
     "text": [
      "100%|█████████████████████████████████████████████████████████████████████████████| 100/100 [00:00<00:00, 12502.77it/s]"
     ]
    },
    {
     "name": "stdout",
     "output_type": "stream",
     "text": [
      "\n",
      "         _          _                  _           _        \n",
      "        /\\ \\       / /\\               / /\\        / /\\      \n",
      "       /  \\ \\     / /  \\             / /  \\      / /  \\     \n",
      "      / /\\ \\ \\   / / /\\ \\           / / /\\ \\__  / / /\\ \\__  \n",
      "     / / /\\ \\_\\ / / /\\ \\ \\         / / /\\ \\___\\/ / /\\ \\___\\ \n",
      "    / / /_/ / // / /  \\ \\ \\        \\ \\ \\ \\/___/\\ \\ \\ \\/___/ \n",
      "   / / /__\\/ // / /___/ /\\ \\        \\ \\ \\       \\ \\ \\       \n",
      "  / / /_____// / /_____/ /\\ \\   _    \\ \\ \\  _    \\ \\ \\      \n",
      " / / /      / /_________/\\ \\ \\ /_/\\__/ / / /_/\\__/ / /      \n",
      "/ / /      / / /_       __\\ \\_\\ \\/___/ /  \\ \\/___/ /       \n",
      "\\/_/       \\_\\___\\     /____/_/ \\_____\\/    \\_____\\/        \n",
      "                                                            \n",
      "\n"
     ]
    },
    {
     "name": "stderr",
     "output_type": "stream",
     "text": [
      "\n"
     ]
    }
   ],
   "source": [
    "for _ in tqdm.tqdm(range(100)):\n",
    "    vec = np.random.randint(0, 512, size=2 ** np.random.randint(1, 3))\n",
    "    assert (np.isclose(dft_naive(vec), reversed_np_fft(vec))).all()\n",
    "print(ok)"
   ]
  },
  {
   "cell_type": "markdown",
   "metadata": {},
   "source": [
    "### DFT Matrix\n",
    "You might've already done this in EE16B, but there is a matrix multiplication way to represent DFT: now, populate the DFT matrix.\n",
    "\n",
    "With some EE16A/Math 54 knowledge, DFT could be represented as this matrix-vector multiplication, as outlined in Discussion 2 Q2:\n",
    "$$ \n",
    "\\begin{bmatrix}\n",
    "P(1) \\\\\n",
    "P(\\omega_n) \\\\ \n",
    "P(\\omega_n^2) \\\\\n",
    "\\vdots \\\\\n",
    "P(\\omega_n^{n-1})\n",
    "\\end{bmatrix}\n",
    "= \n",
    "\\begin{bmatrix}\n",
    "1 & 1 & 1 & \\ldots & 1 \\\\\n",
    "1 & \\omega_n^1 & \\omega_n^2 & \\ldots & \\omega_n^{(n-1)} \\\\\n",
    "1 & \\omega_n^2 & \\omega_n^4 & \\ldots & \\omega_n^{2(n-1)} \\\\\n",
    "\\vdots & \\vdots & \\vdots & \\ddots & \\vdots \\\\\n",
    "1 & \\omega_n^{(n-1)} & \\omega_n^{2(n-1)} & \\ldots & \\omega_n^{(n-1)(n-1)}\n",
    "\\end{bmatrix} \\cdot\n",
    "\\begin{bmatrix}\n",
    "p_0 \\\\\n",
    "p_1 \\\\\n",
    "p_2 \\\\\n",
    "\\vdots \\\\\n",
    "p_{n-1}\n",
    "\\end{bmatrix}\n",
    "$$\n",
    "where $\\omega_n$ is the *primitive* n-th root of unity, namely $\\omega_n=e^\\frac{2\\pi i}{n}$, and the matrix in the middle would be the DFT matrix.\n",
    "\n",
    "Alternatively, if you define $\\vec{\\omega_n} := \\begin{bmatrix} \\omega_n^0 & \\omega_n^1 & \\ldots & \\omega_n^{n-2} &\\omega_n^{n-1} \\end{bmatrix}$, and for this question **only** denote $\\vec{v}^n$ as **element-wise** exponentional of $\\vec{v}$, we can define the matrix as (which is useful with numpy):\n",
    "$$\n",
    "\\begin{bmatrix}\n",
    "    \\vec{\\omega_n}^0 \\\\\n",
    "    \\vec{\\omega_n}^1 \\\\\n",
    "    \\vdots \\\\\n",
    "    \\vec{\\omega_n}^{n-1}\n",
    "\\end{bmatrix}   \n",
    "$$"
   ]
  },
  {
   "cell_type": "code",
   "execution_count": 15,
   "metadata": {},
   "outputs": [],
   "source": [
    "def get_dft_matrix(n: int) -> typing.Union[list, np.ndarray]:\n",
    "    # Your solution here\n",
    "    nthRoot = np.array(roots_of_unities(n))\n",
    "    return np.array(\n",
    "        [nthRoot ** i for i in range(n)]\n",
    "    )\n",
    "    "
   ]
  },
  {
   "cell_type": "code",
   "execution_count": 16,
   "metadata": {},
   "outputs": [
    {
     "name": "stderr",
     "output_type": "stream",
     "text": [
      "100%|███████████████████████████████████████████████████████████████████████████████| 100/100 [00:00<00:00, 446.43it/s]"
     ]
    },
    {
     "name": "stdout",
     "output_type": "stream",
     "text": [
      "\n",
      "         _          _                  _           _        \n",
      "        /\\ \\       / /\\               / /\\        / /\\      \n",
      "       /  \\ \\     / /  \\             / /  \\      / /  \\     \n",
      "      / /\\ \\ \\   / / /\\ \\           / / /\\ \\__  / / /\\ \\__  \n",
      "     / / /\\ \\_\\ / / /\\ \\ \\         / / /\\ \\___\\/ / /\\ \\___\\ \n",
      "    / / /_/ / // / /  \\ \\ \\        \\ \\ \\ \\/___/\\ \\ \\ \\/___/ \n",
      "   / / /__\\/ // / /___/ /\\ \\        \\ \\ \\       \\ \\ \\       \n",
      "  / / /_____// / /_____/ /\\ \\   _    \\ \\ \\  _    \\ \\ \\      \n",
      " / / /      / /_________/\\ \\ \\ /_/\\__/ / / /_/\\__/ / /      \n",
      "/ / /      / / /_       __\\ \\_\\ \\/___/ /  \\ \\/___/ /       \n",
      "\\/_/       \\_\\___\\     /____/_/ \\_____\\/    \\_____\\/        \n",
      "                                                            \n",
      "\n"
     ]
    },
    {
     "name": "stderr",
     "output_type": "stream",
     "text": [
      "\n"
     ]
    }
   ],
   "source": [
    "for _ in tqdm.tqdm(range(100)):\n",
    "    n = np.random.randint(16, 256)\n",
    "    assert np.allclose(get_dft_matrix(n), np.power(np.fft.fft(np.eye(n)), -1))\n",
    "print(ok)"
   ]
  },
  {
   "cell_type": "markdown",
   "metadata": {},
   "source": [
    "You can try (but you don't have to) and observe that the matrix multiplication yields the same result as your naive DFT."
   ]
  },
  {
   "cell_type": "markdown",
   "metadata": {},
   "source": [
    "## FFT"
   ]
  },
  {
   "cell_type": "markdown",
   "metadata": {},
   "source": [
    "FFT is an algorithm that calculates DFT in $\\mathcal{O}(n \\log n)$ time.\n",
    "\n",
    "Now, you'll implement FFT by itself.  The way it is defined here, this takes in the coefficients of a polynomial as input, evaluates it on the $n$-th roots of unity, and returns the list of these values.  For instance, calling \n",
    "\n",
    "$$\n",
    "FFT([1, 2, 3], \\; [1, i, -1, -i])\n",
    "$$\n",
    "\n",
    "should evaluate the polynomial $1 + 2x + 3x^2$ on the points $1, i, -1, -i$, returning\n",
    "\n",
    "$$\n",
    "[6, \\; -2 + 2i, \\; 2, \\; -2 - 2i]\n",
    "$$"
   ]
  },
  {
   "cell_type": "markdown",
   "metadata": {},
   "source": [
    "Recall that to do this efficiently for a polynomial \n",
    "\n",
    "$$\n",
    "P(x) = a_0 + a_1x + a_2x^2 + \\cdots + a_{n - 1} x^{n - 1}\n",
    "$$\n",
    "\n",
    "we define two other polynomials $E$ and $O$, containing the coefficients of the even and odd degree terms respectively,\n",
    "\n",
    "$$\n",
    "E(x) := a_0 + a_2x + \\cdots + a_{n - 2}x^{n/2 - 1}, \\qquad O(x) := a_1 + a_3x + \\cdots = a_{n - 1}x^{n/2 - 1}\n",
    "$$\n",
    "\n",
    "which satisfy the relation\n",
    "\n",
    "$$\n",
    "P(x) = E(x^2) + xO(x^2)\n",
    "$$\n",
    "\n",
    "We recursively run FFT on $E$ and $O$, evaluating them on the $n/2$-th roots of unity, then use these values to evaluate $P$ on the $n$-th roots of unity, via the above relation."
   ]
  },
  {
   "cell_type": "markdown",
   "metadata": {},
   "source": [
    "Implement this procedure below, where $\\text{``coeffs\"}$ are the coefficients of the polynomial we want to evaluate (with the coefficient of $x^i$ at index $i$), and where  \n",
    "\n",
    "$$\n",
    "\\text{roots} = [1, \\omega, \\omega^2, \\ldots, \\omega^{n - 1}]\n",
    "$$\n",
    "\n",
    "for some primitive $n$-th root of unity $\\omega$ where $n$ is a power of $2$.  (Note:  Arithmetic operations on complex numbers in python work just like they do for floats or ints.  Also, you can use $\\text{A[::k]}$ to take every $k$-th element of an array A)"
   ]
  },
  {
   "cell_type": "code",
   "execution_count": 96,
   "metadata": {},
   "outputs": [],
   "source": [
    "def fft(coeffs, roots):\n",
    "    n = len(coeffs)\n",
    "    assert n == hyperceil(n)\n",
    "    \n",
    "    \n",
    "    \"\"\"\n",
    "    roots = np.array(roots)\n",
    "    \n",
    "    ### Your solution here\n",
    "    if len(coeffs) == 1:\n",
    "        ret = np.ones_like(roots) * coeffs\n",
    "        return ret\n",
    "    \n",
    "    sq_roots = roots**2\n",
    "    \n",
    "    even_deg = fft(coeffs[::2],sq_roots)\n",
    "    odd_deg = fft(coeffs[1::2],sq_roots)\n",
    "    ans = even_deg + odd_deg * roots\n",
    "    \n",
    "    \n",
    "    return ans\n",
    "    \"\"\"\n",
    "    \n",
    "    def fft_helper(coeffs, root):\n",
    "        #print(coeffs,root)\n",
    "        if len(coeffs) <= 1:\n",
    "            return np.array(coeffs)\n",
    "        sq_root = root ** 2\n",
    "        even_deg = fft_helper(coeffs[::2],sq_root)\n",
    "        odd_deg = fft_helper(coeffs[1::2],sq_root)\n",
    "        \n",
    "        ans = np.zeros_like(coeffs,dtype=complex)\n",
    "        \n",
    "        half_n = int(np.floor(len(coeffs)/2))\n",
    "        for i in range(half_n):\n",
    "            ans[i] = even_deg[i] + (root**i) * odd_deg[i]\n",
    "            ans[i+half_n] = even_deg[i] - (root**i) * odd_deg[i]\n",
    "        return ans\n",
    "    \n",
    "    root_of_u = np.e ** (np.pi * 2j/n) if n != 0 else 1\n",
    "    #print(root_of_u)\n",
    "    return fft_helper(coeffs,root_of_u)"
   ]
  },
  {
   "cell_type": "markdown",
   "metadata": {},
   "source": [
    "### Testing"
   ]
  },
  {
   "cell_type": "markdown",
   "metadata": {},
   "source": [
    "Here's a sanity check to test your implementation.  Calling $FFT([1, 2, 3], [1, 1j, -1, -1j])$ should output $[6, \\; -2 + 2j, \\; 2, \\; -2 - 2j]$ (Python uses $j$ for the imaginary unit instead of $i$.)"
   ]
  },
  {
   "cell_type": "code",
   "execution_count": 97,
   "metadata": {},
   "outputs": [
    {
     "name": "stdout",
     "output_type": "stream",
     "text": [
      "expected: [6, (-2+2j), 2, (-2-2j)]\n",
      "actual:   [ 6.+0.j -2.+2.j  2.+0.j -2.-2.j]\n"
     ]
    }
   ],
   "source": [
    "expected = [6, -2+2j, 2, -2-2j]\n",
    "actual = fft([1, 2, 3, 0], [1, 1j, -1, -1j])\n",
    "print(\"expected: {}\".format(expected))\n",
    "print(\"actual:   {}\".format(actual))"
   ]
  },
  {
   "cell_type": "markdown",
   "metadata": {},
   "source": [
    "If you are correctly implemented the FFT algorithm and not just naively evaluating on each point, it should rely on the points being roots of unity.  Therefore, the call $FFT([1, 2, 3], [1, 2, 3, 4])$ should NOT return the values of $1 + 2x + 3x^2$ on the inputs $[1, 2, 3, 4]$ (which would be $[6, 17, 34, 57]$):"
   ]
  },
  {
   "cell_type": "code",
   "execution_count": 98,
   "metadata": {},
   "outputs": [
    {
     "name": "stdout",
     "output_type": "stream",
     "text": [
      "NOT expected: [6, 17, 34, 57]\n",
      "actual:       [ 6.+0.j -2.+2.j  2.+0.j -2.-2.j]\n"
     ]
    }
   ],
   "source": [
    "not_expected = [6, 17, 34, 57]\n",
    "actual = fft([1, 2, 3, 0], [1, 2, 3, 4])\n",
    "print(\"NOT expected: {}\".format(not_expected))\n",
    "print(\"actual:       {}\".format(actual))"
   ]
  },
  {
   "cell_type": "code",
   "execution_count": 99,
   "metadata": {},
   "outputs": [
    {
     "name": "stderr",
     "output_type": "stream",
     "text": [
      "100%|████████████████████████████████████████████████████████████████████████████████| 100/100 [00:05<00:00, 18.94it/s]"
     ]
    },
    {
     "name": "stdout",
     "output_type": "stream",
     "text": [
      "\n",
      "         _          _                  _           _        \n",
      "        /\\ \\       / /\\               / /\\        / /\\      \n",
      "       /  \\ \\     / /  \\             / /  \\      / /  \\     \n",
      "      / /\\ \\ \\   / / /\\ \\           / / /\\ \\__  / / /\\ \\__  \n",
      "     / / /\\ \\_\\ / / /\\ \\ \\         / / /\\ \\___\\/ / /\\ \\___\\ \n",
      "    / / /_/ / // / /  \\ \\ \\        \\ \\ \\ \\/___/\\ \\ \\ \\/___/ \n",
      "   / / /__\\/ // / /___/ /\\ \\        \\ \\ \\       \\ \\ \\       \n",
      "  / / /_____// / /_____/ /\\ \\   _    \\ \\ \\  _    \\ \\ \\      \n",
      " / / /      / /_________/\\ \\ \\ /_/\\__/ / / /_/\\__/ / /      \n",
      "/ / /      / / /_       __\\ \\_\\ \\/___/ /  \\ \\/___/ /       \n",
      "\\/_/       \\_\\___\\     /____/_/ \\_____\\/    \\_____\\/        \n",
      "                                                            \n",
      "\n"
     ]
    },
    {
     "name": "stderr",
     "output_type": "stream",
     "text": [
      "\n"
     ]
    }
   ],
   "source": [
    "for _ in tqdm.tqdm(range(100)):\n",
    "    vec = np.random.randint(0, 512, size=2 ** np.random.randint(4, 16))\n",
    "    assert (np.isclose(fft(vec, roots_of_unities(len(vec))), reversed_np_fft(vec))).all()\n",
    "print(ok)"
   ]
  },
  {
   "cell_type": "markdown",
   "metadata": {},
   "source": [
    "Verify that your FFT yields the same result as your naive DFT implementation (optional)."
   ]
  },
  {
   "cell_type": "code",
   "execution_count": 100,
   "metadata": {},
   "outputs": [],
   "source": [
    "# Your solution here (optional)"
   ]
  },
  {
   "cell_type": "markdown",
   "metadata": {},
   "source": [
    "## Inverse FFT\n",
    "Now that you know your FFT is correct, implement IFFT.  \n",
    "IFFT should be less than 3 lines. You can check the bottom of DPV page 75 to see how it is finished."
   ]
  },
  {
   "cell_type": "code",
   "execution_count": 101,
   "metadata": {},
   "outputs": [],
   "source": [
    "def ifft(vals, roots):\n",
    "    n = len(vals)\n",
    "    assert n == hyperceil(n)\n",
    "    \n",
    "    ### Your solution here\n",
    "    def fft_helper(coeffs, root):\n",
    "        #print(coeffs,root)\n",
    "        if len(coeffs) <= 1:\n",
    "            return np.array(coeffs)\n",
    "        sq_root = root ** 2\n",
    "        even_deg = fft_helper(coeffs[::2],sq_root)\n",
    "        odd_deg = fft_helper(coeffs[1::2],sq_root)\n",
    "        \n",
    "        ans = np.zeros_like(coeffs,dtype=complex)\n",
    "        \n",
    "        half_n = int(np.floor(len(coeffs)/2))\n",
    "        for i in range(half_n):\n",
    "            ans[i] = even_deg[i] + (root**i) * odd_deg[i]\n",
    "            ans[i+half_n] = even_deg[i] - (root**i) * odd_deg[i]\n",
    "        return ans\n",
    "    \n",
    "    root_of_u = np.e ** (-np.pi * 2j/n) if n != 0 else 1\n",
    "    #print(root_of_u)\n",
    "    return fft_helper(vals,root_of_u) / n"
   ]
  },
  {
   "cell_type": "code",
   "execution_count": 102,
   "metadata": {},
   "outputs": [
    {
     "name": "stderr",
     "output_type": "stream",
     "text": [
      "100%|████████████████████████████████████████████████████████████████████████████████| 100/100 [00:09<00:00, 10.15it/s]"
     ]
    },
    {
     "name": "stdout",
     "output_type": "stream",
     "text": [
      "\n",
      "         _          _                  _           _        \n",
      "        /\\ \\       / /\\               / /\\        / /\\      \n",
      "       /  \\ \\     / /  \\             / /  \\      / /  \\     \n",
      "      / /\\ \\ \\   / / /\\ \\           / / /\\ \\__  / / /\\ \\__  \n",
      "     / / /\\ \\_\\ / / /\\ \\ \\         / / /\\ \\___\\/ / /\\ \\___\\ \n",
      "    / / /_/ / // / /  \\ \\ \\        \\ \\ \\ \\/___/\\ \\ \\ \\/___/ \n",
      "   / / /__\\/ // / /___/ /\\ \\        \\ \\ \\       \\ \\ \\       \n",
      "  / / /_____// / /_____/ /\\ \\   _    \\ \\ \\  _    \\ \\ \\      \n",
      " / / /      / /_________/\\ \\ \\ /_/\\__/ / / /_/\\__/ / /      \n",
      "/ / /      / / /_       __\\ \\_\\ \\/___/ /  \\ \\/___/ /       \n",
      "\\/_/       \\_\\___\\     /____/_/ \\_____\\/    \\_____\\/        \n",
      "                                                            \n",
      "\n"
     ]
    },
    {
     "name": "stderr",
     "output_type": "stream",
     "text": [
      "\n"
     ]
    }
   ],
   "source": [
    "for _ in tqdm.tqdm(range(100)):\n",
    "    vec = np.random.randint(0, 512, size=2 ** np.random.randint(4, 16))\n",
    "    roots = roots_of_unities(len(vec))\n",
    "    assert (np.isclose(ifft(fft(vec, roots), roots), vec)).all()\n",
    "print(ok)"
   ]
  },
  {
   "cell_type": "markdown",
   "metadata": {},
   "source": [
    "## Polynomial Multiplication"
   ]
  },
  {
   "cell_type": "markdown",
   "metadata": {},
   "source": [
    "Now you'll implement polynomial multiplication, using your FFT function as a black box.  Recall that to do this, we first run FFT on the coefficients of each polynomial to evaluate them on the $n$-th roots of unity for a sufficiently large power of 2,  which we call $n$.  We then multiply these values together pointwise, and finally run the inverse FFT on these values to convert back to coefficient form, obtaining the coefficient of the product.  To perform inverse FFT, we can simply run FFT, but with the roots of unity inverted, and divide by $n$ at the end.\n",
    "\n",
    "We will need another helper function here. First, note that FFT and IFFT only accepts polynomials of degree $2^n-1$, so you would need to pad coefficients to the next `hyperceil(n)`."
   ]
  },
  {
   "cell_type": "code",
   "execution_count": 103,
   "metadata": {},
   "outputs": [],
   "source": [
    "def pad(coeffs: typing.Union[list, np.ndarray], to: int) -> np.ndarray:\n",
    "    \"\"\"\n",
    "    pad([2, 3, 4], 4)\n",
    "    [2, 3, 4, 0]\n",
    "    pad([1, 1, 4, 5, 1, 4], 8)\n",
    "    [1, 1, 4, 5, 1, 4, 0, 0]\n",
    "    \"\"\"\n",
    "    assert len(coeffs) <= to\n",
    "    \n",
    "    ## Your solution here\n",
    "    coeffs = np.array(coeffs)\n",
    "    for _ in range(to - len(coeffs)):\n",
    "        coeffs = np.append(coeffs,0)\n",
    "    \n",
    "    return coeffs"
   ]
  },
  {
   "cell_type": "markdown",
   "metadata": {},
   "source": [
    "Now, we are ready to implement the polynomial multiplication. Do so below. (Hint: Python supports computing the inverse of a complex number by raising it to the power of $-1$. In other words, suppose $\\texttt{x}$ is a complex number, the inverse is $\\texttt{x**(-1)}$.)"
   ]
  },
  {
   "cell_type": "code",
   "execution_count": 104,
   "metadata": {},
   "outputs": [],
   "source": [
    "def poly_multiply(coeffs1, coeffs2):\n",
    "    \n",
    "    ## Your solution here\n",
    "    new_deg = hyperceil((len(coeffs1) - 1)+(len(coeffs2) - 1) + 1)\n",
    "    coeffs1_padded, coeffs2_padded = pad(coeffs1,new_deg), pad(coeffs2, new_deg)\n",
    "    roots = np.array(roots_of_unities(new_deg))\n",
    "    transformed_1= fft(coeffs1_padded,roots)\n",
    "    transformed_2 = fft(coeffs2_padded,roots)\n",
    "    interpolated = ifft(transformed_1*transformed_2,roots**(-1))\n",
    "    \n",
    "    \n",
    "    return interpolated"
   ]
  },
  {
   "cell_type": "markdown",
   "metadata": {},
   "source": [
    "### Testing"
   ]
  },
  {
   "cell_type": "code",
   "execution_count": 105,
   "metadata": {},
   "outputs": [],
   "source": [
    "def round_complex_to_int(lst):\n",
    "    return [round(x.real) for x in lst]\n",
    "\n",
    "def zero_pop(lst) -> np.ndarray:\n",
    "    return np.trim_zeros(lst, \"b\")"
   ]
  },
  {
   "cell_type": "markdown",
   "metadata": {},
   "source": [
    "Here are a couple sanity checks for your solution."
   ]
  },
  {
   "cell_type": "code",
   "execution_count": 106,
   "metadata": {},
   "outputs": [
    {
     "name": "stdout",
     "output_type": "stream",
     "text": [
      "expected: [4, 13, 22, 15]\n",
      "actual:   [4, 13, 22, 15]\n"
     ]
    }
   ],
   "source": [
    "expected = [4, 13, 22, 15]\n",
    "actual = round_complex_to_int(poly_multiply([1, 2, 3], [4, 5]))\n",
    "print(\"expected: {}\".format(expected))\n",
    "print(\"actual:   {}\".format(actual))"
   ]
  },
  {
   "cell_type": "code",
   "execution_count": 107,
   "metadata": {},
   "outputs": [
    {
     "name": "stdout",
     "output_type": "stream",
     "text": [
      "expected: [4, 13, 28, 27, 18, 0, 0, 0]\n",
      "actual:   [4, 13, 28, 27, 18, 0, 0, 0]\n"
     ]
    }
   ],
   "source": [
    "expected = [4, 13, 28, 27, 18, 0, 0, 0]\n",
    "actual = round_complex_to_int(poly_multiply([1, 2, 3], [4, 5, 6]))\n",
    "print(\"expected: {}\".format(expected))\n",
    "print(\"actual:   {}\".format(actual))"
   ]
  },
  {
   "cell_type": "markdown",
   "metadata": {},
   "source": [
    "One quirk of FFT is that we use complex numbers to multiply integer polynomials, so this leads to floating point errors.  You can see this with the following call, which will probably not return exact integer values (unless you did something in your implementation to handle this):"
   ]
  },
  {
   "cell_type": "code",
   "execution_count": 108,
   "metadata": {},
   "outputs": [
    {
     "data": {
      "text/plain": [
       "array([ 4.00000000e+00-1.77635684e-15j,  1.30000000e+01-3.99680289e-15j,\n",
       "        2.80000000e+01+0.00000000e+00j,  2.70000000e+01+1.77635684e-15j,\n",
       "        1.80000000e+01+1.77635684e-15j, -3.55271368e-15+3.99680289e-15j,\n",
       "       -7.10542736e-15+0.00000000e+00j, -8.88178420e-15-1.77635684e-15j])"
      ]
     },
     "execution_count": 108,
     "metadata": {},
     "output_type": "execute_result"
    }
   ],
   "source": [
    "result = poly_multiply([1, 2, 3], [4, 5, 6])\n",
    "result"
   ]
  },
  {
   "cell_type": "markdown",
   "metadata": {},
   "source": [
    "Therefore, if we're only interested in integers, like many of the homework problems, we have to round the result:"
   ]
  },
  {
   "cell_type": "code",
   "execution_count": 109,
   "metadata": {},
   "outputs": [
    {
     "data": {
      "text/plain": [
       "[4, 13, 28, 27, 18, 0, 0, 0]"
      ]
     },
     "execution_count": 109,
     "metadata": {},
     "output_type": "execute_result"
    }
   ],
   "source": [
    "result = round_complex_to_int(result)\n",
    "result"
   ]
  },
  {
   "cell_type": "markdown",
   "metadata": {},
   "source": [
    "However, there might still be trailing zeros we have to remove:"
   ]
  },
  {
   "cell_type": "code",
   "execution_count": 110,
   "metadata": {},
   "outputs": [
    {
     "data": {
      "text/plain": [
       "[4, 13, 28, 27, 18]"
      ]
     },
     "execution_count": 110,
     "metadata": {},
     "output_type": "execute_result"
    }
   ],
   "source": [
    "zero_pop(result)"
   ]
  },
  {
   "cell_type": "markdown",
   "metadata": {},
   "source": [
    "This (hopefully) gives us exactly what we would have gotten by multiplying the polynomials normally, $[4, 13, 28, 27, 18]$."
   ]
  },
  {
   "cell_type": "markdown",
   "metadata": {},
   "source": [
    "### Runtime Comparison"
   ]
  },
  {
   "cell_type": "markdown",
   "metadata": {},
   "source": [
    "Here, we compare the runtime of polynomial multiplication with FFT to the naive algorithm."
   ]
  },
  {
   "cell_type": "code",
   "execution_count": 111,
   "metadata": {},
   "outputs": [],
   "source": [
    "def poly_multiply_naive(coeffs1, coeffs2):\n",
    "    n1, n2 = len(coeffs1), len(coeffs2)\n",
    "    n = n1 + n2 - 1\n",
    "    prod_coeffs = [0] * n\n",
    "    for deg in range(n):\n",
    "        for i in range(max(0, deg + 1 - n2), min(n1, deg + 1)):\n",
    "            prod_coeffs[deg] += coeffs1[i] * coeffs2[deg - i]\n",
    "    return prod_coeffs"
   ]
  },
  {
   "cell_type": "code",
   "execution_count": 112,
   "metadata": {},
   "outputs": [
    {
     "data": {
      "text/plain": [
       "[21, 34, 64, 50, 51, 20]"
      ]
     },
     "execution_count": 112,
     "metadata": {},
     "output_type": "execute_result"
    }
   ],
   "source": [
    "poly_multiply_naive([3,4,5], [7,2,7,4])"
   ]
  },
  {
   "cell_type": "markdown",
   "metadata": {},
   "source": [
    "Running the following cell, you should see FFT perform similarly to or worse than the naive algorithm on small inputs, but perform significantly better once inputs are sufficiently large, which should be apparent by how long you have to wait for the naive algorithm to finish on the largest input (you might need to run the next cell twice to see the plot for some reason):"
   ]
  },
  {
   "cell_type": "code",
   "execution_count": 129,
   "metadata": {},
   "outputs": [
    {
     "name": "stdout",
     "output_type": "stream",
     "text": [
      "\n",
      "size: 10\n",
      "FFT time:   0.000394\n",
      "naive time: 0.000000\n",
      "speed up: 0.000000\n",
      "\n",
      "size: 100\n",
      "FFT time:   0.006607\n",
      "naive time: 0.000000\n",
      "speed up: 0.000000\n",
      "\n",
      "size: 1000\n",
      "FFT time:   0.057998\n",
      "naive time: 0.078000\n",
      "speed up: 1.344868\n",
      "\n",
      "size: 10000\n",
      "FFT time:   1.137313\n",
      "naive time: 7.657998\n",
      "speed up: 6.733415\n"
     ]
    },
    {
     "data": {
      "text/plain": [
       "Text(0.5, 1.0, 'FFT Polynomial Multiplication Speedup')"
      ]
     },
     "execution_count": 129,
     "metadata": {},
     "output_type": "execute_result"
    },
    {
     "data": {
      "image/png": "[encoded data removed]",
      "text/plain": [
       "<Figure size 432x288 with 1 Axes>"
      ]
     },
     "metadata": {
      "needs_background": "light"
     },
     "output_type": "display_data"
    },
    {
     "data": {
      "image/png": "[encoded data removed]",
      "text/plain": [
       "<Figure size 432x288 with 1 Axes>"
      ]
     },
     "metadata": {
      "needs_background": "light"
     },
     "output_type": "display_data"
    }
   ],
   "source": [
    "from time import time\n",
    "def rand_ints(lo, hi, length):\n",
    "    ints = list(randint(lo, hi, length))\n",
    "    ints = [int(x) for x in ints]\n",
    "    return ints\n",
    "\n",
    "def record(array, value, name):\n",
    "    array.append(value)\n",
    "    print(\"%s%f\" % (name, value))\n",
    "\n",
    "fft_times = []\n",
    "naive_times = []\n",
    "speed_ups = []\n",
    "\n",
    "for i in range(1,5):\n",
    "    n = 10 ** i\n",
    "    print(\"\\nsize: %d\" % n)\n",
    "    poly1 = rand_ints(1, 100, n)\n",
    "    poly2 = rand_ints(1, 100, n)\n",
    "    time1 = time()\n",
    "    fft_res = poly_multiply(poly1, poly2)\n",
    "    fft_res = zero_pop(round_complex_to_int(fft_res))\n",
    "    time2 = time()\n",
    "    fft_time = time2 - time1\n",
    "    record(fft_times, fft_time, \"FFT time:   \")\n",
    "    naive_res = poly_multiply_naive(poly1, poly2)\n",
    "    naive_res = zero_pop(naive_res)\n",
    "    time3 = time()\n",
    "    naive_time = time3 - time2\n",
    "    record(naive_times, naive_time, \"naive time: \")\n",
    "    assert fft_res == naive_res\n",
    "    speed_up = naive_time / fft_time\n",
    "    record(speed_ups, speed_up, \"speed up: \")\n",
    "\n",
    "plt.plot(fft_times, label=\"FFT\")\n",
    "plt.plot(naive_times, label=\"Naive\")\n",
    "plt.xlabel(\"Log Input Size\")\n",
    "plt.ylabel(\"Run Time (seconds)\")\n",
    "plt.legend(loc=\"upper left\")\n",
    "plt.title(\"Polynomial Multiplication Runtime\")\n",
    "\n",
    "plt.figure()\n",
    "plt.plot(speed_ups)\n",
    "plt.xlabel(\"Log Input Size\")\n",
    "plt.ylabel(\"Speedup\")\n",
    "plt.title(\"FFT Polynomial Multiplication Speedup\")"
   ]
  },
  {
   "cell_type": "markdown",
   "metadata": {},
   "source": [
    "Contributors: Nate Young, Param Nagda, yxu"
   ]
  },
  {
   "cell_type": "code",
   "execution_count": null,
   "metadata": {},
   "outputs": [],
   "source": []
  }
 ],
 "metadata": {
  "history": [
   {
    "code": "import math\nimport cmath",
    "id": "50eb5a609d89476c9e25c74e5f49aecc",
    "idx": 1,
    "time": "2021-01-30T20:23:42.651Z",
    "type": "execution"
   },
   {
    "id": "50eb5a609d89476c9e25c74e5f49aecc",
    "time": "2021-01-30T20:23:42.718Z",
    "type": "completion"
   },
   {
    "code": "def next_power_of_2(n):\n    ret = 1\n    while ret < n:\n        ret *= 2\n    return ret\n\n# note that the sine function is math.sin(x) and the cosine function is math.cos(x)\ndef calc_nth_root(n):\n    theta_n = 2 * math.pi / n\n    a = sin(theta_n)\n    b = cos(theta_n)\n    return a + b * 1j\n\ndef calc_all_nth_roots(n):\n    root = calc_nth_root(n)\n    return [root**k for k in range(n)] \n",
    "id": "1d47483fb6de44a39120a8330831045b",
    "idx": 14,
    "time": "2021-01-30T20:52:07.251Z",
    "type": "execution"
   },
   {
    "id": "1d47483fb6de44a39120a8330831045b",
    "time": "2021-01-30T20:52:07.320Z",
    "type": "completion"
   },
   {
    "code": "root = calc_nth_root(8)\n\nfor i in range(3):\n    print(\"The \" + str(2**(3-i)) + \"-th root of unity is: \" + str(root**i))\n    ",
    "id": "51b8740fc0db4fc2bd5b0d8ac4e87ac2",
    "idx": 16,
    "time": "2021-01-30T20:52:08.466Z",
    "type": "execution"
   },
   {
    "id": "51b8740fc0db4fc2bd5b0d8ac4e87ac2",
    "time": "2021-01-30T20:52:08.589Z",
    "type": "completion"
   },
   {
    "code": "def next_power_of_2(n):\n    ret = 1\n    while ret < n:\n        ret *= 2\n    return ret\n\n# note that the sine function is math.sin(x) and the cosine function is math.cos(x)\ndef calc_nth_root(n):\n    theta_n = 2 * math.pi / n\n    a = math.sin(theta_n)\n    b = math.cos(theta_n)\n    return a + b * 1j\n\ndef calc_all_nth_roots(n):\n    root = calc_nth_root(n)\n    return [root**k for k in range(n)] \n",
    "id": "1d47483fb6de44a39120a8330831045b",
    "idx": 14,
    "time": "2021-01-30T20:52:17.743Z",
    "type": "execution"
   },
   {
    "id": "1d47483fb6de44a39120a8330831045b",
    "time": "2021-01-30T20:52:17.819Z",
    "type": "completion"
   },
   {
    "code": "root = calc_nth_root(8)\n\nfor i in range(3):\n    print(\"The \" + str(2**(3-i)) + \"-th root of unity is: \" + str(root**i))\n    ",
    "id": "51b8740fc0db4fc2bd5b0d8ac4e87ac2",
    "idx": 16,
    "time": "2021-01-30T20:52:18.760Z",
    "type": "execution"
   },
   {
    "id": "51b8740fc0db4fc2bd5b0d8ac4e87ac2",
    "time": "2021-01-30T20:52:18.823Z",
    "type": "completion"
   },
   {
    "code": "root = calc_nth_root(8)\n\nfor i in range(3):\n    print(\"The \" + str(2**(3-i)) + \"-th root of unity is: \" + str(root**(i+1)))\n    ",
    "id": "51b8740fc0db4fc2bd5b0d8ac4e87ac2",
    "idx": 16,
    "time": "2021-01-30T20:52:40.530Z",
    "type": "execution"
   },
   {
    "id": "51b8740fc0db4fc2bd5b0d8ac4e87ac2",
    "time": "2021-01-30T20:52:40.595Z",
    "type": "completion"
   },
   {
    "code": "root = calc_nth_root(8)\n\nfor i in range(3):\n    print(\"The \" + str(2**(3-i)) + \"-th root of unity is: \" + str(root**(2**i)))\n    ",
    "id": "51b8740fc0db4fc2bd5b0d8ac4e87ac2",
    "idx": 16,
    "time": "2021-01-30T20:52:55.220Z",
    "type": "execution"
   },
   {
    "id": "51b8740fc0db4fc2bd5b0d8ac4e87ac2",
    "time": "2021-01-30T20:52:55.284Z",
    "type": "completion"
   },
   {
    "code": "root = calc_nth_root(8)\n\nfor i in range(4):\n    print(\"The \" + str(2**(3-i)) + \"-th root of unity is: \" + str(root**(2**i)))\n    ",
    "id": "51b8740fc0db4fc2bd5b0d8ac4e87ac2",
    "idx": 16,
    "time": "2021-01-30T20:53:11.770Z",
    "type": "execution"
   },
   {
    "id": "51b8740fc0db4fc2bd5b0d8ac4e87ac2",
    "time": "2021-01-30T20:53:11.837Z",
    "type": "completion"
   },
   {
    "code": "root = calc_nth_root(8)\n\nfor i in range(5):\n    print(\"The \" + str(2**(3-i)) + \"-th root of unity is: \" + str(root**(2**i)))\n    ",
    "id": "51b8740fc0db4fc2bd5b0d8ac4e87ac2",
    "idx": 16,
    "time": "2021-01-30T20:53:19.487Z",
    "type": "execution"
   },
   {
    "id": "51b8740fc0db4fc2bd5b0d8ac4e87ac2",
    "time": "2021-01-30T20:53:19.550Z",
    "type": "completion"
   },
   {
    "code": "root = calc_nth_root(8)\n\nfor i in range(8):\n    print(\"The \" + str(2**(3-i)) + \"-th root of unity is: \" + str(root**(2**i)))\n    ",
    "id": "51b8740fc0db4fc2bd5b0d8ac4e87ac2",
    "idx": 16,
    "time": "2021-01-30T20:53:25.045Z",
    "type": "execution"
   },
   {
    "id": "51b8740fc0db4fc2bd5b0d8ac4e87ac2",
    "time": "2021-01-30T20:53:25.109Z",
    "type": "completion"
   },
   {
    "code": "root = calc_nth_root(8)\n\nfor i in range(8):\n    print(root)\n    root **= 2\n    #print(\"The \" + str(2**(3-i)) + \"-th root of unity is: \" + str(root**(2**i)))\n    ",
    "id": "51b8740fc0db4fc2bd5b0d8ac4e87ac2",
    "idx": 16,
    "time": "2021-01-30T20:53:56.547Z",
    "type": "execution"
   },
   {
    "id": "51b8740fc0db4fc2bd5b0d8ac4e87ac2",
    "time": "2021-01-30T20:53:56.610Z",
    "type": "completion"
   },
   {
    "code": "plt.scatter(x, y) \nplt.ylabel('Imaginary') \nplt.xlabel('Real') \nplt.show() ",
    "id": "51b8740fc0db4fc2bd5b0d8ac4e87ac2",
    "idx": 16,
    "time": "2021-01-30T21:01:52.610Z",
    "type": "execution"
   },
   {
    "id": "51b8740fc0db4fc2bd5b0d8ac4e87ac2",
    "time": "2021-01-30T21:01:52.698Z",
    "type": "completion"
   },
   {
    "code": "import math\nimport cmath\nfrom numpy.random import randint\nfrom time import time\nimport matplotlib.pyplot as plt",
    "id": "50eb5a609d89476c9e25c74e5f49aecc",
    "idx": 1,
    "time": "2021-01-30T21:02:08.763Z",
    "type": "execution"
   },
   {
    "id": "50eb5a609d89476c9e25c74e5f49aecc",
    "time": "2021-01-30T21:02:11.889Z",
    "type": "completion"
   },
   {
    "code": "plt.scatter(x, y) \nplt.ylabel('Imaginary') \nplt.xlabel('Real') \nplt.show() ",
    "id": "51b8740fc0db4fc2bd5b0d8ac4e87ac2",
    "idx": 16,
    "time": "2021-01-30T21:02:17.514Z",
    "type": "execution"
   },
   {
    "id": "51b8740fc0db4fc2bd5b0d8ac4e87ac2",
    "time": "2021-01-30T21:02:17.613Z",
    "type": "completion"
   },
   {
    "code": "def next_power_of_2(n):\n    ret = 1\n    while ret < n:\n        ret *= 2\n    return ret\n\n# note that the sine function is math.sin(x) and the cosine function is math.cos(x)\ndef calc_nth_root(n):\n    theta_n = 2 * math.pi / n\n    a = math.sin(theta_n)\n    b = math.cos(theta_n)\n    return a + b * 1j\n\ndef calc_all_nth_roots(n):\n    root = calc_nth_root(n)\n    return [root**k for k in range(n)] \n",
    "id": "1d47483fb6de44a39120a8330831045b",
    "idx": 14,
    "time": "2021-01-30T21:02:20.777Z",
    "type": "execution"
   },
   {
    "id": "1d47483fb6de44a39120a8330831045b",
    "time": "2021-01-30T21:02:20.876Z",
    "type": "completion"
   },
   {
    "code": "plt.scatter(calc_all_nth_roots(8)) \nplt.ylabel('Imaginary') \nplt.xlabel('Real') \nplt.show() ",
    "id": "51b8740fc0db4fc2bd5b0d8ac4e87ac2",
    "idx": 16,
    "time": "2021-01-30T21:02:32.320Z",
    "type": "execution"
   },
   {
    "id": "51b8740fc0db4fc2bd5b0d8ac4e87ac2",
    "time": "2021-01-30T21:02:32.387Z",
    "type": "completion"
   },
   {
    "code": "N = 8 # feel free to change this value and observe what happens\nroots = calc_all_nth_roots(N)\nplt.scatter([r.real for r in roots], [r.imaginary for r in roots]) \nplt.ylabel('Imaginary') \nplt.xlabel('Real') \nplt.show() ",
    "id": "51b8740fc0db4fc2bd5b0d8ac4e87ac2",
    "idx": 16,
    "time": "2021-01-30T21:03:36.277Z",
    "type": "execution"
   },
   {
    "id": "51b8740fc0db4fc2bd5b0d8ac4e87ac2",
    "time": "2021-01-30T21:03:36.390Z",
    "type": "completion"
   },
   {
    "code": "N = 8 # feel free to change this value and observe what happens\nroots = calc_all_nth_roots(N)\nplt.scatter([r.real for r in roots], [r.im for r in roots]) \nplt.ylabel('Imaginary') \nplt.xlabel('Real') \nplt.show() ",
    "id": "51b8740fc0db4fc2bd5b0d8ac4e87ac2",
    "idx": 16,
    "time": "2021-01-30T21:03:43.344Z",
    "type": "execution"
   },
   {
    "id": "51b8740fc0db4fc2bd5b0d8ac4e87ac2",
    "time": "2021-01-30T21:03:43.416Z",
    "type": "completion"
   },
   {
    "code": "N = 8 # feel free to change this value and observe what happens\nroots = calc_all_nth_roots(N)\nplt.scatter([r.real for r in roots], [r.imag for r in roots]) \nplt.ylabel('Imaginary') \nplt.xlabel('Real') \nplt.show() ",
    "id": "51b8740fc0db4fc2bd5b0d8ac4e87ac2",
    "idx": 16,
    "time": "2021-01-30T21:04:05.382Z",
    "type": "execution"
   },
   {
    "id": "51b8740fc0db4fc2bd5b0d8ac4e87ac2",
    "time": "2021-01-30T21:04:05.657Z",
    "type": "completion"
   },
   {
    "code": "N = 8 # feel free to change this value and observe what happens\nroots = calc_all_nth_roots(N)\nplt.scatter([r.real for r in roots], [r.imag for r in roots]) \nplt.figure().set_figwidth(4)\nplt.figure().set_figheight(4)\nplt.ylabel('Imaginary') \nplt.xlabel('Real') \nplt.show() ",
    "id": "51b8740fc0db4fc2bd5b0d8ac4e87ac2",
    "idx": 16,
    "time": "2021-01-30T21:05:28.532Z",
    "type": "execution"
   },
   {
    "id": "51b8740fc0db4fc2bd5b0d8ac4e87ac2",
    "time": "2021-01-30T21:05:28.866Z",
    "type": "completion"
   },
   {
    "code": "N = 8 # feel free to change this value and observe what happens\nroots = calc_all_nth_roots(N)\nplt.scatter([r.real for r in roots], [r.imag for r in roots]) \nplt.figure().set_figwidth(4).set_figheight(4)\nplt.ylabel('Imaginary') \nplt.xlabel('Real') \nplt.show() ",
    "id": "51b8740fc0db4fc2bd5b0d8ac4e87ac2",
    "idx": 16,
    "time": "2021-01-30T21:05:55.443Z",
    "type": "execution"
   },
   {
    "id": "51b8740fc0db4fc2bd5b0d8ac4e87ac2",
    "time": "2021-01-30T21:05:55.739Z",
    "type": "completion"
   },
   {
    "code": "N = 8 # feel free to change this value and observe what happens\nroots = calc_all_nth_roots(N)\nplt.scatter([r.real for r in roots], [r.imag for r in roots]) \nf = plt.figure()\nf.set_figwidth(4)\nf.set_figheight(4)\nplt.ylabel('Imaginary') \nplt.xlabel('Real') \nplt.show() ",
    "id": "51b8740fc0db4fc2bd5b0d8ac4e87ac2",
    "idx": 16,
    "time": "2021-01-30T21:06:10.935Z",
    "type": "execution"
   },
   {
    "id": "51b8740fc0db4fc2bd5b0d8ac4e87ac2",
    "time": "2021-01-30T21:06:11.263Z",
    "type": "completion"
   },
   {
    "code": "N = 8 # feel free to change this value and observe what happens\nroots = calc_all_nth_roots(N)\nf = plt.figure()\nf.set_figwidth(4)\nf.set_figheight(4)\nplt.scatter([r.real for r in roots], [r.imag for r in roots]) \nplt.ylabel('Imaginary') \nplt.xlabel('Real') \nplt.show() ",
    "id": "51b8740fc0db4fc2bd5b0d8ac4e87ac2",
    "idx": 16,
    "time": "2021-01-30T21:06:23.130Z",
    "type": "execution"
   },
   {
    "id": "51b8740fc0db4fc2bd5b0d8ac4e87ac2",
    "time": "2021-01-30T21:06:23.345Z",
    "type": "completion"
   },
   {
    "code": "N = 8 # feel free to change this value and observe what happens\nroots = calc_all_nth_roots(N)\nf = plt.figure()\nf.set_figwidth(4)\nf.set_figheight(4)\nplt.scatter([r.real for r in roots], [r.imag for r in roots]) \nplt.ylabel('Imaginary') \nplt.xlabel('Real') \nplt.grid(True)\nplt.show() ",
    "id": "51b8740fc0db4fc2bd5b0d8ac4e87ac2",
    "idx": 16,
    "time": "2021-01-30T21:06:59.304Z",
    "type": "execution"
   },
   {
    "id": "51b8740fc0db4fc2bd5b0d8ac4e87ac2",
    "time": "2021-01-30T21:06:59.514Z",
    "type": "completion"
   },
   {
    "code": "N = 8 # feel free to change this value and observe what happens\nroots = calc_all_nth_roots(N)\nf = plt.figure()\nf.set_figwidth(4)\nf.set_figheight(4)\nplt.scatter([r.real for r in roots], [r.imag for r in roots]) \nplt.ylabel('Imaginary') \nplt.xlabel('Real') \nplt.grid(True)\nplt.axes()\nplt.show() ",
    "id": "51b8740fc0db4fc2bd5b0d8ac4e87ac2",
    "idx": 16,
    "time": "2021-01-30T21:07:34.437Z",
    "type": "execution"
   },
   {
    "id": "51b8740fc0db4fc2bd5b0d8ac4e87ac2",
    "time": "2021-01-30T21:07:34.676Z",
    "type": "completion"
   },
   {
    "code": "N = 8 # feel free to change this value and observe what happens\nroots = calc_all_nth_roots(N)\nf = plt.figure()\nf.set_figwidth(4)\nf.set_figheight(4)\nplt.scatter([r.real for r in roots], [r.imag for r in roots]) \nplt.ylabel('Imaginary') \nplt.xlabel('Real') \nplt.grid(True)\n# set the x-spine (see below for more info on `set_position`)\nax.spines['left'].set_position('zero')\n\n# turn off the right spine/ticks\nax.spines['right'].set_color('none')\nax.yaxis.tick_left()\n\n# set the y-spine\nax.spines['bottom'].set_position('zero')\n\n# turn off the top spine/ticks\nax.spines['top'].set_color('none')\nax.xaxis.tick_bottom()\nplt.show() ",
    "id": "51b8740fc0db4fc2bd5b0d8ac4e87ac2",
    "idx": 16,
    "time": "2021-01-30T21:08:28.391Z",
    "type": "execution"
   },
   {
    "id": "51b8740fc0db4fc2bd5b0d8ac4e87ac2",
    "time": "2021-01-30T21:08:28.617Z",
    "type": "completion"
   },
   {
    "code": "N = 8 # feel free to change this value and observe what happens\nroots = calc_all_nth_roots(N)\nfig, ax = plt.subplots()\nfig.set_figwidth(4)\nfig.set_figheight(4)\nplt.scatter([r.real for r in roots], [r.imag for r in roots]) \nplt.ylabel('Imaginary') \nplt.xlabel('Real') \nplt.grid(True)\n# set the x-spine (see below for more info on `set_position`)\nax.spines['left'].set_position('zero')\n\n# turn off the right spine/ticks\nax.spines['right'].set_color('none')\nax.yaxis.tick_left()\n\n# set the y-spine\nax.spines['bottom'].set_position('zero')\n\n# turn off the top spine/ticks\nax.spines['top'].set_color('none')\nax.xaxis.tick_bottom()\nplt.show() ",
    "id": "51b8740fc0db4fc2bd5b0d8ac4e87ac2",
    "idx": 16,
    "time": "2021-01-30T21:08:52.957Z",
    "type": "execution"
   },
   {
    "id": "51b8740fc0db4fc2bd5b0d8ac4e87ac2",
    "time": "2021-01-30T21:08:53.200Z",
    "type": "completion"
   },
   {
    "code": "N = 8 # feel free to change this value and observe what happens\nroots = calc_all_nth_roots(N)\nfig, ax = plt.subplots()\nfig.set_figwidth(4)\nfig.set_figheight(4)\nplt.scatter([r.real for r in roots], [r.imag for r in roots]) \nplt.grid(True)\n# set the x-spine (see below for more info on `set_position`)\nax.spines['left'].set_position('zero')\n\n# turn off the right spine/ticks\nax.spines['right'].set_color('none')\nax.yaxis.tick_left()\n\n# set the y-spine\nax.spines['bottom'].set_position('zero')\n\n# turn off the top spine/ticks\nax.spines['top'].set_color('none')\nax.xaxis.tick_bottom()\nplt.show() ",
    "id": "51b8740fc0db4fc2bd5b0d8ac4e87ac2",
    "idx": 16,
    "time": "2021-01-30T21:09:03.078Z",
    "type": "execution"
   },
   {
    "id": "51b8740fc0db4fc2bd5b0d8ac4e87ac2",
    "time": "2021-01-30T21:09:03.319Z",
    "type": "completion"
   },
   {
    "code": "N = 8 # feel free to change this value and observe what happens\nroots = calc_all_nth_roots(N)\nfig, ax = plt.subplots()\nfig.set_figwidth(4)\nfig.set_figheight(4)\nplt.scatter([r.real for r in roots], [r.imag for r in roots]) \nplt.grid(True)\n# set the x-spine (see below for more info on `set_position`)\nax.spines['left'].set_position('zero')\n\n# turn off the right spine/ticks\nax.spines['right'].set_color('none')\n\n# set the y-spine\nax.spines['bottom'].set_position('zero')\n\n# turn off the top spine/ticks\nax.spines['top'].set_color('none')\nplt.show() ",
    "id": "51b8740fc0db4fc2bd5b0d8ac4e87ac2",
    "idx": 16,
    "time": "2021-01-30T21:11:12.155Z",
    "type": "execution"
   },
   {
    "id": "51b8740fc0db4fc2bd5b0d8ac4e87ac2",
    "time": "2021-01-30T21:11:12.392Z",
    "type": "completion"
   },
   {
    "code": "N = 8 # feel free to change this value and observe what happens\nroots = calc_all_nth_roots(N)\nf = plt.figure()\nf.set_figwidth(4)\nf.set_figheight(4)\nplt.scatter([r.real for r in roots], [r.imag for r in roots]) \nplt.grid(True)\n# set the x-spine (see below for more info on `set_position`)\nax.spines['left'].set_position('zero')\n\n# turn off the right spine/ticks\nax.spines['right'].set_color('none')\nax.yaxis.tick_left()\n\n# set the y-spine\nax.spines['bottom'].set_position('zero')\n\n# turn off the top spine/ticks\nax.spines['top'].set_color('none')\nax.xaxis.tick_bottom()\nplt.show() ",
    "id": "51b8740fc0db4fc2bd5b0d8ac4e87ac2",
    "idx": 16,
    "time": "2021-01-30T21:16:31.647Z",
    "type": "execution"
   },
   {
    "id": "51b8740fc0db4fc2bd5b0d8ac4e87ac2",
    "time": "2021-01-30T21:16:31.953Z",
    "type": "completion"
   },
   {
    "code": "N = 8 # feel free to change this value and observe what happens\nroots = calc_all_nth_roots(N)\nf = plt.figure()\nf.set_figwidth(4)\nf.set_figheight(4)\nplt.scatter([r.real for r in roots], [r.imag for r in roots]) \nplt.grid(True)\n# set the x-spine (see below for more info on `set_position`)\nax.spines['left'].set_position('zero')\n\n# turn off the right spine/ticks\nax.spines['right'].set_color('none')\nax.yaxis.tick_left()\n\n# set the y-spine\nax.spines['bottom'].set_position('zero')\n\n# turn off the top spine/ticks\nax.spines['top'].set_color('none')\nax.xaxis.tick_bottom()\nplt.show() ",
    "id": "51b8740fc0db4fc2bd5b0d8ac4e87ac2",
    "idx": 16,
    "time": "2021-01-30T21:16:44.406Z",
    "type": "execution"
   },
   {
    "id": "51b8740fc0db4fc2bd5b0d8ac4e87ac2",
    "time": "2021-01-30T21:16:44.648Z",
    "type": "completion"
   },
   {
    "code": "N = 8 # feel free to change this value and observe what happens\nroots = calc_all_nth_roots(N)\nf = plt.figure()\nf.set_figwidth(4)\nf.set_figheight(4)\nplt.scatter([r.real for r in roots], [r.imag for r in roots]) \n# set the x-spine (see below for more info on `set_position`)\nax.spines['left'].set_position('zero')\n\n# turn off the right spine/ticks\nax.spines['right'].set_color('none')\nax.yaxis.tick_left()\n\n# set the y-spine\nax.spines['bottom'].set_position('zero')\n\n# turn off the top spine/ticks\nax.spines['top'].set_color('none')\nax.xaxis.tick_bottom()\nplt.show() ",
    "id": "51b8740fc0db4fc2bd5b0d8ac4e87ac2",
    "idx": 16,
    "time": "2021-01-30T21:17:08.345Z",
    "type": "execution"
   },
   {
    "id": "51b8740fc0db4fc2bd5b0d8ac4e87ac2",
    "time": "2021-01-30T21:17:08.589Z",
    "type": "completion"
   },
   {
    "code": "N = 8 # feel free to change this value and observe what happens\nroots = calc_all_nth_roots(N)\nf,ax = plt.subplot()\nf.set_figwidth(4)\nf.set_figheight(4)\nplt.scatter([r.real for r in roots], [r.imag for r in roots]) \n# set the x-spine (see below for more info on `set_position`)\nax.spines['left'].set_position('zero')\n\n# turn off the right spine/ticks\nax.spines['right'].set_color('none')\nax.yaxis.tick_left()\n\n# set the y-spine\nax.spines['bottom'].set_position('zero')\n\n# turn off the top spine/ticks\nax.spines['top'].set_color('none')\nax.xaxis.tick_bottom()\nplt.show() ",
    "id": "51b8740fc0db4fc2bd5b0d8ac4e87ac2",
    "idx": 16,
    "time": "2021-01-30T21:17:28.766Z",
    "type": "execution"
   },
   {
    "id": "51b8740fc0db4fc2bd5b0d8ac4e87ac2",
    "time": "2021-01-30T21:17:28.940Z",
    "type": "completion"
   },
   {
    "code": "N = 8 # feel free to change this value and observe what happens\nroots = calc_all_nth_roots(N)\nf,ax = plt.subplots()\nf.set_figwidth(4)\nf.set_figheight(4)\nplt.scatter([r.real for r in roots], [r.imag for r in roots]) \n# set the x-spine (see below for more info on `set_position`)\nax.spines['left'].set_position('zero')\n\n# turn off the right spine/ticks\nax.spines['right'].set_color('none')\nax.yaxis.tick_left()\n\n# set the y-spine\nax.spines['bottom'].set_position('zero')\n\n# turn off the top spine/ticks\nax.spines['top'].set_color('none')\nax.xaxis.tick_bottom()\nplt.show() ",
    "id": "51b8740fc0db4fc2bd5b0d8ac4e87ac2",
    "idx": 16,
    "time": "2021-01-30T21:17:33.774Z",
    "type": "execution"
   },
   {
    "id": "51b8740fc0db4fc2bd5b0d8ac4e87ac2",
    "time": "2021-01-30T21:17:33.984Z",
    "type": "completion"
   },
   {
    "code": "N = 8 # feel free to change this value and observe what happens\nroots = calc_all_nth_roots(N)\nf,ax = plt.subplots()\nf.set_figwidth(4)\nf.set_figheight(4)\nplt.scatter([r.real for r in roots], [r.imag for r in roots]) \nax.spines['left'].set_position('zero')\nax.spines['right'].set_color('none')\nax.yaxis.tick_left()\nax.spines['bottom'].set_position('zero')\nax.spines['top'].set_color('none')\nax.xaxis.tick_bottom()\nax.set_xlim([-1.2,1.2])\nax.set_ylim([-1.2,1.2])\nax.set_xticks([-1, -0.5, 0, 0.5, 1])\nax.set_yticks([-1, -0.5, 0, 0.5, 1])\nplt.show() ",
    "id": "51b8740fc0db4fc2bd5b0d8ac4e87ac2",
    "idx": 16,
    "time": "2021-01-30T21:19:55.325Z",
    "type": "execution"
   },
   {
    "id": "51b8740fc0db4fc2bd5b0d8ac4e87ac2",
    "time": "2021-01-30T21:19:55.528Z",
    "type": "completion"
   },
   {
    "code": "N = 8 # feel free to change this value and observe what happens\nroots = calc_all_nth_roots(N)\nf,ax = plt.subplots()\nf.set_figwidth(4)\nf.set_figheight(4)\nplt.scatter([r.real for r in roots], [r.imag for r in roots]) \nax.spines['left'].set_position('zero')\nax.spines['right'].set_color('none')\nax.yaxis.tick_left()\nax.spines['bottom'].set_position('zero')\nax.spines['top'].set_color('none')\n\nax.set_xlim([-1.2,1.2])\nax.set_ylim([-1.2,1.2])\nax.set_xticks([-1, -0.5, 0, 0.5, 1])\nax.set_yticks([-1, -0.5, 0, 0.5, 1])\nax.xaxis.tick_bottom()\nplt.show() ",
    "id": "51b8740fc0db4fc2bd5b0d8ac4e87ac2",
    "idx": 16,
    "time": "2021-01-30T21:20:12.234Z",
    "type": "execution"
   },
   {
    "id": "51b8740fc0db4fc2bd5b0d8ac4e87ac2",
    "time": "2021-01-30T21:20:12.438Z",
    "type": "completion"
   },
   {
    "code": "N = 8 # feel free to change this value and observe what happens\nroots = calc_all_nth_roots(N)\nf,ax = plt.subplots()\nf.set_figwidth(4)\nf.set_figheight(4)\nplt.scatter([r.real for r in roots], [r.imag for r in roots]) \nax.spines['left'].set_position('zero')\nax.spines['right'].set_color('none')\nax.yaxis.tick_left()\nax.spines['bottom'].set_position('zero')\nax.spines['top'].set_color('none')\nax.set_xlim([-1.2,1.2])\nax.set_ylim([-1.2,1.2])\nax.set_xticks([-1, -0.5, 0.5, 1])\nax.set_yticks([-1, -0.5, 0.5, 1])\nax.xaxis.tick_bottom()\nplt.show() ",
    "id": "51b8740fc0db4fc2bd5b0d8ac4e87ac2",
    "idx": 16,
    "time": "2021-01-30T21:20:28.646Z",
    "type": "execution"
   },
   {
    "id": "51b8740fc0db4fc2bd5b0d8ac4e87ac2",
    "time": "2021-01-30T21:20:28.823Z",
    "type": "completion"
   },
   {
    "code": "N = 8 # feel free to change this value and observe what happens\nroots = calc_all_nth_roots(N)\nf,ax = plt.subplots()\nf.set_figwidth(4)\nf.set_figheight(4)\nplt.scatter([r.real for r in roots], [r.imag for r in roots]) \nax.spines['left'].set_position('zero')\nax.spines['right'].set_color('none')\nax.yaxis.tick_left()\nax.spines['bottom'].set_position('zero')\nax.spines['top'].set_color('none')\nax.set_xlim([-1.2,1.2])\nax.set_ylim([-1.2,1.2])\nax.set_xticks([-1, -0.5,0, 0.5, 1])\nax.set_yticks([-1, -0.5, 0.5, 1])\nax.xaxis.tick_bottom()\nplt.show() ",
    "id": "51b8740fc0db4fc2bd5b0d8ac4e87ac2",
    "idx": 16,
    "time": "2021-01-30T21:20:38.052Z",
    "type": "execution"
   },
   {
    "id": "51b8740fc0db4fc2bd5b0d8ac4e87ac2",
    "time": "2021-01-30T21:20:38.234Z",
    "type": "completion"
   },
   {
    "code": "N = 8 # feel free to change this value and observe what happens\nroots = calc_all_nth_roots(N)\nf,ax = plt.subplots()\nf.set_figwidth(4)\nf.set_figheight(4)\nplt.scatter([r.real for r in roots], [r.imag for r in roots]) \nax.spines['left'].set_position('zero')\nax.spines['right'].set_color('none')\nax.yaxis.tick_left()\nax.spines['bottom'].set_position('zero')\nax.spines['top'].set_color('none')\nax.set_xlim([-1.2,1.2])\nax.set_ylim([-1.2,1.2])\nax.set_xticks([-1, -0.5, 0.5, 1])\nax.set_yticks([-1, -0.5, 0, 0.5, 1])\nax.xaxis.tick_bottom()\nplt.show() ",
    "id": "51b8740fc0db4fc2bd5b0d8ac4e87ac2",
    "idx": 16,
    "time": "2021-01-30T21:20:46.524Z",
    "type": "execution"
   },
   {
    "id": "51b8740fc0db4fc2bd5b0d8ac4e87ac2",
    "time": "2021-01-30T21:20:46.700Z",
    "type": "completion"
   },
   {
    "code": "N = 8 # feel free to change this value and observe what happens\nroots = calc_all_nth_roots(N)\nf,ax = plt.subplots()\nf.set_figwidth(4)\nf.set_figheight(4)\nplt.scatter([r.real for r in roots], [r.imag for r in roots]) \nax.spines['left'].set_position('zero')\nax.spines['right'].set_color('none')\nax.yaxis.tick_left()\nax.spines['bottom'].set_position('zero')\nax.spines['top'].set_color('none')\nax.set_xlim([-1.2,1.2])\nax.set_ylim([-1.2,1.2])\nax.set_xticks([-1, -0.5, 0.5, 1])\nax.set_yticks([-1, -0.5, 0.5, 1])\nax.xaxis.tick_bottom()\nplt.show() ",
    "id": "51b8740fc0db4fc2bd5b0d8ac4e87ac2",
    "idx": 16,
    "time": "2021-01-30T21:21:03.422Z",
    "type": "execution"
   },
   {
    "id": "51b8740fc0db4fc2bd5b0d8ac4e87ac2",
    "time": "2021-01-30T21:21:03.636Z",
    "type": "completion"
   },
   {
    "code": "N = 16 # feel free to change this value and observe what happens\nroots = calc_all_nth_roots(N)\n\n# Plot\nf,ax = plt.subplots()\nf.set_figwidth(4)\nf.set_figheight(4)\nplt.scatter([r.real for r in roots], [r.imag for r in roots]) \nax.spines['left'].set_position('zero')\nax.spines['right'].set_color('none')\nax.yaxis.tick_left()\nax.spines['bottom'].set_position('zero')\nax.spines['top'].set_color('none')\nax.set_xlim([-1.2,1.2])\nax.set_ylim([-1.2,1.2])\nax.set_xticks([-1, -0.5, 0.5, 1])\nax.set_yticks([-1, -0.5, 0.5, 1])\nax.xaxis.tick_bottom()\nplt.show() ",
    "id": "51b8740fc0db4fc2bd5b0d8ac4e87ac2",
    "idx": 16,
    "time": "2021-01-30T21:21:37.175Z",
    "type": "execution"
   },
   {
    "id": "51b8740fc0db4fc2bd5b0d8ac4e87ac2",
    "time": "2021-01-30T21:21:37.405Z",
    "type": "completion"
   },
   {
    "code": "N = 8 # feel free to change this value and observe what happens\nroots = calc_all_nth_roots(N)\n\n# Plot\nf,ax = plt.subplots()\nf.set_figwidth(4)\nf.set_figheight(4)\nplt.scatter([r.real for r in roots], [r.imag for r in roots]) \nax.spines['left'].set_position('zero')\nax.spines['right'].set_color('none')\nax.yaxis.tick_left()\nax.spines['bottom'].set_position('zero')\nax.spines['top'].set_color('none')\nax.set_xlim([-1.2,1.2])\nax.set_ylim([-1.2,1.2])\nax.set_xticks([-1, -0.5, 0.5, 1])\nax.set_yticks([-1, -0.5, 0.5, 1])\nax.xaxis.tick_bottom()\nplt.show() ",
    "id": "51b8740fc0db4fc2bd5b0d8ac4e87ac2",
    "idx": 16,
    "time": "2021-01-30T21:21:41.313Z",
    "type": "execution"
   },
   {
    "id": "51b8740fc0db4fc2bd5b0d8ac4e87ac2",
    "time": "2021-01-30T21:21:41.479Z",
    "type": "completion"
   },
   {
    "code": "lst = [1,2,3,4]\nlst[::2]",
    "id": "2026e206803847478334dbf541d56731",
    "idx": 7,
    "time": "2021-01-30T21:25:11.424Z",
    "type": "execution"
   },
   {
    "id": "2026e206803847478334dbf541d56731",
    "time": "2021-01-30T21:25:11.519Z",
    "type": "completion"
   },
   {
    "code": "lst = [1,2,3,4]\nlst[1::2]",
    "id": "2026e206803847478334dbf541d56731",
    "idx": 7,
    "time": "2021-01-30T21:25:15.080Z",
    "type": "execution"
   },
   {
    "id": "2026e206803847478334dbf541d56731",
    "time": "2021-01-30T21:25:15.143Z",
    "type": "completion"
   },
   {
    "code": "def FFT(coeffs, roots):\n    ### YOUR SOLUTION HERE ###\n    if len(coeffs) == 0:\n        return [0]\n    if len(coeffs) == 1:\n        return coeffs\n    odds = FFT(coeffs[1::2], roots[::2])\n    odds = [roots[1] * x for x in odds]\n    return FFT(coeffs[::2], roots[::2]) + odds\n    \n    ",
    "id": "96c336dfe1cb423b9cd56033a92000aa",
    "idx": 6,
    "time": "2021-01-30T21:26:44.824Z",
    "type": "execution"
   },
   {
    "id": "96c336dfe1cb423b9cd56033a92000aa",
    "time": "2021-01-30T21:26:44.893Z",
    "type": "completion"
   },
   {
    "code": "expected = [6, -2+2j, 2, -2-2j]\nactual = FFT([1, 2, 3], [1, 1j, -1, -1j])\nprint(\"expected: {}\".format(expected))\nprint(\"actual:   {}\".format(actual))",
    "id": "6424886cf8f142deb19224ddcfb75344",
    "idx": 10,
    "time": "2021-01-30T21:26:48.705Z",
    "type": "execution"
   },
   {
    "id": "6424886cf8f142deb19224ddcfb75344",
    "time": "2021-01-30T21:26:48.775Z",
    "type": "completion"
   },
   {
    "code": "def FFT(coeffs, roots):\n    ### YOUR SOLUTION HERE ###\n    if len(coeffs) == 0:\n        return [0]\n    if len(coeffs) == 1:\n        return coeffs\n    evens = FFT(coeffs[::2], roots[::2])\n    odds = FFT(coeffs[1::2], roots[::2])\n    print(evens, odds)\n    return FFT(coeffs[::2], roots[::2]) + odds\n    \n    ",
    "id": "96c336dfe1cb423b9cd56033a92000aa",
    "idx": 6,
    "time": "2021-01-30T21:29:14.402Z",
    "type": "execution"
   },
   {
    "id": "96c336dfe1cb423b9cd56033a92000aa",
    "time": "2021-01-30T21:29:14.471Z",
    "type": "completion"
   },
   {
    "code": "expected = [6, -2+2j, 2, -2-2j]\nactual = FFT([1, 2, 3], [1, 1j, -1, -1j])\nprint(\"expected: {}\".format(expected))\nprint(\"actual:   {}\".format(actual))",
    "id": "6424886cf8f142deb19224ddcfb75344",
    "idx": 9,
    "time": "2021-01-30T21:29:17.344Z",
    "type": "execution"
   },
   {
    "id": "6424886cf8f142deb19224ddcfb75344",
    "time": "2021-01-30T21:29:17.409Z",
    "type": "completion"
   },
   {
    "code": "def FFT(coeffs, roots):\n    ### YOUR SOLUTION HERE ###\n    if len(coeffs) == 0:\n        return [0]\n    if len(coeffs) == 1:\n        return coeffs\n    evens = FFT(coeffs[::2], roots[::2])\n    odds = FFT(coeffs[1::2], roots[::2])\n    return [evens[i] + roots[i] * odds[i] for i in range(len(roots)/2)] + [evens[i] - roots[i] * odds[i] for i in range(len(roots)/2)]\n    \n    ",
    "id": "96c336dfe1cb423b9cd56033a92000aa",
    "idx": 6,
    "time": "2021-01-30T21:32:02.299Z",
    "type": "execution"
   },
   {
    "id": "96c336dfe1cb423b9cd56033a92000aa",
    "time": "2021-01-30T21:32:02.364Z",
    "type": "completion"
   },
   {
    "code": "expected = [6, -2+2j, 2, -2-2j]\nactual = FFT([1, 2, 3], [1, 1j, -1, -1j])\nprint(\"expected: {}\".format(expected))\nprint(\"actual:   {}\".format(actual))",
    "id": "6424886cf8f142deb19224ddcfb75344",
    "idx": 9,
    "time": "2021-01-30T21:32:03.637Z",
    "type": "execution"
   },
   {
    "id": "6424886cf8f142deb19224ddcfb75344",
    "time": "2021-01-30T21:32:03.765Z",
    "type": "completion"
   },
   {
    "code": "def FFT(coeffs, roots):\n    ### YOUR SOLUTION HERE ###\n    if len(coeffs) == 0:\n        return [0]\n    if len(coeffs) == 1:\n        return coeffs\n    evens = FFT(coeffs[::2], roots[::2])\n    odds = FFT(coeffs[1::2], roots[::2])\n    return [evens[i] + roots[i] * odds[i] for i in range(len(roots)//2)] + [evens[i] - roots[i] * odds[i] for i in range(len(roots)//2)]\n    \n    ",
    "id": "96c336dfe1cb423b9cd56033a92000aa",
    "idx": 6,
    "time": "2021-01-30T21:32:17.271Z",
    "type": "execution"
   },
   {
    "id": "96c336dfe1cb423b9cd56033a92000aa",
    "time": "2021-01-30T21:32:17.335Z",
    "type": "completion"
   },
   {
    "code": "expected = [6, -2+2j, 2, -2-2j]\nactual = FFT([1, 2, 3], [1, 1j, -1, -1j])\nprint(\"expected: {}\".format(expected))\nprint(\"actual:   {}\".format(actual))",
    "id": "6424886cf8f142deb19224ddcfb75344",
    "idx": 9,
    "time": "2021-01-30T21:32:20.446Z",
    "type": "execution"
   },
   {
    "id": "6424886cf8f142deb19224ddcfb75344",
    "time": "2021-01-30T21:32:20.574Z",
    "type": "completion"
   },
   {
    "code": "def FFT(coeffs, roots):\n    ### YOUR SOLUTION HERE ###\n    if len(coeffs) == 0:\n        return [0]\n    if len(coeffs) == 1:\n        return coeffs\n    print(len(roots))\n    evens = FFT(coeffs[::2], roots[::2])\n    odds = FFT(coeffs[1::2], roots[::2])\n    return [evens[i] + roots[i] * odds[i] for i in range(len(roots)//2)] + [evens[i] - roots[i] * odds[i] for i in range(len(roots)//2)]\n    \n    ",
    "id": "96c336dfe1cb423b9cd56033a92000aa",
    "idx": 6,
    "time": "2021-01-30T21:32:31.414Z",
    "type": "execution"
   },
   {
    "id": "96c336dfe1cb423b9cd56033a92000aa",
    "time": "2021-01-30T21:32:31.478Z",
    "type": "completion"
   },
   {
    "code": "expected = [6, -2+2j, 2, -2-2j]\nactual = FFT([1, 2, 3], [1, 1j, -1, -1j])\nprint(\"expected: {}\".format(expected))\nprint(\"actual:   {}\".format(actual))",
    "id": "6424886cf8f142deb19224ddcfb75344",
    "idx": 9,
    "time": "2021-01-30T21:32:32.664Z",
    "type": "execution"
   },
   {
    "id": "6424886cf8f142deb19224ddcfb75344",
    "time": "2021-01-30T21:32:32.806Z",
    "type": "completion"
   },
   {
    "code": "def FFT(coeffs, roots):\n    ### YOUR SOLUTION HERE ###\n    if len(coeffs) == 0:\n        return [0]\n    if len(coeffs) == 1:\n        return coeffs\n    print(len(roots), len(coeffs))\n    evens = FFT(coeffs[::2], roots[::2])\n    odds = FFT(coeffs[1::2], roots[::2])\n    return [evens[i] + roots[i] * odds[i] for i in range(len(roots)//2)] + [evens[i] - roots[i] * odds[i] for i in range(len(roots)//2)]\n    \n    ",
    "id": "96c336dfe1cb423b9cd56033a92000aa",
    "idx": 6,
    "time": "2021-01-30T21:33:08.675Z",
    "type": "execution"
   },
   {
    "id": "96c336dfe1cb423b9cd56033a92000aa",
    "time": "2021-01-30T21:33:08.748Z",
    "type": "completion"
   },
   {
    "code": "expected = [6, -2+2j, 2, -2-2j]\nactual = FFT([1, 2, 3], [1, 1j, -1, -1j])\nprint(\"expected: {}\".format(expected))\nprint(\"actual:   {}\".format(actual))",
    "id": "6424886cf8f142deb19224ddcfb75344",
    "idx": 9,
    "time": "2021-01-30T21:33:09.709Z",
    "type": "execution"
   },
   {
    "id": "6424886cf8f142deb19224ddcfb75344",
    "time": "2021-01-30T21:33:09.841Z",
    "type": "completion"
   },
   {
    "code": "def FFT(coeffs, roots):\n    ### YOUR SOLUTION HERE ###\n    if len(coeffs) == 0:\n        return [0]\n    if len(coeffs) == 1:\n        return coeffs\n    evens = FFT(coeffs[::2], roots[::2])\n    odds = FFT(coeffs[1::2], roots[::2])\n    print(len(roots), evens, odds)\n    return [evens[i] + roots[i] * odds[i] for i in range(len(roots)//2)] + [evens[i] - roots[i] * odds[i] for i in range(len(roots)//2)]\n    \n    ",
    "id": "96c336dfe1cb423b9cd56033a92000aa",
    "idx": 6,
    "time": "2021-01-30T21:33:51.035Z",
    "type": "execution"
   },
   {
    "id": "96c336dfe1cb423b9cd56033a92000aa",
    "time": "2021-01-30T21:33:51.107Z",
    "type": "completion"
   },
   {
    "code": "expected = [6, -2+2j, 2, -2-2j]\nactual = FFT([1, 2, 3], [1, 1j, -1, -1j])\nprint(\"expected: {}\".format(expected))\nprint(\"actual:   {}\".format(actual))",
    "id": "6424886cf8f142deb19224ddcfb75344",
    "idx": 9,
    "time": "2021-01-30T21:33:52.157Z",
    "type": "execution"
   },
   {
    "id": "6424886cf8f142deb19224ddcfb75344",
    "time": "2021-01-30T21:33:52.288Z",
    "type": "completion"
   },
   {
    "code": "def FFT(coeffs, roots):\n    ### YOUR SOLUTION HERE ###\n    if len(coeffs) == 0:\n        return [0]*len(roots)\n    elif len(roots) == 1:\n        return coeffs\n    evens = FFT(coeffs[::2], roots[::2])\n    odds = FFT(coeffs[1::2], roots[::2])\n    return [evens[i] + roots[i] * odds[i] for i in range(len(roots)//2)] + [evens[i] - roots[i] * odds[i] for i in range(len(roots)//2)]\n    \n    ",
    "id": "96c336dfe1cb423b9cd56033a92000aa",
    "idx": 6,
    "time": "2021-01-30T21:35:35.809Z",
    "type": "execution"
   },
   {
    "id": "96c336dfe1cb423b9cd56033a92000aa",
    "time": "2021-01-30T21:35:35.877Z",
    "type": "completion"
   },
   {
    "code": "expected = [6, -2+2j, 2, -2-2j]\nactual = FFT([1, 2, 3], [1, 1j, -1, -1j])\nprint(\"expected: {}\".format(expected))\nprint(\"actual:   {}\".format(actual))",
    "id": "6424886cf8f142deb19224ddcfb75344",
    "idx": 9,
    "time": "2021-01-30T21:35:37.204Z",
    "type": "execution"
   },
   {
    "id": "6424886cf8f142deb19224ddcfb75344",
    "time": "2021-01-30T21:35:37.272Z",
    "type": "completion"
   },
   {
    "code": "not_expected = [6, 17, 34, 57]\nactual = FFT([1, 2, 3], [1, 2, 3, 4])\nprint(\"NOT expected: {}\".format(not_expected))\nprint(\"actual:       {}\".format(actual))",
    "id": "16e3227c3ad34b138044be970ded5965",
    "idx": 11,
    "time": "2021-01-30T21:35:41.173Z",
    "type": "execution"
   },
   {
    "id": "16e3227c3ad34b138044be970ded5965",
    "time": "2021-01-30T21:35:41.235Z",
    "type": "completion"
   },
   {
    "code": "def next_power_of_2(n):\n    ret = 1\n    while ret < n:\n        ret *= 2\n    return ret\n\n# note that the sine function is math.sin(x) and the cosine function is math.cos(x)\ndef calc_nth_root(n):\n    theta_n = 2 * math.pi / n\n    a = math.sin(theta_n)\n    b = math.cos(theta_n)\n    return a + b * 1j\n\ndef calc_all_nth_roots(n):\n    root = calc_nth_root(n)\n    return [root**k for k in range(n)] \n",
    "id": "1d47483fb6de44a39120a8330831045b",
    "idx": 14,
    "time": "2021-01-30T21:35:47.554Z",
    "type": "execution"
   },
   {
    "id": "1d47483fb6de44a39120a8330831045b",
    "time": "2021-01-30T21:35:47.618Z",
    "type": "completion"
   },
   {
    "code": "N = 8 # feel free to change this value and observe what happens\nroots = calc_all_nth_roots(N)\n\n# Plot\nf,ax = plt.subplots()\nf.set_figwidth(4)\nf.set_figheight(4)\nplt.scatter([r.real for r in roots], [r.imag for r in roots]) \nax.spines['left'].set_position('zero')\nax.spines['right'].set_color('none')\nax.yaxis.tick_left()\nax.spines['bottom'].set_position('zero')\nax.spines['top'].set_color('none')\nax.set_xlim([-1.2,1.2])\nax.set_ylim([-1.2,1.2])\nax.set_xticks([-1, -0.5, 0.5, 1])\nax.set_yticks([-1, -0.5, 0.5, 1])\nax.xaxis.tick_bottom()\nplt.show() ",
    "id": "51b8740fc0db4fc2bd5b0d8ac4e87ac2",
    "idx": 16,
    "time": "2021-01-30T21:35:48.622Z",
    "type": "execution"
   },
   {
    "id": "51b8740fc0db4fc2bd5b0d8ac4e87ac2",
    "time": "2021-01-30T21:35:48.801Z",
    "type": "completion"
   },
   {
    "code": "def poly_multiply(coeffs1, coeffs2):\n    ### YOUR SOLUTION HERE ###",
    "id": "54768a3dcd8b48c899dbb0e838743788",
    "idx": 18,
    "time": "2021-01-30T21:35:49.903Z",
    "type": "execution"
   },
   {
    "id": "54768a3dcd8b48c899dbb0e838743788",
    "time": "2021-01-30T21:35:49.973Z",
    "type": "completion"
   },
   {
    "code": "def next_power_of_2(k):\n    ret = 1\n    while ret < k:\n        ret *= 2\n    return ret\n\n# note that the sine function is math.sin(x) and the cosine function is math.cos(x)\ndef calc_nth_root(n):\n    theta_n = 2 * math.pi / n\n    a = math.sin(theta_n)\n    b = math.cos(theta_n)\n    return a + b * 1j\n\ndef calc_all_nth_roots(n):\n    root = calc_nth_root(n)\n    return [root**k for k in range(n)] \n",
    "id": "1d47483fb6de44a39120a8330831045b",
    "idx": 14,
    "time": "2021-01-30T21:36:29.213Z",
    "type": "execution"
   },
   {
    "id": "1d47483fb6de44a39120a8330831045b",
    "time": "2021-01-30T21:36:29.280Z",
    "type": "completion"
   },
   {
    "code": "N = 8 # feel free to change this value and observe what happens\nroots = calc_all_nth_roots(N)\n\n# Plot\nf,ax = plt.subplots()\nf.set_figwidth(4)\nf.set_figheight(4)\nplt.scatter([r.real for r in roots], [r.imag for r in roots]) \nax.spines['left'].set_position('zero')\nax.spines['right'].set_color('none')\nax.yaxis.tick_left()\nax.spines['bottom'].set_position('zero')\nax.spines['top'].set_color('none')\nax.set_xlim([-1.2,1.2])\nax.set_ylim([-1.2,1.2])\nax.set_xticks([-1, -0.5, 0.5, 1])\nax.set_yticks([-1, -0.5, 0.5, 1])\nax.xaxis.tick_bottom()\nplt.show() ",
    "id": "51b8740fc0db4fc2bd5b0d8ac4e87ac2",
    "idx": 16,
    "time": "2021-01-30T21:36:34.095Z",
    "type": "execution"
   },
   {
    "id": "51b8740fc0db4fc2bd5b0d8ac4e87ac2",
    "time": "2021-01-30T21:36:34.291Z",
    "type": "completion"
   },
   {
    "code": "def poly_multiply(coeffs1, coeffs2):\n    n = next_power_of_2((len(coeffs1) - 1) * (len(coeffs) - 1))\n    roots = calc_all_nth_roots(n)\n    f1 = FFT(coeffs1, roots)\n    f2 = FFT(coeffs2, roots)\n    res = [f1[i] * f2[i] for i in len(f1)]\n    return FFT(res, roots[::-1])",
    "id": "54768a3dcd8b48c899dbb0e838743788",
    "idx": 18,
    "time": "2021-01-30T21:38:57.256Z",
    "type": "execution"
   },
   {
    "id": "54768a3dcd8b48c899dbb0e838743788",
    "time": "2021-01-30T21:38:57.421Z",
    "type": "completion"
   },
   {
    "code": "def round_complex_to_int(lst):\n    return [round(x.real) for x in lst]\n\ndef zero_pop(lst):\n    while lst[-1] == 0:\n        lst.pop()",
    "id": "f140994ab620469f820e9ea6921e1407",
    "idx": 20,
    "time": "2021-01-30T21:39:00.609Z",
    "type": "execution"
   },
   {
    "id": "f140994ab620469f820e9ea6921e1407",
    "time": "2021-01-30T21:39:00.832Z",
    "type": "completion"
   },
   {
    "code": "expected = [4, 13, 22, 15]\nactual = round_complex_to_int(poly_multiply([1, 2, 3], [4, 5]))\nprint(\"expected: {}\".format(expected))\nprint(\"actual:   {}\".format(actual))",
    "id": "ef95116576e149f88e8552bdea139fce",
    "idx": 22,
    "time": "2021-01-30T21:39:01.574Z",
    "type": "execution"
   },
   {
    "id": "ef95116576e149f88e8552bdea139fce",
    "time": "2021-01-30T21:39:02.120Z",
    "type": "completion"
   },
   {
    "code": "def poly_multiply(coeffs1, coeffs2):\n    n = next_power_of_2((len(coeffs1) - 1) * (len(coeffs2) - 1))\n    roots = calc_all_nth_roots(n)\n    f1 = FFT(coeffs1, roots)\n    f2 = FFT(coeffs2, roots)\n    res = [f1[i] * f2[i] for i in len(f1)]\n    return FFT(res, roots[::-1])",
    "id": "54768a3dcd8b48c899dbb0e838743788",
    "idx": 18,
    "time": "2021-01-30T21:39:15.919Z",
    "type": "execution"
   },
   {
    "id": "54768a3dcd8b48c899dbb0e838743788",
    "time": "2021-01-30T21:39:15.994Z",
    "type": "completion"
   },
   {
    "code": "expected = [4, 13, 22, 15]\nactual = round_complex_to_int(poly_multiply([1, 2, 3], [4, 5]))\nprint(\"expected: {}\".format(expected))\nprint(\"actual:   {}\".format(actual))",
    "id": "ef95116576e149f88e8552bdea139fce",
    "idx": 22,
    "time": "2021-01-30T21:39:18.172Z",
    "type": "execution"
   },
   {
    "id": "ef95116576e149f88e8552bdea139fce",
    "time": "2021-01-30T21:39:18.253Z",
    "type": "completion"
   },
   {
    "code": "def poly_multiply(coeffs1, coeffs2):\n    n = next_power_of_2((len(coeffs1) - 1) * (len(coeffs2) - 1))\n    roots = calc_all_nth_roots(n)\n    f1 = FFT(coeffs1, roots)\n    f2 = FFT(coeffs2, roots)\n    res = [f1[i] * f2[i] for i in range(len(f1))]\n    return FFT(res, roots[::-1])",
    "id": "54768a3dcd8b48c899dbb0e838743788",
    "idx": 18,
    "time": "2021-01-30T21:39:29.859Z",
    "type": "execution"
   },
   {
    "id": "54768a3dcd8b48c899dbb0e838743788",
    "time": "2021-01-30T21:39:29.926Z",
    "type": "completion"
   },
   {
    "code": "def round_complex_to_int(lst):\n    return [round(x.real) for x in lst]\n\ndef zero_pop(lst):\n    while lst[-1] == 0:\n        lst.pop()",
    "id": "f140994ab620469f820e9ea6921e1407",
    "idx": 20,
    "time": "2021-01-30T21:39:30.646Z",
    "type": "execution"
   },
   {
    "id": "f140994ab620469f820e9ea6921e1407",
    "time": "2021-01-30T21:39:30.745Z",
    "type": "completion"
   },
   {
    "code": "expected = [4, 13, 22, 15]\nactual = round_complex_to_int(poly_multiply([1, 2, 3], [4, 5]))\nprint(\"expected: {}\".format(expected))\nprint(\"actual:   {}\".format(actual))",
    "id": "ef95116576e149f88e8552bdea139fce",
    "idx": 22,
    "time": "2021-01-30T21:39:31.332Z",
    "type": "execution"
   },
   {
    "id": "ef95116576e149f88e8552bdea139fce",
    "time": "2021-01-30T21:39:31.545Z",
    "type": "completion"
   },
   {
    "code": "def poly_multiply(coeffs1, coeffs2):\n    n = next_power_of_2((len(coeffs1) - 1) * (len(coeffs2) - 1))\n    roots = calc_all_nth_roots(n)\n    f1 = FFT(coeffs1, roots)\n    f2 = FFT(coeffs2, roots)\n    res = [f1[i] * f2[i] for i in range(len(f1))]\n    print(res)\n    return FFT(res, roots[::-1])",
    "id": "54768a3dcd8b48c899dbb0e838743788",
    "idx": 18,
    "time": "2021-01-30T21:40:23.286Z",
    "type": "execution"
   },
   {
    "id": "54768a3dcd8b48c899dbb0e838743788",
    "time": "2021-01-30T21:40:23.517Z",
    "type": "completion"
   },
   {
    "code": "def round_complex_to_int(lst):\n    return [round(x.real) for x in lst]\n\ndef zero_pop(lst):\n    while lst[-1] == 0:\n        lst.pop()",
    "id": "f140994ab620469f820e9ea6921e1407",
    "idx": 20,
    "time": "2021-01-30T21:40:24.007Z",
    "type": "execution"
   },
   {
    "id": "f140994ab620469f820e9ea6921e1407",
    "time": "2021-01-30T21:40:24.145Z",
    "type": "completion"
   },
   {
    "code": "expected = [4, 13, 22, 15]\nactual = round_complex_to_int(poly_multiply([1, 2, 3], [4, 5]))\nprint(\"expected: {}\".format(expected))\nprint(\"actual:   {}\".format(actual))",
    "id": "ef95116576e149f88e8552bdea139fce",
    "idx": 22,
    "time": "2021-01-30T21:40:24.602Z",
    "type": "execution"
   },
   {
    "id": "ef95116576e149f88e8552bdea139fce",
    "time": "2021-01-30T21:40:24.755Z",
    "type": "completion"
   },
   {
    "code": "def poly_multiply(coeffs1, coeffs2):\n    n = next_power_of_2((len(coeffs1) - 1) * (len(coeffs2) - 1))\n    roots = calc_all_nth_roots(n)\n    f1 = FFT(coeffs1, roots)\n    f2 = FFT(coeffs2, roots)\n    res = [f1[i] * f2[i] for i in range(len(f1))]\n    print(n)\n    return FFT(res, roots[::-1])",
    "id": "54768a3dcd8b48c899dbb0e838743788",
    "idx": 18,
    "time": "2021-01-30T21:40:32.244Z",
    "type": "execution"
   },
   {
    "id": "54768a3dcd8b48c899dbb0e838743788",
    "time": "2021-01-30T21:40:32.357Z",
    "type": "completion"
   },
   {
    "code": "def round_complex_to_int(lst):\n    return [round(x.real) for x in lst]\n\ndef zero_pop(lst):\n    while lst[-1] == 0:\n        lst.pop()",
    "id": "f140994ab620469f820e9ea6921e1407",
    "idx": 20,
    "time": "2021-01-30T21:40:32.837Z",
    "type": "execution"
   },
   {
    "id": "f140994ab620469f820e9ea6921e1407",
    "time": "2021-01-30T21:40:33.000Z",
    "type": "completion"
   },
   {
    "code": "expected = [4, 13, 22, 15]\nactual = round_complex_to_int(poly_multiply([1, 2, 3], [4, 5]))\nprint(\"expected: {}\".format(expected))\nprint(\"actual:   {}\".format(actual))",
    "id": "ef95116576e149f88e8552bdea139fce",
    "idx": 22,
    "time": "2021-01-30T21:40:33.390Z",
    "type": "execution"
   },
   {
    "id": "ef95116576e149f88e8552bdea139fce",
    "time": "2021-01-30T21:40:33.638Z",
    "type": "completion"
   },
   {
    "code": "exit",
    "id": "0df637ef158048e988e0a224c902b8f8",
    "idx": null,
    "time": "2021-01-30T21:40:57.095Z",
    "type": "execution"
   },
   {
    "id": "0df637ef158048e988e0a224c902b8f8",
    "time": "2021-01-30T21:40:57.269Z",
    "type": "completion"
   },
   {
    "code": "import math\nimport cmath\nfrom numpy.random import randint\nfrom time import time\nimport matplotlib.pyplot as plt",
    "id": "b37da62e56824c9995fd675a95f386de",
    "idx": 1,
    "time": "2021-01-30T21:41:26.335Z",
    "type": "execution"
   },
   {
    "code": "def FFT(coeffs, roots):\n    ### YOUR SOLUTION HERE ###\n    if len(coeffs) == 0:\n        return [0]*len(roots)\n    elif len(roots) == 1:\n        return coeffs\n    evens = FFT(coeffs[::2], roots[::2])\n    odds = FFT(coeffs[1::2], roots[::2])\n    return [evens[i] + roots[i] * odds[i] for i in range(len(roots)//2)] + [evens[i] - roots[i] * odds[i] for i in range(len(roots)//2)]\n    \n    ",
    "id": "8ec76e2f0244489bab0c9e0ec0e2f200",
    "idx": 6,
    "time": "2021-01-30T21:41:26.343Z",
    "type": "execution"
   },
   {
    "code": "expected = [6, -2+2j, 2, -2-2j]\nactual = FFT([1, 2, 3], [1, 1j, -1, -1j])\nprint(\"expected: {}\".format(expected))\nprint(\"actual:   {}\".format(actual))",
    "id": "6cd5592d676b4c03a3b8ef5ce8e3072a",
    "idx": 9,
    "time": "2021-01-30T21:41:26.346Z",
    "type": "execution"
   },
   {
    "code": "not_expected = [6, 17, 34, 57]\nactual = FFT([1, 2, 3], [1, 2, 3, 4])\nprint(\"NOT expected: {}\".format(not_expected))\nprint(\"actual:       {}\".format(actual))",
    "id": "64e63aa80e15489db288833bf3eb8bff",
    "idx": 11,
    "time": "2021-01-30T21:41:26.349Z",
    "type": "execution"
   },
   {
    "code": "def next_power_of_2(k):\n    ret = 1\n    while ret < k:\n        ret *= 2\n    return ret\n\n# note that the sine function is math.sin(x) and the cosine function is math.cos(x)\ndef calc_nth_root(n):\n    theta_n = 2 * math.pi / n\n    a = math.sin(theta_n)\n    b = math.cos(theta_n)\n    return a + b * 1j\n\ndef calc_all_nth_roots(n):\n    root = calc_nth_root(n)\n    return [root**k for k in range(n)] \n",
    "id": "3778ba572d144362904abd00d0735229",
    "idx": 14,
    "time": "2021-01-30T21:41:26.352Z",
    "type": "execution"
   },
   {
    "code": "N = 8 # feel free to change this value and observe what happens\nroots = calc_all_nth_roots(N)\n\n# Plot\nf,ax = plt.subplots()\nf.set_figwidth(4)\nf.set_figheight(4)\nplt.scatter([r.real for r in roots], [r.imag for r in roots]) \nax.spines['left'].set_position('zero')\nax.spines['right'].set_color('none')\nax.yaxis.tick_left()\nax.spines['bottom'].set_position('zero')\nax.spines['top'].set_color('none')\nax.set_xlim([-1.2,1.2])\nax.set_ylim([-1.2,1.2])\nax.set_xticks([-1, -0.5, 0.5, 1])\nax.set_yticks([-1, -0.5, 0.5, 1])\nax.xaxis.tick_bottom()\nplt.show() ",
    "id": "6adb47981b704d5b86d28c97404ebb5d",
    "idx": 16,
    "time": "2021-01-30T21:41:26.354Z",
    "type": "execution"
   },
   {
    "id": "b37da62e56824c9995fd675a95f386de",
    "time": "2021-01-30T21:41:26.738Z",
    "type": "completion"
   },
   {
    "id": "8ec76e2f0244489bab0c9e0ec0e2f200",
    "time": "2021-01-30T21:41:26.871Z",
    "type": "completion"
   },
   {
    "id": "6cd5592d676b4c03a3b8ef5ce8e3072a",
    "time": "2021-01-30T21:41:26.874Z",
    "type": "completion"
   },
   {
    "id": "64e63aa80e15489db288833bf3eb8bff",
    "time": "2021-01-30T21:41:27.069Z",
    "type": "completion"
   },
   {
    "id": "3778ba572d144362904abd00d0735229",
    "time": "2021-01-30T21:41:27.097Z",
    "type": "completion"
   },
   {
    "id": "6adb47981b704d5b86d28c97404ebb5d",
    "time": "2021-01-30T21:41:27.100Z",
    "type": "completion"
   },
   {
    "code": "def poly_multiply(coeffs1, coeffs2):\n    n = next_power_of_2((len(coeffs1) - 1) * (len(coeffs2) - 1))\n    roots = calc_all_nth_roots(n)\n    f1 = FFT(coeffs1, roots)\n    f2 = FFT(coeffs2, roots)\n    res = [f1[i] * f2[i] for i in range(len(f1))]\n    return FFT(res, roots[::-1])",
    "id": "d3951d20f8ed4797a4ceaff63d4d9141",
    "idx": 18,
    "time": "2021-01-30T21:41:30.129Z",
    "type": "execution"
   },
   {
    "id": "d3951d20f8ed4797a4ceaff63d4d9141",
    "time": "2021-01-30T21:41:30.215Z",
    "type": "completion"
   },
   {
    "code": "def round_complex_to_int(lst):\n    return [round(x.real) for x in lst]\n\ndef zero_pop(lst):\n    while lst[-1] == 0:\n        lst.pop()",
    "id": "1574e6f11bed4a05842c592f70aaf324",
    "idx": 20,
    "time": "2021-01-30T21:41:31.049Z",
    "type": "execution"
   },
   {
    "id": "1574e6f11bed4a05842c592f70aaf324",
    "time": "2021-01-30T21:41:31.110Z",
    "type": "completion"
   },
   {
    "code": "expected = [4, 13, 22, 15]\nactual = round_complex_to_int(poly_multiply([1, 2, 3], [4, 5]))\nprint(\"expected: {}\".format(expected))\nprint(\"actual:   {}\".format(actual))",
    "id": "e77f4e708f4e4dcf8334ed34f03ee1fe",
    "idx": 22,
    "time": "2021-01-30T21:41:31.859Z",
    "type": "execution"
   },
   {
    "id": "e77f4e708f4e4dcf8334ed34f03ee1fe",
    "time": "2021-01-30T21:41:31.985Z",
    "type": "completion"
   },
   {
    "code": "def poly_multiply(coeffs1, coeffs2):\n    n = next_power_of_2((len(coeffs1) - 1) * (len(coeffs2) - 1)+1)\n    roots = calc_all_nth_roots(n)\n    f1 = FFT(coeffs1, roots)\n    f2 = FFT(coeffs2, roots)\n    res = [f1[i] * f2[i] for i in range(len(f1))]\n    return FFT(res, roots[::-1])",
    "id": "d3951d20f8ed4797a4ceaff63d4d9141",
    "idx": 18,
    "time": "2021-01-30T21:42:21.039Z",
    "type": "execution"
   },
   {
    "id": "d3951d20f8ed4797a4ceaff63d4d9141",
    "time": "2021-01-30T21:42:21.285Z",
    "type": "completion"
   },
   {
    "code": "def round_complex_to_int(lst):\n    return [round(x.real) for x in lst]\n\ndef zero_pop(lst):\n    while lst[-1] == 0:\n        lst.pop()",
    "id": "1574e6f11bed4a05842c592f70aaf324",
    "idx": 20,
    "time": "2021-01-30T21:42:21.867Z",
    "type": "execution"
   },
   {
    "id": "1574e6f11bed4a05842c592f70aaf324",
    "time": "2021-01-30T21:42:22.160Z",
    "type": "completion"
   },
   {
    "code": "expected = [4, 13, 22, 15]\nactual = round_complex_to_int(poly_multiply([1, 2, 3], [4, 5]))\nprint(\"expected: {}\".format(expected))\nprint(\"actual:   {}\".format(actual))",
    "id": "e77f4e708f4e4dcf8334ed34f03ee1fe",
    "idx": 22,
    "time": "2021-01-30T21:42:22.722Z",
    "type": "execution"
   },
   {
    "id": "e77f4e708f4e4dcf8334ed34f03ee1fe",
    "time": "2021-01-30T21:42:23.021Z",
    "type": "completion"
   },
   {
    "code": "expected = [4, 13, 28, 27, 18, 0, 0, 0]\nactual = round_complex_to_int(poly_multiply([1, 2, 3], [4, 5, 6]))\nprint(\"expected: {}\".format(expected))\nprint(\"actual:   {}\".format(actual))",
    "id": "a84b1f7f888c407c8cb90f816cd7a4fe",
    "idx": 23,
    "time": "2021-01-30T21:42:26.839Z",
    "type": "execution"
   },
   {
    "id": "a84b1f7f888c407c8cb90f816cd7a4fe",
    "time": "2021-01-30T21:42:27.029Z",
    "type": "completion"
   },
   {
    "code": "def poly_multiply(coeffs1, coeffs2):\n    n = next_power_of_2((len(coeffs1) - 1) * (len(coeffs2) - 1)+1)\n    roots = calc_all_nth_roots(n)\n    f1 = FFT(coeffs1, roots)\n    f2 = FFT(coeffs2, roots)\n    res = [f1[i] * f2[i] for i in range(len(f1))]\n    return [x//n for x in FFT(res, roots[::-1])]",
    "id": "d3951d20f8ed4797a4ceaff63d4d9141",
    "idx": 18,
    "time": "2021-01-30T21:43:38.304Z",
    "type": "execution"
   },
   {
    "id": "d3951d20f8ed4797a4ceaff63d4d9141",
    "time": "2021-01-30T21:43:38.381Z",
    "type": "completion"
   },
   {
    "code": "def round_complex_to_int(lst):\n    return [round(x.real) for x in lst]\n\ndef zero_pop(lst):\n    while lst[-1] == 0:\n        lst.pop()",
    "id": "1574e6f11bed4a05842c592f70aaf324",
    "idx": 20,
    "time": "2021-01-30T21:43:38.855Z",
    "type": "execution"
   },
   {
    "id": "1574e6f11bed4a05842c592f70aaf324",
    "time": "2021-01-30T21:43:38.947Z",
    "type": "completion"
   },
   {
    "code": "expected = [4, 13, 22, 15]\nactual = round_complex_to_int(poly_multiply([1, 2, 3], [4, 5]))\nprint(\"expected: {}\".format(expected))\nprint(\"actual:   {}\".format(actual))",
    "id": "e77f4e708f4e4dcf8334ed34f03ee1fe",
    "idx": 22,
    "time": "2021-01-30T21:43:39.540Z",
    "type": "execution"
   },
   {
    "id": "e77f4e708f4e4dcf8334ed34f03ee1fe",
    "time": "2021-01-30T21:43:39.698Z",
    "type": "completion"
   },
   {
    "code": "def poly_multiply(coeffs1, coeffs2):\n    n = next_power_of_2((len(coeffs1) - 1) * (len(coeffs2) - 1)+1)\n    roots = calc_all_nth_roots(n)\n    f1 = FFT(coeffs1, roots)\n    f2 = FFT(coeffs2, roots)\n    res = [f1[i] * f2[i] for i in range(len(f1))]\n    return [x for x in FFT(res, roots[::-1])]",
    "id": "d3951d20f8ed4797a4ceaff63d4d9141",
    "idx": 18,
    "time": "2021-01-30T21:43:50.197Z",
    "type": "execution"
   },
   {
    "id": "d3951d20f8ed4797a4ceaff63d4d9141",
    "time": "2021-01-30T21:43:50.261Z",
    "type": "completion"
   },
   {
    "code": "def round_complex_to_int(lst):\n    return [round(x.real) for x in lst]\n\ndef zero_pop(lst):\n    while lst[-1] == 0:\n        lst.pop()",
    "id": "1574e6f11bed4a05842c592f70aaf324",
    "idx": 20,
    "time": "2021-01-30T21:43:50.689Z",
    "type": "execution"
   },
   {
    "id": "1574e6f11bed4a05842c592f70aaf324",
    "time": "2021-01-30T21:43:50.750Z",
    "type": "completion"
   },
   {
    "code": "expected = [4, 13, 22, 15]\nactual = round_complex_to_int(poly_multiply([1, 2, 3], [4, 5]))\nprint(\"expected: {}\".format(expected))\nprint(\"actual:   {}\".format(actual))",
    "id": "e77f4e708f4e4dcf8334ed34f03ee1fe",
    "idx": 22,
    "time": "2021-01-30T21:43:51.264Z",
    "type": "execution"
   },
   {
    "id": "e77f4e708f4e4dcf8334ed34f03ee1fe",
    "time": "2021-01-30T21:43:51.327Z",
    "type": "completion"
   },
   {
    "code": "expected = [4, 13, 28, 27, 18, 0, 0, 0]\nactual = round_complex_to_int(poly_multiply([1, 2, 3], [4, 5, 6]))\nprint(\"expected: {}\".format(expected))\nprint(\"actual:   {}\".format(actual))",
    "id": "a84b1f7f888c407c8cb90f816cd7a4fe",
    "idx": 23,
    "time": "2021-01-30T21:43:52.061Z",
    "type": "execution"
   },
   {
    "id": "a84b1f7f888c407c8cb90f816cd7a4fe",
    "time": "2021-01-30T21:43:52.125Z",
    "type": "completion"
   },
   {
    "code": "def poly_multiply(coeffs1, coeffs2):\n    n = next_power_of_2((len(coeffs1) - 1) * (len(coeffs2) - 1)+1)\n    roots = calc_all_nth_roots(n)\n    f1 = FFT(coeffs1, roots)\n    f2 = FFT(coeffs2, roots)\n    res = [f1[i] * f2[i] for i in range(len(f1))]\n    return [x//2 for x in FFT(res, roots[::-1])]",
    "id": "d3951d20f8ed4797a4ceaff63d4d9141",
    "idx": 18,
    "time": "2021-01-30T21:43:59.780Z",
    "type": "execution"
   },
   {
    "id": "d3951d20f8ed4797a4ceaff63d4d9141",
    "time": "2021-01-30T21:43:59.845Z",
    "type": "completion"
   },
   {
    "code": "def round_complex_to_int(lst):\n    return [round(x.real) for x in lst]\n\ndef zero_pop(lst):\n    while lst[-1] == 0:\n        lst.pop()",
    "id": "1574e6f11bed4a05842c592f70aaf324",
    "idx": 20,
    "time": "2021-01-30T21:44:00.465Z",
    "type": "execution"
   },
   {
    "id": "1574e6f11bed4a05842c592f70aaf324",
    "time": "2021-01-30T21:44:00.527Z",
    "type": "completion"
   },
   {
    "code": "expected = [4, 13, 22, 15]\nactual = round_complex_to_int(poly_multiply([1, 2, 3], [4, 5]))\nprint(\"expected: {}\".format(expected))\nprint(\"actual:   {}\".format(actual))",
    "id": "e77f4e708f4e4dcf8334ed34f03ee1fe",
    "idx": 22,
    "time": "2021-01-30T21:44:01.084Z",
    "type": "execution"
   },
   {
    "id": "e77f4e708f4e4dcf8334ed34f03ee1fe",
    "time": "2021-01-30T21:44:01.197Z",
    "type": "completion"
   },
   {
    "code": "expected = [4, 13, 28, 27, 18, 0, 0, 0]\nactual = round_complex_to_int(poly_multiply([1, 2, 3], [4, 5, 6]))\nprint(\"expected: {}\".format(expected))\nprint(\"actual:   {}\".format(actual))",
    "id": "a84b1f7f888c407c8cb90f816cd7a4fe",
    "idx": 23,
    "time": "2021-01-30T21:44:01.500Z",
    "type": "execution"
   },
   {
    "id": "a84b1f7f888c407c8cb90f816cd7a4fe",
    "time": "2021-01-30T21:44:01.617Z",
    "type": "completion"
   },
   {
    "code": "def poly_multiply(coeffs1, coeffs2):\n    n = next_power_of_2((len(coeffs1) - 1) * (len(coeffs2) - 1)+1)\n    roots = calc_all_nth_roots(n)\n    f1 = FFT(coeffs1, roots)\n    f2 = FFT(coeffs2, roots)\n    res = [f1[i] * f2[i] for i in range(len(f1))]\n    return [x/2 for x in FFT(res, roots[::-1])]",
    "id": "d3951d20f8ed4797a4ceaff63d4d9141",
    "idx": 18,
    "time": "2021-01-30T21:44:05.731Z",
    "type": "execution"
   },
   {
    "id": "d3951d20f8ed4797a4ceaff63d4d9141",
    "time": "2021-01-30T21:44:05.793Z",
    "type": "completion"
   },
   {
    "code": "def round_complex_to_int(lst):\n    return [round(x.real) for x in lst]\n\ndef zero_pop(lst):\n    while lst[-1] == 0:\n        lst.pop()",
    "id": "1574e6f11bed4a05842c592f70aaf324",
    "idx": 20,
    "time": "2021-01-30T21:44:06.090Z",
    "type": "execution"
   },
   {
    "id": "1574e6f11bed4a05842c592f70aaf324",
    "time": "2021-01-30T21:44:06.152Z",
    "type": "completion"
   },
   {
    "code": "expected = [4, 13, 22, 15]\nactual = round_complex_to_int(poly_multiply([1, 2, 3], [4, 5]))\nprint(\"expected: {}\".format(expected))\nprint(\"actual:   {}\".format(actual))",
    "id": "e77f4e708f4e4dcf8334ed34f03ee1fe",
    "idx": 22,
    "time": "2021-01-30T21:44:06.553Z",
    "type": "execution"
   },
   {
    "id": "e77f4e708f4e4dcf8334ed34f03ee1fe",
    "time": "2021-01-30T21:44:06.617Z",
    "type": "completion"
   },
   {
    "code": "expected = [4, 13, 28, 27, 18, 0, 0, 0]\nactual = round_complex_to_int(poly_multiply([1, 2, 3], [4, 5, 6]))\nprint(\"expected: {}\".format(expected))\nprint(\"actual:   {}\".format(actual))",
    "id": "a84b1f7f888c407c8cb90f816cd7a4fe",
    "idx": 23,
    "time": "2021-01-30T21:44:07.250Z",
    "type": "execution"
   },
   {
    "id": "a84b1f7f888c407c8cb90f816cd7a4fe",
    "time": "2021-01-30T21:44:07.318Z",
    "type": "completion"
   },
   {
    "code": "def poly_multiply(coeffs1, coeffs2):\n    n = next_power_of_2((len(coeffs1) - 1) * (len(coeffs2) - 1)+1)\n    print(n)\n    roots = calc_all_nth_roots(n)\n    print(roots)\n    f1 = FFT(coeffs1, roots)\n    f2 = FFT(coeffs2, roots)\n    res = [f1[i] * f2[i] for i in range(len(f1))]\n    return [x/2 for x in FFT(res, roots[::-1])]",
    "id": "d3951d20f8ed4797a4ceaff63d4d9141",
    "idx": 18,
    "time": "2021-01-30T21:47:17.801Z",
    "type": "execution"
   },
   {
    "id": "d3951d20f8ed4797a4ceaff63d4d9141",
    "time": "2021-01-30T21:47:17.865Z",
    "type": "completion"
   },
   {
    "code": "def round_complex_to_int(lst):\n    return [round(x.real) for x in lst]\n\ndef zero_pop(lst):\n    while lst[-1] == 0:\n        lst.pop()",
    "id": "1574e6f11bed4a05842c592f70aaf324",
    "idx": 20,
    "time": "2021-01-30T21:47:18.517Z",
    "type": "execution"
   },
   {
    "id": "1574e6f11bed4a05842c592f70aaf324",
    "time": "2021-01-30T21:47:18.580Z",
    "type": "completion"
   },
   {
    "code": "expected = [4, 13, 22, 15]\nactual = round_complex_to_int(poly_multiply([1, 2, 3], [4, 5]))\nprint(\"expected: {}\".format(expected))\nprint(\"actual:   {}\".format(actual))",
    "id": "e77f4e708f4e4dcf8334ed34f03ee1fe",
    "idx": 22,
    "time": "2021-01-30T21:47:19.284Z",
    "type": "execution"
   },
   {
    "id": "e77f4e708f4e4dcf8334ed34f03ee1fe",
    "time": "2021-01-30T21:47:19.350Z",
    "type": "completion"
   },
   {
    "code": "N = 4 # feel free to change this value and observe what happens\nroots = calc_all_nth_roots(N)\n\n# Plot\nf,ax = plt.subplots()\nf.set_figwidth(4)\nf.set_figheight(4)\nplt.scatter([r.real for r in roots], [r.imag for r in roots]) \nax.spines['left'].set_position('zero')\nax.spines['right'].set_color('none')\nax.yaxis.tick_left()\nax.spines['bottom'].set_position('zero')\nax.spines['top'].set_color('none')\nax.set_xlim([-1.2,1.2])\nax.set_ylim([-1.2,1.2])\nax.set_xticks([-1, -0.5, 0.5, 1])\nax.set_yticks([-1, -0.5, 0.5, 1])\nax.xaxis.tick_bottom()\nplt.show() ",
    "id": "6adb47981b704d5b86d28c97404ebb5d",
    "idx": 16,
    "time": "2021-01-30T21:47:47.198Z",
    "type": "execution"
   },
   {
    "id": "6adb47981b704d5b86d28c97404ebb5d",
    "time": "2021-01-30T21:47:47.390Z",
    "type": "completion"
   },
   {
    "code": "N = 8 # feel free to change this value and observe what happens\nroots = calc_all_nth_roots(N)\n\n# Plot\nf,ax = plt.subplots()\nf.set_figwidth(4)\nf.set_figheight(4)\nplt.scatter([r.real for r in roots], [r.imag for r in roots]) \nax.spines['left'].set_position('zero')\nax.spines['right'].set_color('none')\nax.yaxis.tick_left()\nax.spines['bottom'].set_position('zero')\nax.spines['top'].set_color('none')\nax.set_xlim([-1.2,1.2])\nax.set_ylim([-1.2,1.2])\nax.set_xticks([-1, -0.5, 0.5, 1])\nax.set_yticks([-1, -0.5, 0.5, 1])\nax.xaxis.tick_bottom()\nplt.show() ",
    "id": "6adb47981b704d5b86d28c97404ebb5d",
    "idx": 16,
    "time": "2021-01-30T21:47:57.280Z",
    "type": "execution"
   },
   {
    "id": "6adb47981b704d5b86d28c97404ebb5d",
    "time": "2021-01-30T21:47:57.452Z",
    "type": "completion"
   },
   {
    "code": "N = 4 # feel free to change this value and observe what happens\nroots = calc_all_nth_roots(N)\n\n# Plot\nf,ax = plt.subplots()\nf.set_figwidth(4)\nf.set_figheight(4)\nplt.scatter([r.real for r in roots], [r.imag for r in roots]) \nax.spines['left'].set_position('zero')\nax.spines['right'].set_color('none')\nax.yaxis.tick_left()\nax.spines['bottom'].set_position('zero')\nax.spines['top'].set_color('none')\nax.set_xlim([-1.2,1.2])\nax.set_ylim([-1.2,1.2])\nax.set_xticks([-1, -0.5, 0.5, 1])\nax.set_yticks([-1, -0.5, 0.5, 1])\nax.xaxis.tick_bottom()\nplt.show() ",
    "id": "6adb47981b704d5b86d28c97404ebb5d",
    "idx": 16,
    "time": "2021-01-30T21:48:01.834Z",
    "type": "execution"
   },
   {
    "id": "6adb47981b704d5b86d28c97404ebb5d",
    "time": "2021-01-30T21:48:02.009Z",
    "type": "completion"
   },
   {
    "code": "calc_nth_root(4)",
    "id": "ad574582728c41babc8ba9432e0f0b63",
    "idx": 15,
    "time": "2021-01-30T21:48:19.566Z",
    "type": "execution"
   },
   {
    "id": "ad574582728c41babc8ba9432e0f0b63",
    "time": "2021-01-30T21:48:19.628Z",
    "type": "completion"
   },
   {
    "code": "calc_nth_root(8)",
    "id": "ad574582728c41babc8ba9432e0f0b63",
    "idx": 15,
    "time": "2021-01-30T21:48:23.246Z",
    "type": "execution"
   },
   {
    "id": "ad574582728c41babc8ba9432e0f0b63",
    "time": "2021-01-30T21:48:23.313Z",
    "type": "completion"
   },
   {
    "code": "calc_nth_root(2)",
    "id": "ad574582728c41babc8ba9432e0f0b63",
    "idx": 15,
    "time": "2021-01-30T21:48:32.831Z",
    "type": "execution"
   },
   {
    "id": "ad574582728c41babc8ba9432e0f0b63",
    "time": "2021-01-30T21:48:32.907Z",
    "type": "completion"
   },
   {
    "code": "def next_power_of_2(k):\n    ret = 1\n    while ret < k:\n        ret *= 2\n    return ret\n\n# note that the sine function is math.sin(x) and the cosine function is math.cos(x)\ndef calc_nth_root(n):\n    theta_n = 2 * math.pi / n\n    a = math.sin(theta_n)\n    b = math.cos(theta_n)\n    print(theta,a,b)\n    return a + b * 1j\n\ndef calc_all_nth_roots(n):\n    root = calc_nth_root(n)\n    return [root**k for k in range(n)] \n",
    "id": "3778ba572d144362904abd00d0735229",
    "idx": 14,
    "time": "2021-01-30T21:49:00.766Z",
    "type": "execution"
   },
   {
    "id": "3778ba572d144362904abd00d0735229",
    "time": "2021-01-30T21:49:00.828Z",
    "type": "completion"
   },
   {
    "code": "calc_nth_root(2)",
    "id": "ad574582728c41babc8ba9432e0f0b63",
    "idx": 15,
    "time": "2021-01-30T21:49:01.112Z",
    "type": "execution"
   },
   {
    "id": "ad574582728c41babc8ba9432e0f0b63",
    "time": "2021-01-30T21:49:01.181Z",
    "type": "completion"
   },
   {
    "code": "def next_power_of_2(k):\n    ret = 1\n    while ret < k:\n        ret *= 2\n    return ret\n\n# note that the sine function is math.sin(x) and the cosine function is math.cos(x)\ndef calc_nth_root(n):\n    theta_n = 2 * math.pi / n\n    a = math.sin(theta_n)\n    b = math.cos(theta_n)\n    print(theta_n,a,b)\n    return a + b * 1j\n\ndef calc_all_nth_roots(n):\n    root = calc_nth_root(n)\n    return [root**k for k in range(n)] \n",
    "id": "3778ba572d144362904abd00d0735229",
    "idx": 14,
    "time": "2021-01-30T21:49:05.039Z",
    "type": "execution"
   },
   {
    "id": "3778ba572d144362904abd00d0735229",
    "time": "2021-01-30T21:49:05.101Z",
    "type": "completion"
   },
   {
    "code": "calc_nth_root(2)",
    "id": "ad574582728c41babc8ba9432e0f0b63",
    "idx": 15,
    "time": "2021-01-30T21:49:05.389Z",
    "type": "execution"
   },
   {
    "id": "ad574582728c41babc8ba9432e0f0b63",
    "time": "2021-01-30T21:49:05.452Z",
    "type": "completion"
   },
   {
    "code": "def next_power_of_2(k):\n    ret = 1\n    while ret < k:\n        ret *= 2\n    return ret\n\n# note that the sine function is math.sin(x) and the cosine function is math.cos(x)\ndef calc_nth_root(n):\n    theta_n = 2 * math.pi / n\n    a = math.cos(theta_n)\n    b = math.sin(theta_n)\n    print(theta_n,a,b)\n    return a + b * 1j\n\ndef calc_all_nth_roots(n):\n    root = calc_nth_root(n)\n    return [root**k for k in range(n)] \n",
    "id": "3778ba572d144362904abd00d0735229",
    "idx": 14,
    "time": "2021-01-30T21:49:17.065Z",
    "type": "execution"
   },
   {
    "id": "3778ba572d144362904abd00d0735229",
    "time": "2021-01-30T21:49:17.128Z",
    "type": "completion"
   },
   {
    "code": "calc_nth_root(2)",
    "id": "ad574582728c41babc8ba9432e0f0b63",
    "idx": 15,
    "time": "2021-01-30T21:49:17.425Z",
    "type": "execution"
   },
   {
    "id": "ad574582728c41babc8ba9432e0f0b63",
    "time": "2021-01-30T21:49:17.501Z",
    "type": "completion"
   },
   {
    "code": "def next_power_of_2(k):\n    ret = 1\n    while ret < k:\n        ret *= 2\n    return ret\n\n# note that the sine function is math.sin(x) and the cosine function is math.cos(x)\ndef calc_nth_root(n):\n    theta_n = 2 * math.pi / n\n    a = math.cos(theta_n)\n    b = math.sin(theta_n)\n    return a + b * 1j\n\ndef calc_all_nth_roots(n):\n    root = calc_nth_root(n)\n    return [root**k for k in range(n)] \n",
    "id": "3778ba572d144362904abd00d0735229",
    "idx": 14,
    "time": "2021-01-30T21:49:23.949Z",
    "type": "execution"
   },
   {
    "id": "3778ba572d144362904abd00d0735229",
    "time": "2021-01-30T21:49:24.020Z",
    "type": "completion"
   },
   {
    "code": "calc_nth_root(2)",
    "id": "ad574582728c41babc8ba9432e0f0b63",
    "idx": 15,
    "time": "2021-01-30T21:49:24.389Z",
    "type": "execution"
   },
   {
    "id": "ad574582728c41babc8ba9432e0f0b63",
    "time": "2021-01-30T21:49:24.464Z",
    "type": "completion"
   },
   {
    "code": "N = 4 # feel free to change this value and observe what happens\nroots = calc_all_nth_roots(N)\n\n# Plot\nf,ax = plt.subplots()\nf.set_figwidth(4)\nf.set_figheight(4)\nplt.scatter([r.real for r in roots], [r.imag for r in roots]) \nax.spines['left'].set_position('zero')\nax.spines['right'].set_color('none')\nax.yaxis.tick_left()\nax.spines['bottom'].set_position('zero')\nax.spines['top'].set_color('none')\nax.set_xlim([-1.2,1.2])\nax.set_ylim([-1.2,1.2])\nax.set_xticks([-1, -0.5, 0.5, 1])\nax.set_yticks([-1, -0.5, 0.5, 1])\nax.xaxis.tick_bottom()\nplt.show() ",
    "id": "6adb47981b704d5b86d28c97404ebb5d",
    "idx": 17,
    "time": "2021-01-30T21:49:25.265Z",
    "type": "execution"
   },
   {
    "id": "6adb47981b704d5b86d28c97404ebb5d",
    "time": "2021-01-30T21:49:25.435Z",
    "type": "completion"
   },
   {
    "code": "N = 8 # feel free to change this value and observe what happens\nroots = calc_all_nth_roots(N)\n\n# Plot\nf,ax = plt.subplots()\nf.set_figwidth(4)\nf.set_figheight(4)\nplt.scatter([r.real for r in roots], [r.imag for r in roots]) \nax.spines['left'].set_position('zero')\nax.spines['right'].set_color('none')\nax.yaxis.tick_left()\nax.spines['bottom'].set_position('zero')\nax.spines['top'].set_color('none')\nax.set_xlim([-1.2,1.2])\nax.set_ylim([-1.2,1.2])\nax.set_xticks([-1, -0.5, 0.5, 1])\nax.set_yticks([-1, -0.5, 0.5, 1])\nax.xaxis.tick_bottom()\nplt.show() ",
    "id": "6adb47981b704d5b86d28c97404ebb5d",
    "idx": 17,
    "time": "2021-01-30T21:49:28.643Z",
    "type": "execution"
   },
   {
    "id": "6adb47981b704d5b86d28c97404ebb5d",
    "time": "2021-01-30T21:49:28.815Z",
    "type": "completion"
   },
   {
    "code": "N = 16 # feel free to change this value and observe what happens\nroots = calc_all_nth_roots(N)\n\n# Plot\nf,ax = plt.subplots()\nf.set_figwidth(4)\nf.set_figheight(4)\nplt.scatter([r.real for r in roots], [r.imag for r in roots]) \nax.spines['left'].set_position('zero')\nax.spines['right'].set_color('none')\nax.yaxis.tick_left()\nax.spines['bottom'].set_position('zero')\nax.spines['top'].set_color('none')\nax.set_xlim([-1.2,1.2])\nax.set_ylim([-1.2,1.2])\nax.set_xticks([-1, -0.5, 0.5, 1])\nax.set_yticks([-1, -0.5, 0.5, 1])\nax.xaxis.tick_bottom()\nplt.show() ",
    "id": "6adb47981b704d5b86d28c97404ebb5d",
    "idx": 17,
    "time": "2021-01-30T21:49:32.940Z",
    "type": "execution"
   },
   {
    "id": "6adb47981b704d5b86d28c97404ebb5d",
    "time": "2021-01-30T21:49:33.106Z",
    "type": "completion"
   },
   {
    "code": "def poly_multiply(coeffs1, coeffs2):\n    n = next_power_of_2((len(coeffs1) - 1) * (len(coeffs2) - 1)+1)\n    print(n)\n    roots = calc_all_nth_roots(n)\n    print(roots)\n    f1 = FFT(coeffs1, roots)\n    f2 = FFT(coeffs2, roots)\n    res = [f1[i] * f2[i] for i in range(len(f1))]\n    return [x/2 for x in FFT(res, roots[::-1])]",
    "id": "d3951d20f8ed4797a4ceaff63d4d9141",
    "idx": 18,
    "time": "2021-01-30T21:49:44.044Z",
    "type": "execution"
   },
   {
    "id": "d3951d20f8ed4797a4ceaff63d4d9141",
    "time": "2021-01-30T21:49:44.107Z",
    "type": "completion"
   },
   {
    "code": "def round_complex_to_int(lst):\n    return [round(x.real) for x in lst]\n\ndef zero_pop(lst):\n    while lst[-1] == 0:\n        lst.pop()",
    "id": "1574e6f11bed4a05842c592f70aaf324",
    "idx": 20,
    "time": "2021-01-30T21:49:44.574Z",
    "type": "execution"
   },
   {
    "id": "1574e6f11bed4a05842c592f70aaf324",
    "time": "2021-01-30T21:49:44.642Z",
    "type": "completion"
   },
   {
    "code": "expected = [4, 13, 22, 15]\nactual = round_complex_to_int(poly_multiply([1, 2, 3], [4, 5]))\nprint(\"expected: {}\".format(expected))\nprint(\"actual:   {}\".format(actual))",
    "id": "e77f4e708f4e4dcf8334ed34f03ee1fe",
    "idx": 22,
    "time": "2021-01-30T21:49:45.168Z",
    "type": "execution"
   },
   {
    "id": "e77f4e708f4e4dcf8334ed34f03ee1fe",
    "time": "2021-01-30T21:49:45.251Z",
    "type": "completion"
   },
   {
    "code": "def poly_multiply(coeffs1, coeffs2):\n    n = next_power_of_2((len(coeffs1) - 1) * (len(coeffs2) - 1)+1)\n    roots = calc_all_nth_roots(n)\n    f1 = FFT(coeffs1, roots)\n    print(f1)\n    f2 = FFT(coeffs2, roots)\n    res = [f1[i] * f2[i] for i in range(len(f1))]\n    return [x/2 for x in FFT(res, roots[::-1])]",
    "id": "d3951d20f8ed4797a4ceaff63d4d9141",
    "idx": 18,
    "time": "2021-01-30T21:50:34.882Z",
    "type": "execution"
   },
   {
    "id": "d3951d20f8ed4797a4ceaff63d4d9141",
    "time": "2021-01-30T21:50:34.944Z",
    "type": "completion"
   },
   {
    "code": "def round_complex_to_int(lst):\n    return [round(x.real) for x in lst]\n\ndef zero_pop(lst):\n    while lst[-1] == 0:\n        lst.pop()",
    "id": "1574e6f11bed4a05842c592f70aaf324",
    "idx": 20,
    "time": "2021-01-30T21:50:36.841Z",
    "type": "execution"
   },
   {
    "id": "1574e6f11bed4a05842c592f70aaf324",
    "time": "2021-01-30T21:50:36.901Z",
    "type": "completion"
   },
   {
    "code": "expected = [4, 13, 22, 15]\nactual = round_complex_to_int(poly_multiply([1, 2, 3], [4, 5]))\nprint(\"expected: {}\".format(expected))\nprint(\"actual:   {}\".format(actual))",
    "id": "e77f4e708f4e4dcf8334ed34f03ee1fe",
    "idx": 22,
    "time": "2021-01-30T21:50:37.538Z",
    "type": "execution"
   },
   {
    "id": "e77f4e708f4e4dcf8334ed34f03ee1fe",
    "time": "2021-01-30T21:50:37.604Z",
    "type": "completion"
   },
   {
    "code": "expected = [6, -2+2j, 2, -2-2j]\nactual = FFT([1, 2, 3], [1, 1j, -1, -1j])\nprint(\"expected: {}\".format(expected))\nprint(\"actual:   {}\".format(actual))",
    "id": "6cd5592d676b4c03a3b8ef5ce8e3072a",
    "idx": 9,
    "time": "2021-01-30T21:50:56.226Z",
    "type": "execution"
   },
   {
    "id": "6cd5592d676b4c03a3b8ef5ce8e3072a",
    "time": "2021-01-30T21:50:56.300Z",
    "type": "completion"
   },
   {
    "code": "not_expected = [6, 17, 34, 57]\nactual = FFT([1, 2, 3], [1, 2, 3, 4])\nprint(\"NOT expected: {}\".format(not_expected))\nprint(\"actual:       {}\".format(actual))",
    "id": "64e63aa80e15489db288833bf3eb8bff",
    "idx": 11,
    "time": "2021-01-30T21:50:57.321Z",
    "type": "execution"
   },
   {
    "id": "64e63aa80e15489db288833bf3eb8bff",
    "time": "2021-01-30T21:50:57.384Z",
    "type": "completion"
   },
   {
    "code": "def poly_multiply(coeffs1, coeffs2):\n    n = next_power_of_2((len(coeffs1) - 1) * (len(coeffs2) - 1)+1)\n    roots = calc_all_nth_roots(n)\n    f1 = FFT(coeffs1, roots)\n    f2 = FFT(coeffs2, roots)\n    print(f2)\n    res = [f1[i] * f2[i] for i in range(len(f1))]\n    return [x/2 for x in FFT(res, roots[::-1])]",
    "id": "d3951d20f8ed4797a4ceaff63d4d9141",
    "idx": 18,
    "time": "2021-01-30T21:51:44.074Z",
    "type": "execution"
   },
   {
    "id": "d3951d20f8ed4797a4ceaff63d4d9141",
    "time": "2021-01-30T21:51:44.138Z",
    "type": "completion"
   },
   {
    "code": "def round_complex_to_int(lst):\n    return [round(x.real) for x in lst]\n\ndef zero_pop(lst):\n    while lst[-1] == 0:\n        lst.pop()",
    "id": "1574e6f11bed4a05842c592f70aaf324",
    "idx": 20,
    "time": "2021-01-30T21:51:44.772Z",
    "type": "execution"
   },
   {
    "id": "1574e6f11bed4a05842c592f70aaf324",
    "time": "2021-01-30T21:51:44.852Z",
    "type": "completion"
   },
   {
    "code": "expected = [4, 13, 22, 15]\nactual = round_complex_to_int(poly_multiply([1, 2, 3], [4, 5]))\nprint(\"expected: {}\".format(expected))\nprint(\"actual:   {}\".format(actual))",
    "id": "e77f4e708f4e4dcf8334ed34f03ee1fe",
    "idx": 22,
    "time": "2021-01-30T21:51:45.560Z",
    "type": "execution"
   },
   {
    "id": "e77f4e708f4e4dcf8334ed34f03ee1fe",
    "time": "2021-01-30T21:51:45.620Z",
    "type": "completion"
   },
   {
    "code": "def poly_multiply(coeffs1, coeffs2):\n    n = next_power_of_2((len(coeffs1) - 1) * (len(coeffs2) - 1)+1)\n    roots = calc_all_nth_roots(n)\n    f1 = FFT(coeffs1, roots)\n    f2 = FFT(coeffs2, roots)\n    res = [f1[i] * f2[i] for i in range(len(f1))]\n    print(f1, f2, res)\n    return [x/2 for x in FFT(res, roots[::-1])]",
    "id": "d3951d20f8ed4797a4ceaff63d4d9141",
    "idx": 18,
    "time": "2021-01-30T21:52:14.911Z",
    "type": "execution"
   },
   {
    "id": "d3951d20f8ed4797a4ceaff63d4d9141",
    "time": "2021-01-30T21:52:15.019Z",
    "type": "completion"
   },
   {
    "code": "def round_complex_to_int(lst):\n    return [round(x.real) for x in lst]\n\ndef zero_pop(lst):\n    while lst[-1] == 0:\n        lst.pop()",
    "id": "1574e6f11bed4a05842c592f70aaf324",
    "idx": 20,
    "time": "2021-01-30T21:52:16.699Z",
    "type": "execution"
   },
   {
    "id": "1574e6f11bed4a05842c592f70aaf324",
    "time": "2021-01-30T21:52:16.759Z",
    "type": "completion"
   },
   {
    "code": "expected = [4, 13, 22, 15]\nactual = round_complex_to_int(poly_multiply([1, 2, 3], [4, 5]))\nprint(\"expected: {}\".format(expected))\nprint(\"actual:   {}\".format(actual))",
    "id": "e77f4e708f4e4dcf8334ed34f03ee1fe",
    "idx": 22,
    "time": "2021-01-30T21:52:17.397Z",
    "type": "execution"
   },
   {
    "id": "e77f4e708f4e4dcf8334ed34f03ee1fe",
    "time": "2021-01-30T21:52:17.459Z",
    "type": "completion"
   },
   {
    "code": "def poly_multiply(coeffs1, coeffs2):\n    n = next_power_of_2((len(coeffs1) - 1) * (len(coeffs2) - 1)+1)\n    roots = calc_all_nth_roots(n)\n    f1 = FFT(coeffs1, roots)\n    f2 = FFT(coeffs2, roots)\n    res = [f1[i] * f2[i] for i in range(len(f1))]\n    return [x/4 for x in FFT(res, roots[::-1])]",
    "id": "d3951d20f8ed4797a4ceaff63d4d9141",
    "idx": 18,
    "time": "2021-01-30T21:53:18.568Z",
    "type": "execution"
   },
   {
    "id": "d3951d20f8ed4797a4ceaff63d4d9141",
    "time": "2021-01-30T21:53:18.628Z",
    "type": "completion"
   },
   {
    "code": "def round_complex_to_int(lst):\n    return [round(x.real) for x in lst]\n\ndef zero_pop(lst):\n    while lst[-1] == 0:\n        lst.pop()",
    "id": "1574e6f11bed4a05842c592f70aaf324",
    "idx": 20,
    "time": "2021-01-30T21:53:19.107Z",
    "type": "execution"
   },
   {
    "id": "1574e6f11bed4a05842c592f70aaf324",
    "time": "2021-01-30T21:53:19.169Z",
    "type": "completion"
   },
   {
    "code": "expected = [4, 13, 22, 15]\nactual = round_complex_to_int(poly_multiply([1, 2, 3], [4, 5]))\nprint(\"expected: {}\".format(expected))\nprint(\"actual:   {}\".format(actual))",
    "id": "e77f4e708f4e4dcf8334ed34f03ee1fe",
    "idx": 22,
    "time": "2021-01-30T21:53:19.760Z",
    "type": "execution"
   },
   {
    "id": "e77f4e708f4e4dcf8334ed34f03ee1fe",
    "time": "2021-01-30T21:53:19.821Z",
    "type": "completion"
   },
   {
    "code": "def poly_multiply(coeffs1, coeffs2):\n    n = next_power_of_2((len(coeffs1) - 1) * (len(coeffs2) - 1)+1)\n    roots = calc_all_nth_roots(n)\n    f1 = FFT(coeffs1, roots)\n    f2 = FFT(coeffs2, roots)\n    res = [f1[i] * f2[i] for i in range(len(f1))]\n    return [x/n for x in FFT(res, roots[::-1])]",
    "id": "d3951d20f8ed4797a4ceaff63d4d9141",
    "idx": 18,
    "time": "2021-01-30T21:53:24.566Z",
    "type": "execution"
   },
   {
    "id": "d3951d20f8ed4797a4ceaff63d4d9141",
    "time": "2021-01-30T21:53:24.628Z",
    "type": "completion"
   },
   {
    "code": "def round_complex_to_int(lst):\n    return [round(x.real) for x in lst]\n\ndef zero_pop(lst):\n    while lst[-1] == 0:\n        lst.pop()",
    "id": "1574e6f11bed4a05842c592f70aaf324",
    "idx": 20,
    "time": "2021-01-30T21:53:25.093Z",
    "type": "execution"
   },
   {
    "id": "1574e6f11bed4a05842c592f70aaf324",
    "time": "2021-01-30T21:53:25.155Z",
    "type": "completion"
   },
   {
    "code": "expected = [4, 13, 22, 15]\nactual = round_complex_to_int(poly_multiply([1, 2, 3], [4, 5]))\nprint(\"expected: {}\".format(expected))\nprint(\"actual:   {}\".format(actual))",
    "id": "e77f4e708f4e4dcf8334ed34f03ee1fe",
    "idx": 22,
    "time": "2021-01-30T21:53:25.700Z",
    "type": "execution"
   },
   {
    "id": "e77f4e708f4e4dcf8334ed34f03ee1fe",
    "time": "2021-01-30T21:53:25.770Z",
    "type": "completion"
   },
   {
    "code": "expected = [4, 13, 28, 27, 18, 0, 0, 0]\nactual = round_complex_to_int(poly_multiply([1, 2, 3], [4, 5, 6]))\nprint(\"expected: {}\".format(expected))\nprint(\"actual:   {}\".format(actual))",
    "id": "a84b1f7f888c407c8cb90f816cd7a4fe",
    "idx": 23,
    "time": "2021-01-30T21:53:27.780Z",
    "type": "execution"
   },
   {
    "id": "a84b1f7f888c407c8cb90f816cd7a4fe",
    "time": "2021-01-30T21:53:27.845Z",
    "type": "completion"
   },
   {
    "code": "def poly_multiply(coeffs1, coeffs2):\n    n = next_power_of_2((len(coeffs1) - 1) * (len(coeffs2) - 1)+1)\n    roots = calc_all_nth_roots(n)\n    f1 = FFT(coeffs1, roots)\n    f2 = FFT(coeffs2, roots)\n    res = [f1[i] * f2[i] for i in range(len(f1))]\n    inverse_roots = roots[0] + roots[1::-1]\n    return [x/n for x in FFT(res, )]",
    "id": "d3951d20f8ed4797a4ceaff63d4d9141",
    "idx": 18,
    "time": "2021-01-30T21:54:15.636Z",
    "type": "execution"
   },
   {
    "id": "d3951d20f8ed4797a4ceaff63d4d9141",
    "time": "2021-01-30T21:54:15.705Z",
    "type": "completion"
   },
   {
    "code": "def round_complex_to_int(lst):\n    return [round(x.real) for x in lst]\n\ndef zero_pop(lst):\n    while lst[-1] == 0:\n        lst.pop()",
    "id": "1574e6f11bed4a05842c592f70aaf324",
    "idx": 20,
    "time": "2021-01-30T21:54:16.709Z",
    "type": "execution"
   },
   {
    "id": "1574e6f11bed4a05842c592f70aaf324",
    "time": "2021-01-30T21:54:16.777Z",
    "type": "completion"
   },
   {
    "code": "def poly_multiply(coeffs1, coeffs2):\n    n = next_power_of_2((len(coeffs1) - 1) * (len(coeffs2) - 1)+1)\n    roots = calc_all_nth_roots(n)\n    f1 = FFT(coeffs1, roots)\n    f2 = FFT(coeffs2, roots)\n    res = [f1[i] * f2[i] for i in range(len(f1))]\n    inverse_roots = roots[0] + roots[1::-1]\n    print(roots, inverse_roots)\n    return [x/n for x in FFT(res, inverse_roots)]",
    "id": "d3951d20f8ed4797a4ceaff63d4d9141",
    "idx": 18,
    "time": "2021-01-30T21:54:32.065Z",
    "type": "execution"
   },
   {
    "id": "d3951d20f8ed4797a4ceaff63d4d9141",
    "time": "2021-01-30T21:54:32.128Z",
    "type": "completion"
   },
   {
    "code": "def round_complex_to_int(lst):\n    return [round(x.real) for x in lst]\n\ndef zero_pop(lst):\n    while lst[-1] == 0:\n        lst.pop()",
    "id": "1574e6f11bed4a05842c592f70aaf324",
    "idx": 20,
    "time": "2021-01-30T21:54:32.503Z",
    "type": "execution"
   },
   {
    "id": "1574e6f11bed4a05842c592f70aaf324",
    "time": "2021-01-30T21:54:32.571Z",
    "type": "completion"
   },
   {
    "code": "expected = [4, 13, 22, 15]\nactual = round_complex_to_int(poly_multiply([1, 2, 3], [4, 5]))\nprint(\"expected: {}\".format(expected))\nprint(\"actual:   {}\".format(actual))",
    "id": "e77f4e708f4e4dcf8334ed34f03ee1fe",
    "idx": 22,
    "time": "2021-01-30T21:54:33.167Z",
    "type": "execution"
   },
   {
    "id": "e77f4e708f4e4dcf8334ed34f03ee1fe",
    "time": "2021-01-30T21:54:33.286Z",
    "type": "completion"
   },
   {
    "code": "def poly_multiply(coeffs1, coeffs2):\n    n = next_power_of_2((len(coeffs1) - 1) * (len(coeffs2) - 1)+1)\n    roots = calc_all_nth_roots(n)\n    f1 = FFT(coeffs1, roots)\n    f2 = FFT(coeffs2, roots)\n    res = [f1[i] * f2[i] for i in range(len(f1))]\n    inverse_roots = [roots[0]] + roots[1::-1]\n    print(roots, inverse_roots)\n    return [x/n for x in FFT(res, inverse_roots)]",
    "id": "d3951d20f8ed4797a4ceaff63d4d9141",
    "idx": 18,
    "time": "2021-01-30T21:54:40.720Z",
    "type": "execution"
   },
   {
    "id": "d3951d20f8ed4797a4ceaff63d4d9141",
    "time": "2021-01-30T21:54:40.786Z",
    "type": "completion"
   },
   {
    "code": "def round_complex_to_int(lst):\n    return [round(x.real) for x in lst]\n\ndef zero_pop(lst):\n    while lst[-1] == 0:\n        lst.pop()",
    "id": "1574e6f11bed4a05842c592f70aaf324",
    "idx": 20,
    "time": "2021-01-30T21:54:41.076Z",
    "type": "execution"
   },
   {
    "id": "1574e6f11bed4a05842c592f70aaf324",
    "time": "2021-01-30T21:54:41.147Z",
    "type": "completion"
   },
   {
    "code": "expected = [4, 13, 22, 15]\nactual = round_complex_to_int(poly_multiply([1, 2, 3], [4, 5]))\nprint(\"expected: {}\".format(expected))\nprint(\"actual:   {}\".format(actual))",
    "id": "e77f4e708f4e4dcf8334ed34f03ee1fe",
    "idx": 22,
    "time": "2021-01-30T21:54:41.774Z",
    "type": "execution"
   },
   {
    "id": "e77f4e708f4e4dcf8334ed34f03ee1fe",
    "time": "2021-01-30T21:54:41.838Z",
    "type": "completion"
   },
   {
    "code": "def poly_multiply(coeffs1, coeffs2):\n    n = next_power_of_2((len(coeffs1) - 1) * (len(coeffs2) - 1)+1)\n    roots = calc_all_nth_roots(n)\n    f1 = FFT(coeffs1, roots)\n    f2 = FFT(coeffs2, roots)\n    res = [f1[i] * f2[i] for i in range(len(f1))]\n    inverse_roots = roots[n//2:] + roots[:n//2]\n    return [x/n for x in FFT(res, inverse_roots)]",
    "id": "d3951d20f8ed4797a4ceaff63d4d9141",
    "idx": 18,
    "time": "2021-01-30T21:57:09.562Z",
    "type": "execution"
   },
   {
    "id": "d3951d20f8ed4797a4ceaff63d4d9141",
    "time": "2021-01-30T21:57:09.629Z",
    "type": "completion"
   },
   {
    "code": "def round_complex_to_int(lst):\n    return [round(x.real) for x in lst]\n\ndef zero_pop(lst):\n    while lst[-1] == 0:\n        lst.pop()",
    "id": "1574e6f11bed4a05842c592f70aaf324",
    "idx": 20,
    "time": "2021-01-30T21:57:10.156Z",
    "type": "execution"
   },
   {
    "id": "1574e6f11bed4a05842c592f70aaf324",
    "time": "2021-01-30T21:57:10.217Z",
    "type": "completion"
   },
   {
    "code": "expected = [4, 13, 22, 15]\nactual = round_complex_to_int(poly_multiply([1, 2, 3], [4, 5]))\nprint(\"expected: {}\".format(expected))\nprint(\"actual:   {}\".format(actual))",
    "id": "e77f4e708f4e4dcf8334ed34f03ee1fe",
    "idx": 22,
    "time": "2021-01-30T21:57:10.854Z",
    "type": "execution"
   },
   {
    "id": "e77f4e708f4e4dcf8334ed34f03ee1fe",
    "time": "2021-01-30T21:57:10.916Z",
    "type": "completion"
   },
   {
    "code": "def poly_multiply(coeffs1, coeffs2):\n    n = next_power_of_2((len(coeffs1) - 1) * (len(coeffs2) - 1)+1)\n    roots = calc_all_nth_roots(n)\n    f1 = FFT(coeffs1, roots)\n    f2 = FFT(coeffs2, roots)\n    res = [f1[i] * f2[i] for i in range(len(f1))]\n    inverse_roots = roots[n//2:] + roots[:n//2]\n    print(roots)\n    print(inverse_roots)\n    return [x/n for x in FFT(res, inverse_roots)]",
    "id": "d3951d20f8ed4797a4ceaff63d4d9141",
    "idx": 18,
    "time": "2021-01-30T21:57:25.809Z",
    "type": "execution"
   },
   {
    "id": "d3951d20f8ed4797a4ceaff63d4d9141",
    "time": "2021-01-30T21:57:25.871Z",
    "type": "completion"
   },
   {
    "code": "def round_complex_to_int(lst):\n    return [round(x.real) for x in lst]\n\ndef zero_pop(lst):\n    while lst[-1] == 0:\n        lst.pop()",
    "id": "1574e6f11bed4a05842c592f70aaf324",
    "idx": 20,
    "time": "2021-01-30T21:57:26.262Z",
    "type": "execution"
   },
   {
    "id": "1574e6f11bed4a05842c592f70aaf324",
    "time": "2021-01-30T21:57:26.335Z",
    "type": "completion"
   },
   {
    "code": "expected = [4, 13, 22, 15]\nactual = round_complex_to_int(poly_multiply([1, 2, 3], [4, 5]))\nprint(\"expected: {}\".format(expected))\nprint(\"actual:   {}\".format(actual))",
    "id": "e77f4e708f4e4dcf8334ed34f03ee1fe",
    "idx": 22,
    "time": "2021-01-30T21:57:26.784Z",
    "type": "execution"
   },
   {
    "id": "e77f4e708f4e4dcf8334ed34f03ee1fe",
    "time": "2021-01-30T21:57:26.848Z",
    "type": "completion"
   },
   {
    "code": "def poly_multiply(coeffs1, coeffs2):\n    n = next_power_of_2((len(coeffs1) - 1) * (len(coeffs2) - 1)+1)\n    roots = calc_all_nth_roots(n)\n    f1 = FFT(coeffs1, roots)\n    f2 = FFT(coeffs2, roots)\n    res = [f1[i] * f2[i] for i in range(len(f1))]\n    inverse_roots = roots[::-1]\n    print(roots)\n    print(inverse_roots)\n    return [x/n for x in FFT(res, inverse_roots)]",
    "id": "d3951d20f8ed4797a4ceaff63d4d9141",
    "idx": 18,
    "time": "2021-01-30T21:57:52.416Z",
    "type": "execution"
   },
   {
    "id": "d3951d20f8ed4797a4ceaff63d4d9141",
    "time": "2021-01-30T21:57:52.477Z",
    "type": "completion"
   },
   {
    "code": "def round_complex_to_int(lst):\n    return [round(x.real) for x in lst]\n\ndef zero_pop(lst):\n    while lst[-1] == 0:\n        lst.pop()",
    "id": "1574e6f11bed4a05842c592f70aaf324",
    "idx": 20,
    "time": "2021-01-30T21:57:52.963Z",
    "type": "execution"
   },
   {
    "id": "1574e6f11bed4a05842c592f70aaf324",
    "time": "2021-01-30T21:57:53.030Z",
    "type": "completion"
   },
   {
    "code": "expected = [4, 13, 22, 15]\nactual = round_complex_to_int(poly_multiply([1, 2, 3], [4, 5]))\nprint(\"expected: {}\".format(expected))\nprint(\"actual:   {}\".format(actual))",
    "id": "e77f4e708f4e4dcf8334ed34f03ee1fe",
    "idx": 22,
    "time": "2021-01-30T21:57:53.493Z",
    "type": "execution"
   },
   {
    "id": "e77f4e708f4e4dcf8334ed34f03ee1fe",
    "time": "2021-01-30T21:57:53.558Z",
    "type": "completion"
   },
   {
    "code": "def poly_multiply(coeffs1, coeffs2):\n    n = next_power_of_2((len(coeffs1) - 1) * (len(coeffs2) - 1)+1)\n    roots = calc_all_nth_roots(n)\n    f1 = FFT(coeffs1, roots)\n    f2 = FFT(coeffs2, roots)\n    res = [f1[i] * f2[i] for i in range(len(f1))]\n    inverse_roots = roots[::-1]\n    inverse_roots = roots[1:] + [roots[0]]\n    print(roots)\n    print(inverse_roots)\n    return [x/n for x in FFT(res, inverse_roots)]",
    "id": "d3951d20f8ed4797a4ceaff63d4d9141",
    "idx": 18,
    "time": "2021-01-30T21:58:34.465Z",
    "type": "execution"
   },
   {
    "id": "d3951d20f8ed4797a4ceaff63d4d9141",
    "time": "2021-01-30T21:58:34.543Z",
    "type": "completion"
   },
   {
    "code": "def round_complex_to_int(lst):\n    return [round(x.real) for x in lst]\n\ndef zero_pop(lst):\n    while lst[-1] == 0:\n        lst.pop()",
    "id": "1574e6f11bed4a05842c592f70aaf324",
    "idx": 20,
    "time": "2021-01-30T21:58:34.950Z",
    "type": "execution"
   },
   {
    "id": "1574e6f11bed4a05842c592f70aaf324",
    "time": "2021-01-30T21:58:35.017Z",
    "type": "completion"
   },
   {
    "code": "expected = [4, 13, 22, 15]\nactual = round_complex_to_int(poly_multiply([1, 2, 3], [4, 5]))\nprint(\"expected: {}\".format(expected))\nprint(\"actual:   {}\".format(actual))",
    "id": "e77f4e708f4e4dcf8334ed34f03ee1fe",
    "idx": 22,
    "time": "2021-01-30T21:58:35.569Z",
    "type": "execution"
   },
   {
    "id": "e77f4e708f4e4dcf8334ed34f03ee1fe",
    "time": "2021-01-30T21:58:35.631Z",
    "type": "completion"
   },
   {
    "code": "def poly_multiply(coeffs1, coeffs2):\n    n = next_power_of_2((len(coeffs1) - 1) * (len(coeffs2) - 1)+1)\n    roots = calc_all_nth_roots(n)\n    f1 = FFT(coeffs1, roots)\n    f2 = FFT(coeffs2, roots)\n    res = [f1[i] * f2[i] for i in range(len(f1))]\n    inverse_roots = roots[::-1]\n    inverse_roots = inverse_roots[1:] + [inverse_roots[0]]\n    print(roots)\n    print(inverse_roots)\n    return [x/n for x in FFT(res, inverse_roots)]",
    "id": "d3951d20f8ed4797a4ceaff63d4d9141",
    "idx": 18,
    "time": "2021-01-30T21:58:50.577Z",
    "type": "execution"
   },
   {
    "id": "d3951d20f8ed4797a4ceaff63d4d9141",
    "time": "2021-01-30T21:58:50.642Z",
    "type": "completion"
   },
   {
    "code": "def round_complex_to_int(lst):\n    return [round(x.real) for x in lst]\n\ndef zero_pop(lst):\n    while lst[-1] == 0:\n        lst.pop()",
    "id": "1574e6f11bed4a05842c592f70aaf324",
    "idx": 20,
    "time": "2021-01-30T21:58:50.947Z",
    "type": "execution"
   },
   {
    "id": "1574e6f11bed4a05842c592f70aaf324",
    "time": "2021-01-30T21:58:51.009Z",
    "type": "completion"
   },
   {
    "code": "expected = [4, 13, 22, 15]\nactual = round_complex_to_int(poly_multiply([1, 2, 3], [4, 5]))\nprint(\"expected: {}\".format(expected))\nprint(\"actual:   {}\".format(actual))",
    "id": "e77f4e708f4e4dcf8334ed34f03ee1fe",
    "idx": 22,
    "time": "2021-01-30T21:58:51.522Z",
    "type": "execution"
   },
   {
    "id": "e77f4e708f4e4dcf8334ed34f03ee1fe",
    "time": "2021-01-30T21:58:51.585Z",
    "type": "completion"
   },
   {
    "code": "def poly_multiply(coeffs1, coeffs2):\n    n = next_power_of_2((len(coeffs1) - 1) * (len(coeffs2) - 1)+1)\n    roots = calc_all_nth_roots(n)\n    f1 = FFT(coeffs1, roots)\n    f2 = FFT(coeffs2, roots)\n    res = [f1[i] * f2[i] for i in range(len(f1))]\n    inverse_roots = roots[::-1]\n    inverse_roots = inverse_roots[:-1] + [inverse_roots[-1]]\n    print(roots)\n    print(inverse_roots)\n    return [x/n for x in FFT(res, inverse_roots)]",
    "id": "d3951d20f8ed4797a4ceaff63d4d9141",
    "idx": 18,
    "time": "2021-01-30T21:59:03.784Z",
    "type": "execution"
   },
   {
    "id": "d3951d20f8ed4797a4ceaff63d4d9141",
    "time": "2021-01-30T21:59:03.855Z",
    "type": "completion"
   },
   {
    "code": "def round_complex_to_int(lst):\n    return [round(x.real) for x in lst]\n\ndef zero_pop(lst):\n    while lst[-1] == 0:\n        lst.pop()",
    "id": "1574e6f11bed4a05842c592f70aaf324",
    "idx": 20,
    "time": "2021-01-30T21:59:04.460Z",
    "type": "execution"
   },
   {
    "id": "1574e6f11bed4a05842c592f70aaf324",
    "time": "2021-01-30T21:59:04.523Z",
    "type": "completion"
   },
   {
    "code": "expected = [4, 13, 22, 15]\nactual = round_complex_to_int(poly_multiply([1, 2, 3], [4, 5]))\nprint(\"expected: {}\".format(expected))\nprint(\"actual:   {}\".format(actual))",
    "id": "e77f4e708f4e4dcf8334ed34f03ee1fe",
    "idx": 22,
    "time": "2021-01-30T21:59:04.898Z",
    "type": "execution"
   },
   {
    "id": "e77f4e708f4e4dcf8334ed34f03ee1fe",
    "time": "2021-01-30T21:59:04.957Z",
    "type": "completion"
   },
   {
    "code": "def poly_multiply(coeffs1, coeffs2):\n    n = next_power_of_2((len(coeffs1) - 1) * (len(coeffs2) - 1)+1)\n    roots = calc_all_nth_roots(n)\n    f1 = FFT(coeffs1, roots)\n    f2 = FFT(coeffs2, roots)\n    res = [f1[i] * f2[i] for i in range(len(f1))]\n    inverse_roots = roots[::-1]\n    inverse_roots = [inverse_roots[-1]] + inverse_roots[:-1]\n    print(roots)\n    print(inverse_roots)\n    return [x/n for x in FFT(res, inverse_roots)]",
    "id": "d3951d20f8ed4797a4ceaff63d4d9141",
    "idx": 18,
    "time": "2021-01-30T21:59:19.521Z",
    "type": "execution"
   },
   {
    "id": "d3951d20f8ed4797a4ceaff63d4d9141",
    "time": "2021-01-30T21:59:19.586Z",
    "type": "completion"
   },
   {
    "code": "def round_complex_to_int(lst):\n    return [round(x.real) for x in lst]\n\ndef zero_pop(lst):\n    while lst[-1] == 0:\n        lst.pop()",
    "id": "1574e6f11bed4a05842c592f70aaf324",
    "idx": 20,
    "time": "2021-01-30T21:59:20.047Z",
    "type": "execution"
   },
   {
    "id": "1574e6f11bed4a05842c592f70aaf324",
    "time": "2021-01-30T21:59:20.108Z",
    "type": "completion"
   },
   {
    "code": "expected = [4, 13, 22, 15]\nactual = round_complex_to_int(poly_multiply([1, 2, 3], [4, 5]))\nprint(\"expected: {}\".format(expected))\nprint(\"actual:   {}\".format(actual))",
    "id": "e77f4e708f4e4dcf8334ed34f03ee1fe",
    "idx": 22,
    "time": "2021-01-30T21:59:20.624Z",
    "type": "execution"
   },
   {
    "id": "e77f4e708f4e4dcf8334ed34f03ee1fe",
    "time": "2021-01-30T21:59:20.691Z",
    "type": "completion"
   },
   {
    "code": "def poly_multiply(coeffs1, coeffs2):\n    n = next_power_of_2((len(coeffs1) - 1) * (len(coeffs2) - 1)+1)\n    roots = calc_all_nth_roots(n)\n    f1 = FFT(coeffs1, roots)\n    f2 = FFT(coeffs2, roots)\n    res = [f1[i] * f2[i] for i in range(len(f1))]\n    inverse_roots = roots[::-1]\n    inverse_roots = [inverse_roots[-1]] + inverse_roots[:-1]\n    inverse_roots = [x**(-1) for x in roots]\n    print(roots)\n    print(inverse_roots)\n    return [x/n for x in FFT(res, inverse_roots)]",
    "id": "d3951d20f8ed4797a4ceaff63d4d9141",
    "idx": 18,
    "time": "2021-01-30T22:00:16.385Z",
    "type": "execution"
   },
   {
    "id": "d3951d20f8ed4797a4ceaff63d4d9141",
    "time": "2021-01-30T22:00:16.449Z",
    "type": "completion"
   },
   {
    "code": "def round_complex_to_int(lst):\n    return [round(x.real) for x in lst]\n\ndef zero_pop(lst):\n    while lst[-1] == 0:\n        lst.pop()",
    "id": "1574e6f11bed4a05842c592f70aaf324",
    "idx": 20,
    "time": "2021-01-30T22:00:16.946Z",
    "type": "execution"
   },
   {
    "id": "1574e6f11bed4a05842c592f70aaf324",
    "time": "2021-01-30T22:00:17.012Z",
    "type": "completion"
   },
   {
    "code": "expected = [4, 13, 22, 15]\nactual = round_complex_to_int(poly_multiply([1, 2, 3], [4, 5]))\nprint(\"expected: {}\".format(expected))\nprint(\"actual:   {}\".format(actual))",
    "id": "e77f4e708f4e4dcf8334ed34f03ee1fe",
    "idx": 22,
    "time": "2021-01-30T22:00:17.464Z",
    "type": "execution"
   },
   {
    "id": "e77f4e708f4e4dcf8334ed34f03ee1fe",
    "time": "2021-01-30T22:00:17.527Z",
    "type": "completion"
   },
   {
    "code": "def poly_multiply(coeffs1, coeffs2):\n    n = next_power_of_2((len(coeffs1) - 1) * (len(coeffs2) - 1)+1)\n    roots = calc_all_nth_roots(n)\n    f1 = FFT(coeffs1, roots)\n    f2 = FFT(coeffs2, roots)\n    res = [f1[i] * f2[i] for i in range(len(f1))]\n    inverse_roots = [x**(-1) for x in roots]\n    return [x/n for x in FFT(res, inverse_roots)]",
    "id": "d3951d20f8ed4797a4ceaff63d4d9141",
    "idx": 18,
    "time": "2021-01-30T22:00:30.898Z",
    "type": "execution"
   },
   {
    "id": "d3951d20f8ed4797a4ceaff63d4d9141",
    "time": "2021-01-30T22:00:30.960Z",
    "type": "completion"
   },
   {
    "code": "def round_complex_to_int(lst):\n    return [round(x.real) for x in lst]\n\ndef zero_pop(lst):\n    while lst[-1] == 0:\n        lst.pop()",
    "id": "1574e6f11bed4a05842c592f70aaf324",
    "idx": 20,
    "time": "2021-01-30T22:00:31.345Z",
    "type": "execution"
   },
   {
    "id": "1574e6f11bed4a05842c592f70aaf324",
    "time": "2021-01-30T22:00:31.415Z",
    "type": "completion"
   },
   {
    "code": "expected = [4, 13, 22, 15]\nactual = round_complex_to_int(poly_multiply([1, 2, 3], [4, 5]))\nprint(\"expected: {}\".format(expected))\nprint(\"actual:   {}\".format(actual))",
    "id": "e77f4e708f4e4dcf8334ed34f03ee1fe",
    "idx": 22,
    "time": "2021-01-30T22:00:31.976Z",
    "type": "execution"
   },
   {
    "id": "e77f4e708f4e4dcf8334ed34f03ee1fe",
    "time": "2021-01-30T22:00:32.037Z",
    "type": "completion"
   },
   {
    "code": "expected = [4, 13, 28, 27, 18, 0, 0, 0]\nactual = round_complex_to_int(poly_multiply([1, 2, 3], [4, 5, 6]))\nprint(\"expected: {}\".format(expected))\nprint(\"actual:   {}\".format(actual))",
    "id": "a84b1f7f888c407c8cb90f816cd7a4fe",
    "idx": 23,
    "time": "2021-01-30T22:00:32.414Z",
    "type": "execution"
   },
   {
    "id": "a84b1f7f888c407c8cb90f816cd7a4fe",
    "time": "2021-01-30T22:00:32.483Z",
    "type": "completion"
   },
   {
    "code": "result = poly_multiply([1, 2, 3], [4, 5, 6])\nresult",
    "id": "d8ec346e7c00470a885f48b0016e3157",
    "idx": 25,
    "time": "2021-01-30T22:02:47.847Z",
    "type": "execution"
   },
   {
    "id": "d8ec346e7c00470a885f48b0016e3157",
    "time": "2021-01-30T22:02:47.912Z",
    "type": "completion"
   },
   {
    "code": "result = round_complex_to_int(result)\nresult",
    "id": "9dd131071eee448ab7dfaf76693e8461",
    "idx": 27,
    "time": "2021-01-30T22:02:49.004Z",
    "type": "execution"
   },
   {
    "id": "9dd131071eee448ab7dfaf76693e8461",
    "time": "2021-01-30T22:02:49.066Z",
    "type": "completion"
   },
   {
    "code": "zero_pop(result)\nresult",
    "id": "7790e087670240878b40a9a1948f3cca",
    "idx": 29,
    "time": "2021-01-30T22:02:49.825Z",
    "type": "execution"
   },
   {
    "id": "7790e087670240878b40a9a1948f3cca",
    "time": "2021-01-30T22:02:49.886Z",
    "type": "completion"
   },
   {
    "code": "def poly_multiply_naive(coeffs1, coeffs2):\n    n1, n2 = len(coeffs1), len(coeffs2)\n    n = n1 + n2 - 1\n    prod_coeffs = [0] * n\n    for deg in range(n):\n        for i in range(max(0, deg + 1 - n2), min(n1, deg + 1)):\n            prod_coeffs[deg] += coeffs1[i] * coeffs2[deg - i]\n    return prod_coeffs",
    "id": "4373f173cf784f85802661c60df753d8",
    "idx": 33,
    "time": "2021-01-30T22:02:57.363Z",
    "type": "execution"
   },
   {
    "id": "4373f173cf784f85802661c60df753d8",
    "time": "2021-01-30T22:02:57.428Z",
    "type": "completion"
   },
   {
    "code": "def rand_ints(lo, hi, length):\n    ints = list(randint(lo, hi, length))\n    ints = [int(x) for x in ints]\n    return ints\n\ndef record(array, value, name):\n    array.append(value)\n    print(\"%s%f\" % (name, value))\n\nfft_times = []\nnaive_times = []\nspeed_ups = []\n\nfor i in range(5):\n    n = 10 ** i\n    print(\"\\nsize: %d\" % n)\n    poly1 = rand_ints(1, 100, n)\n    poly2 = rand_ints(1, 100, n)\n    time1 = time()\n    fft_res = poly_multiply(poly1, poly2)\n    fft_res = round_complex_to_int(fft_res)\n    zero_pop(fft_res)\n    time2 = time()\n    fft_time = time2 - time1\n    record(fft_times, fft_time, \"FFT time:   \")\n    naive_res = poly_multiply_naive(poly1, poly2)\n    time3 = time()\n    naive_time = time3 - time2\n    record(naive_times, naive_time, \"naive time: \")\n    assert fft_res == naive_res\n    speed_up = naive_time / fft_time\n    record(speed_ups, speed_up, \"speed up: \")\n\nplt.plot(fft_times, label=\"FFT\")\nplt.plot(naive_times, label=\"Naive\")\nplt.xlabel(\"Log Input Size\")\nplt.ylabel(\"Run Time (seconds)\")\nplt.legend(loc=\"upper left\")\nplt.title(\"Polynomial Multiplication Runtime\")\n\nplt.figure()\nplt.plot(speed_ups)\nplt.xlabel(\"Log Input Size\")\nplt.ylabel(\"Speedup\")\nplt.title(\"FFT Polynomial Multiplication Speedup\")",
    "id": "361d635bb180480fbca50927ae7a99c5",
    "idx": 35,
    "time": "2021-01-30T22:02:58.510Z",
    "type": "execution"
   },
   {
    "code": "def rand_ints(lo, hi, length):\n    ints = list(randint(lo, hi, length))\n    ints = [int(x) for x in ints]\n    return ints\n\ndef record(array, value, name):\n    array.append(value)\n    print(\"%s%f\" % (name, value))\n\nfft_times = []\nnaive_times = []\nspeed_ups = []\n\nfor i in range(5):\n    n = 10 ** i\n    print(\"\\nsize: %d\" % n)\n    poly1 = rand_ints(1, 100, n)\n    poly2 = rand_ints(1, 100, n)\n    time1 = time()\n    fft_res = poly_multiply(poly1, poly2)\n    fft_res = round_complex_to_int(fft_res)\n    zero_pop(fft_res)\n    time2 = time()\n    fft_time = time2 - time1\n    record(fft_times, fft_time, \"FFT time:   \")\n    naive_res = poly_multiply_naive(poly1, poly2)\n    time3 = time()\n    naive_time = time3 - time2\n    record(naive_times, naive_time, \"naive time: \")\n    assert fft_res == naive_res\n    speed_up = naive_time / fft_time\n    record(speed_ups, speed_up, \"speed up: \")\n\nplt.plot(fft_times, label=\"FFT\")\nplt.plot(naive_times, label=\"Naive\")\nplt.xlabel(\"Log Input Size\")\nplt.ylabel(\"Run Time (seconds)\")\nplt.legend(loc=\"upper left\")\nplt.title(\"Polynomial Multiplication Runtime\")\n\nplt.figure()\nplt.plot(speed_ups)\nplt.xlabel(\"Log Input Size\")\nplt.ylabel(\"Speedup\")\nplt.title(\"FFT Polynomial Multiplication Speedup\")",
    "id": "361d635bb180480fbca50927ae7a99c5",
    "idx": 35,
    "time": "2021-01-30T22:03:29.266Z",
    "type": "execution"
   },
   {
    "id": "361d635bb180480fbca50927ae7a99c5",
    "time": "2021-01-30T22:03:29.424Z",
    "type": "completion"
   },
   {
    "id": "361d635bb180480fbca50927ae7a99c5",
    "time": "2021-01-30T22:03:29.424Z",
    "type": "completion"
   },
   {
    "code": "import math\nimport cmath\nfrom numpy.random import randint\nfrom time import time\nimport matplotlib.pyplot as plt",
    "id": "b37da62e56824c9995fd675a95f386de",
    "idx": 1,
    "time": "2021-01-30T22:03:36.884Z",
    "type": "execution"
   },
   {
    "code": "def FFT(coeffs, roots):\n    ### YOUR SOLUTION HERE ###\n    if len(coeffs) == 0:\n        return [0]*len(roots)\n    elif len(roots) == 1:\n        return coeffs\n    evens = FFT(coeffs[::2], roots[::2])\n    odds = FFT(coeffs[1::2], roots[::2])\n    return [evens[i] + roots[i] * odds[i] for i in range(len(roots)//2)] + [evens[i] - roots[i] * odds[i] for i in range(len(roots)//2)]\n    \n    ",
    "id": "8ec76e2f0244489bab0c9e0ec0e2f200",
    "idx": 6,
    "time": "2021-01-30T22:03:36.888Z",
    "type": "execution"
   },
   {
    "code": "expected = [6, -2+2j, 2, -2-2j]\nactual = FFT([1, 2, 3], [1, 1j, -1, -1j])\nprint(\"expected: {}\".format(expected))\nprint(\"actual:   {}\".format(actual))",
    "id": "6cd5592d676b4c03a3b8ef5ce8e3072a",
    "idx": 9,
    "time": "2021-01-30T22:03:36.892Z",
    "type": "execution"
   },
   {
    "code": "not_expected = [6, 17, 34, 57]\nactual = FFT([1, 2, 3], [1, 2, 3, 4])\nprint(\"NOT expected: {}\".format(not_expected))\nprint(\"actual:       {}\".format(actual))",
    "id": "64e63aa80e15489db288833bf3eb8bff",
    "idx": 11,
    "time": "2021-01-30T22:03:36.894Z",
    "type": "execution"
   },
   {
    "code": "def next_power_of_2(k):\n    ret = 1\n    while ret < k:\n        ret *= 2\n    return ret\n\n# note that the sine function is math.sin(x) and the cosine function is math.cos(x)\ndef calc_nth_root(n):\n    theta_n = 2 * math.pi / n\n    a = math.cos(theta_n)\n    b = math.sin(theta_n)\n    return a + b * 1j\n\ndef calc_all_nth_roots(n):\n    root = calc_nth_root(n)\n    return [root**k for k in range(n)] \n",
    "id": "3778ba572d144362904abd00d0735229",
    "idx": 14,
    "time": "2021-01-30T22:03:36.898Z",
    "type": "execution"
   },
   {
    "code": "N = 16 # feel free to change this value and observe what happens\nroots = calc_all_nth_roots(N)\n\n# Plot\nf,ax = plt.subplots()\nf.set_figwidth(4)\nf.set_figheight(4)\nplt.scatter([r.real for r in roots], [r.imag for r in roots]) \nax.spines['left'].set_position('zero')\nax.spines['right'].set_color('none')\nax.yaxis.tick_left()\nax.spines['bottom'].set_position('zero')\nax.spines['top'].set_color('none')\nax.set_xlim([-1.2,1.2])\nax.set_ylim([-1.2,1.2])\nax.set_xticks([-1, -0.5, 0.5, 1])\nax.set_yticks([-1, -0.5, 0.5, 1])\nax.xaxis.tick_bottom()\nplt.show() ",
    "id": "6adb47981b704d5b86d28c97404ebb5d",
    "idx": 16,
    "time": "2021-01-30T22:03:36.900Z",
    "type": "execution"
   },
   {
    "code": "def poly_multiply(coeffs1, coeffs2):\n    n = next_power_of_2((len(coeffs1) - 1) * (len(coeffs2) - 1)+1)\n    roots = calc_all_nth_roots(n)\n    f1 = FFT(coeffs1, roots)\n    f2 = FFT(coeffs2, roots)\n    res = [f1[i] * f2[i] for i in range(len(f1))]\n    inverse_roots = [x**(-1) for x in roots]\n    return [x/n for x in FFT(res, inverse_roots)]",
    "id": "d3951d20f8ed4797a4ceaff63d4d9141",
    "idx": 18,
    "time": "2021-01-30T22:03:36.902Z",
    "type": "execution"
   },
   {
    "code": "def round_complex_to_int(lst):\n    return [round(x.real) for x in lst]\n\ndef zero_pop(lst):\n    while lst[-1] == 0:\n        lst.pop()",
    "id": "1574e6f11bed4a05842c592f70aaf324",
    "idx": 20,
    "time": "2021-01-30T22:03:36.904Z",
    "type": "execution"
   },
   {
    "code": "expected = [4, 13, 22, 15]\nactual = round_complex_to_int(poly_multiply([1, 2, 3], [4, 5]))\nprint(\"expected: {}\".format(expected))\nprint(\"actual:   {}\".format(actual))",
    "id": "e77f4e708f4e4dcf8334ed34f03ee1fe",
    "idx": 22,
    "time": "2021-01-30T22:03:36.906Z",
    "type": "execution"
   },
   {
    "code": "expected = [4, 13, 28, 27, 18, 0, 0, 0]\nactual = round_complex_to_int(poly_multiply([1, 2, 3], [4, 5, 6]))\nprint(\"expected: {}\".format(expected))\nprint(\"actual:   {}\".format(actual))",
    "id": "a84b1f7f888c407c8cb90f816cd7a4fe",
    "idx": 23,
    "time": "2021-01-30T22:03:36.907Z",
    "type": "execution"
   },
   {
    "code": "result = poly_multiply([1, 2, 3], [4, 5, 6])\nresult",
    "id": "d8ec346e7c00470a885f48b0016e3157",
    "idx": 25,
    "time": "2021-01-30T22:03:36.909Z",
    "type": "execution"
   },
   {
    "code": "result = round_complex_to_int(result)\nresult",
    "id": "9dd131071eee448ab7dfaf76693e8461",
    "idx": 27,
    "time": "2021-01-30T22:03:36.911Z",
    "type": "execution"
   },
   {
    "code": "zero_pop(result)\nresult",
    "id": "7790e087670240878b40a9a1948f3cca",
    "idx": 29,
    "time": "2021-01-30T22:03:36.913Z",
    "type": "execution"
   },
   {
    "code": "def poly_multiply_naive(coeffs1, coeffs2):\n    n1, n2 = len(coeffs1), len(coeffs2)\n    n = n1 + n2 - 1\n    prod_coeffs = [0] * n\n    for deg in range(n):\n        for i in range(max(0, deg + 1 - n2), min(n1, deg + 1)):\n            prod_coeffs[deg] += coeffs1[i] * coeffs2[deg - i]\n    return prod_coeffs",
    "id": "4373f173cf784f85802661c60df753d8",
    "idx": 33,
    "time": "2021-01-30T22:03:36.915Z",
    "type": "execution"
   },
   {
    "id": "b37da62e56824c9995fd675a95f386de",
    "time": "2021-01-30T22:03:37.309Z",
    "type": "completion"
   },
   {
    "id": "8ec76e2f0244489bab0c9e0ec0e2f200",
    "time": "2021-01-30T22:03:37.314Z",
    "type": "completion"
   },
   {
    "id": "6cd5592d676b4c03a3b8ef5ce8e3072a",
    "time": "2021-01-30T22:03:37.320Z",
    "type": "completion"
   },
   {
    "id": "64e63aa80e15489db288833bf3eb8bff",
    "time": "2021-01-30T22:03:37.367Z",
    "type": "completion"
   },
   {
    "id": "3778ba572d144362904abd00d0735229",
    "time": "2021-01-30T22:03:37.370Z",
    "type": "completion"
   },
   {
    "id": "6adb47981b704d5b86d28c97404ebb5d",
    "time": "2021-01-30T22:03:37.487Z",
    "type": "completion"
   },
   {
    "id": "d3951d20f8ed4797a4ceaff63d4d9141",
    "time": "2021-01-30T22:03:37.489Z",
    "type": "completion"
   },
   {
    "id": "1574e6f11bed4a05842c592f70aaf324",
    "time": "2021-01-30T22:03:37.513Z",
    "type": "completion"
   },
   {
    "id": "e77f4e708f4e4dcf8334ed34f03ee1fe",
    "time": "2021-01-30T22:03:37.515Z",
    "type": "completion"
   },
   {
    "id": "a84b1f7f888c407c8cb90f816cd7a4fe",
    "time": "2021-01-30T22:03:37.516Z",
    "type": "completion"
   },
   {
    "id": "d8ec346e7c00470a885f48b0016e3157",
    "time": "2021-01-30T22:03:37.518Z",
    "type": "completion"
   },
   {
    "id": "9dd131071eee448ab7dfaf76693e8461",
    "time": "2021-01-30T22:03:37.522Z",
    "type": "completion"
   },
   {
    "id": "7790e087670240878b40a9a1948f3cca",
    "time": "2021-01-30T22:03:37.559Z",
    "type": "completion"
   },
   {
    "id": "4373f173cf784f85802661c60df753d8",
    "time": "2021-01-30T22:03:37.560Z",
    "type": "completion"
   },
   {
    "code": "def rand_ints(lo, hi, length):\n    ints = list(randint(lo, hi, length))\n    ints = [int(x) for x in ints]\n    return ints\n\ndef record(array, value, name):\n    array.append(value)\n    print(\"%s%f\" % (name, value))\n\nfft_times = []\nnaive_times = []\nspeed_ups = []\n\nfor i in range(5):\n    n = 10 ** i\n    print(\"\\nsize: %d\" % n)\n    poly1 = rand_ints(1, 100, n)\n    poly2 = rand_ints(1, 100, n)\n    time1 = time()\n    fft_res = poly_multiply(poly1, poly2)\n    fft_res = round_complex_to_int(fft_res)\n    zero_pop(fft_res)\n    time2 = time()\n    fft_time = time2 - time1\n    record(fft_times, fft_time, \"FFT time:   \")\n    naive_res = poly_multiply_naive(poly1, poly2)\n    time3 = time()\n    naive_time = time3 - time2\n    record(naive_times, naive_time, \"naive time: \")\n    assert fft_res == naive_res\n    speed_up = naive_time / fft_time\n    record(speed_ups, speed_up, \"speed up: \")\n\nplt.plot(fft_times, label=\"FFT\")\nplt.plot(naive_times, label=\"Naive\")\nplt.xlabel(\"Log Input Size\")\nplt.ylabel(\"Run Time (seconds)\")\nplt.legend(loc=\"upper left\")\nplt.title(\"Polynomial Multiplication Runtime\")\n\nplt.figure()\nplt.plot(speed_ups)\nplt.xlabel(\"Log Input Size\")\nplt.ylabel(\"Speedup\")\nplt.title(\"FFT Polynomial Multiplication Speedup\")",
    "id": "361d635bb180480fbca50927ae7a99c5",
    "idx": 35,
    "time": "2021-01-30T22:03:41.391Z",
    "type": "execution"
   },
   {
    "code": "import math\nimport cmath\nfrom numpy.random import randint\nfrom time import time\nimport matplotlib.pyplot as plt",
    "id": "b37da62e56824c9995fd675a95f386de",
    "idx": 1,
    "time": "2021-01-30T22:05:25.437Z",
    "type": "execution"
   },
   {
    "code": "def FFT(coeffs, roots):\n    ### YOUR SOLUTION HERE ###\n    if len(coeffs) == 0:\n        return [0]*len(roots)\n    elif len(roots) == 1:\n        return coeffs\n    evens = FFT(coeffs[::2], roots[::2])\n    odds = FFT(coeffs[1::2], roots[::2])\n    return [evens[i] + roots[i] * odds[i] for i in range(len(roots)//2)] + [evens[i] - roots[i] * odds[i] for i in range(len(roots)//2)]\n    \n    ",
    "id": "8ec76e2f0244489bab0c9e0ec0e2f200",
    "idx": 6,
    "time": "2021-01-30T22:05:25.443Z",
    "type": "execution"
   },
   {
    "code": "expected = [6, -2+2j, 2, -2-2j]\nactual = FFT([1, 2, 3], [1, 1j, -1, -1j])\nprint(\"expected: {}\".format(expected))\nprint(\"actual:   {}\".format(actual))",
    "id": "6cd5592d676b4c03a3b8ef5ce8e3072a",
    "idx": 9,
    "time": "2021-01-30T22:05:25.446Z",
    "type": "execution"
   },
   {
    "code": "not_expected = [6, 17, 34, 57]\nactual = FFT([1, 2, 3], [1, 2, 3, 4])\nprint(\"NOT expected: {}\".format(not_expected))\nprint(\"actual:       {}\".format(actual))",
    "id": "64e63aa80e15489db288833bf3eb8bff",
    "idx": 11,
    "time": "2021-01-30T22:05:25.448Z",
    "type": "execution"
   },
   {
    "code": "def next_power_of_2(k):\n    ret = 1\n    while ret < k:\n        ret *= 2\n    return ret\n\n# note that the sine function is math.sin(x) and the cosine function is math.cos(x)\ndef calc_nth_root(n):\n    theta_n = 2 * math.pi / n\n    a = math.cos(theta_n)\n    b = math.sin(theta_n)\n    return a + b * 1j\n\ndef calc_all_nth_roots(n):\n    root = calc_nth_root(n)\n    return [root**k for k in range(n)] \n",
    "id": "3778ba572d144362904abd00d0735229",
    "idx": 14,
    "time": "2021-01-30T22:05:25.450Z",
    "type": "execution"
   },
   {
    "code": "N = 16 # feel free to change this value and observe what happens\nroots = calc_all_nth_roots(N)\n\n# Plot\nf,ax = plt.subplots()\nf.set_figwidth(4)\nf.set_figheight(4)\nplt.scatter([r.real for r in roots], [r.imag for r in roots]) \nax.spines['left'].set_position('zero')\nax.spines['right'].set_color('none')\nax.yaxis.tick_left()\nax.spines['bottom'].set_position('zero')\nax.spines['top'].set_color('none')\nax.set_xlim([-1.2,1.2])\nax.set_ylim([-1.2,1.2])\nax.set_xticks([-1, -0.5, 0.5, 1])\nax.set_yticks([-1, -0.5, 0.5, 1])\nax.xaxis.tick_bottom()\nplt.show() ",
    "id": "6adb47981b704d5b86d28c97404ebb5d",
    "idx": 16,
    "time": "2021-01-30T22:05:25.452Z",
    "type": "execution"
   },
   {
    "code": "def poly_multiply(coeffs1, coeffs2):\n    n = next_power_of_2((len(coeffs1) - 1) * (len(coeffs2) - 1)+1)\n    roots = calc_all_nth_roots(n)\n    f1 = FFT(coeffs1, roots)\n    f2 = FFT(coeffs2, roots)\n    res = [f1[i] * f2[i] for i in range(len(f1))]\n    inverse_roots = [x**(-1) for x in roots]\n    return [x/n for x in FFT(res, inverse_roots)]",
    "id": "d3951d20f8ed4797a4ceaff63d4d9141",
    "idx": 18,
    "time": "2021-01-30T22:05:25.454Z",
    "type": "execution"
   },
   {
    "code": "def round_complex_to_int(lst):\n    return [round(x.real) for x in lst]\n\ndef zero_pop(lst):\n    while lst[-1] == 0:\n        lst.pop()",
    "id": "1574e6f11bed4a05842c592f70aaf324",
    "idx": 20,
    "time": "2021-01-30T22:05:25.455Z",
    "type": "execution"
   },
   {
    "code": "expected = [4, 13, 22, 15]\nactual = round_complex_to_int(poly_multiply([1, 2, 3], [4, 5]))\nprint(\"expected: {}\".format(expected))\nprint(\"actual:   {}\".format(actual))",
    "id": "e77f4e708f4e4dcf8334ed34f03ee1fe",
    "idx": 22,
    "time": "2021-01-30T22:05:25.457Z",
    "type": "execution"
   },
   {
    "code": "expected = [4, 13, 28, 27, 18, 0, 0, 0]\nactual = round_complex_to_int(poly_multiply([1, 2, 3], [4, 5, 6]))\nprint(\"expected: {}\".format(expected))\nprint(\"actual:   {}\".format(actual))",
    "id": "a84b1f7f888c407c8cb90f816cd7a4fe",
    "idx": 23,
    "time": "2021-01-30T22:05:25.459Z",
    "type": "execution"
   },
   {
    "code": "result = poly_multiply([1, 2, 3], [4, 5, 6])\nresult",
    "id": "d8ec346e7c00470a885f48b0016e3157",
    "idx": 25,
    "time": "2021-01-30T22:05:25.461Z",
    "type": "execution"
   },
   {
    "code": "result = round_complex_to_int(result)\nresult",
    "id": "9dd131071eee448ab7dfaf76693e8461",
    "idx": 27,
    "time": "2021-01-30T22:05:25.463Z",
    "type": "execution"
   },
   {
    "code": "zero_pop(result)\nresult",
    "id": "7790e087670240878b40a9a1948f3cca",
    "idx": 29,
    "time": "2021-01-30T22:05:25.465Z",
    "type": "execution"
   },
   {
    "code": "def poly_multiply_naive(coeffs1, coeffs2):\n    n1, n2 = len(coeffs1), len(coeffs2)\n    n = n1 + n2 - 1\n    prod_coeffs = [0] * n\n    for deg in range(n):\n        for i in range(max(0, deg + 1 - n2), min(n1, deg + 1)):\n            prod_coeffs[deg] += coeffs1[i] * coeffs2[deg - i]\n    return prod_coeffs",
    "id": "4373f173cf784f85802661c60df753d8",
    "idx": 33,
    "time": "2021-01-30T22:05:25.468Z",
    "type": "execution"
   },
   {
    "code": "def rand_ints(lo, hi, length):\n    ints = list(randint(lo, hi, length))\n    ints = [int(x) for x in ints]\n    return ints\n\ndef record(array, value, name):\n    array.append(value)\n    print(\"%s%f\" % (name, value))\n\nfft_times = []\nnaive_times = []\nspeed_ups = []\n\nfor i in range(5):\n    n = 10 ** i\n    print(\"\\nsize: %d\" % n)\n    poly1 = rand_ints(1, 100, n)\n    poly2 = rand_ints(1, 100, n)\n    time1 = time()\n    fft_res = poly_multiply(poly1, poly2)\n    fft_res = round_complex_to_int(fft_res)\n    zero_pop(fft_res)\n    time2 = time()\n    fft_time = time2 - time1\n    record(fft_times, fft_time, \"FFT time:   \")\n    naive_res = poly_multiply_naive(poly1, poly2)\n    time3 = time()\n    naive_time = time3 - time2\n    record(naive_times, naive_time, \"naive time: \")\n    assert fft_res == naive_res\n    speed_up = naive_time / fft_time\n    record(speed_ups, speed_up, \"speed up: \")\n\nplt.plot(fft_times, label=\"FFT\")\nplt.plot(naive_times, label=\"Naive\")\nplt.xlabel(\"Log Input Size\")\nplt.ylabel(\"Run Time (seconds)\")\nplt.legend(loc=\"upper left\")\nplt.title(\"Polynomial Multiplication Runtime\")\n\nplt.figure()\nplt.plot(speed_ups)\nplt.xlabel(\"Log Input Size\")\nplt.ylabel(\"Speedup\")\nplt.title(\"FFT Polynomial Multiplication Speedup\")",
    "id": "361d635bb180480fbca50927ae7a99c5",
    "idx": 35,
    "time": "2021-01-30T22:05:25.469Z",
    "type": "execution"
   },
   {
    "id": "b37da62e56824c9995fd675a95f386de",
    "time": "2021-01-30T22:05:25.877Z",
    "type": "completion"
   },
   {
    "id": "8ec76e2f0244489bab0c9e0ec0e2f200",
    "time": "2021-01-30T22:05:25.894Z",
    "type": "completion"
   },
   {
    "id": "6cd5592d676b4c03a3b8ef5ce8e3072a",
    "time": "2021-01-30T22:05:25.897Z",
    "type": "completion"
   },
   {
    "id": "64e63aa80e15489db288833bf3eb8bff",
    "time": "2021-01-30T22:05:25.930Z",
    "type": "completion"
   },
   {
    "id": "3778ba572d144362904abd00d0735229",
    "time": "2021-01-30T22:05:25.931Z",
    "type": "completion"
   },
   {
    "id": "6adb47981b704d5b86d28c97404ebb5d",
    "time": "2021-01-30T22:05:26.031Z",
    "type": "completion"
   },
   {
    "id": "d3951d20f8ed4797a4ceaff63d4d9141",
    "time": "2021-01-30T22:05:26.032Z",
    "type": "completion"
   },
   {
    "id": "1574e6f11bed4a05842c592f70aaf324",
    "time": "2021-01-30T22:05:26.034Z",
    "type": "completion"
   },
   {
    "id": "e77f4e708f4e4dcf8334ed34f03ee1fe",
    "time": "2021-01-30T22:05:26.066Z",
    "type": "completion"
   },
   {
    "id": "a84b1f7f888c407c8cb90f816cd7a4fe",
    "time": "2021-01-30T22:05:26.067Z",
    "type": "completion"
   },
   {
    "id": "d8ec346e7c00470a885f48b0016e3157",
    "time": "2021-01-30T22:05:26.072Z",
    "type": "completion"
   },
   {
    "id": "9dd131071eee448ab7dfaf76693e8461",
    "time": "2021-01-30T22:05:26.074Z",
    "type": "completion"
   },
   {
    "id": "7790e087670240878b40a9a1948f3cca",
    "time": "2021-01-30T22:05:26.082Z",
    "type": "completion"
   },
   {
    "id": "4373f173cf784f85802661c60df753d8",
    "time": "2021-01-30T22:05:26.120Z",
    "type": "completion"
   },
   {
    "code": "import math\nimport cmath\nfrom numpy.random import randint\nfrom time import time\nimport matplotlib.pyplot as plt",
    "id": "b37da62e56824c9995fd675a95f386de",
    "idx": 1,
    "time": "2021-01-30T22:06:01.765Z",
    "type": "execution"
   },
   {
    "code": "def FFT(coeffs, roots):\n    ### YOUR SOLUTION HERE ###\n    if len(coeffs) == 0:\n        return [0]*len(roots)\n    elif len(roots) == 1:\n        return coeffs\n    evens = FFT(coeffs[::2], roots[::2])\n    odds = FFT(coeffs[1::2], roots[::2])\n    return [evens[i] + roots[i] * odds[i] for i in range(len(roots)//2)] + [evens[i] - roots[i] * odds[i] for i in range(len(roots)//2)]\n    \n    ",
    "id": "8ec76e2f0244489bab0c9e0ec0e2f200",
    "idx": 6,
    "time": "2021-01-30T22:06:01.769Z",
    "type": "execution"
   },
   {
    "code": "expected = [6, -2+2j, 2, -2-2j]\nactual = FFT([1, 2, 3], [1, 1j, -1, -1j])\nprint(\"expected: {}\".format(expected))\nprint(\"actual:   {}\".format(actual))",
    "id": "6cd5592d676b4c03a3b8ef5ce8e3072a",
    "idx": 9,
    "time": "2021-01-30T22:06:01.772Z",
    "type": "execution"
   },
   {
    "code": "not_expected = [6, 17, 34, 57]\nactual = FFT([1, 2, 3], [1, 2, 3, 4])\nprint(\"NOT expected: {}\".format(not_expected))\nprint(\"actual:       {}\".format(actual))",
    "id": "64e63aa80e15489db288833bf3eb8bff",
    "idx": 11,
    "time": "2021-01-30T22:06:01.774Z",
    "type": "execution"
   },
   {
    "code": "def next_power_of_2(k):\n    ret = 1\n    while ret < k:\n        ret *= 2\n    return ret\n\n# note that the sine function is math.sin(x) and the cosine function is math.cos(x)\ndef calc_nth_root(n):\n    theta_n = 2 * math.pi / n\n    a = math.cos(theta_n)\n    b = math.sin(theta_n)\n    return a + b * 1j\n\ndef calc_all_nth_roots(n):\n    root = calc_nth_root(n)\n    return [root**k for k in range(n)] \n",
    "id": "3778ba572d144362904abd00d0735229",
    "idx": 14,
    "time": "2021-01-30T22:06:01.776Z",
    "type": "execution"
   },
   {
    "code": "N = 16 # feel free to change this value and observe what happens\nroots = calc_all_nth_roots(N)\n\n# Plot\nf,ax = plt.subplots()\nf.set_figwidth(4)\nf.set_figheight(4)\nplt.scatter([r.real for r in roots], [r.imag for r in roots]) \nax.spines['left'].set_position('zero')\nax.spines['right'].set_color('none')\nax.yaxis.tick_left()\nax.spines['bottom'].set_position('zero')\nax.spines['top'].set_color('none')\nax.set_xlim([-1.2,1.2])\nax.set_ylim([-1.2,1.2])\nax.set_xticks([-1, -0.5, 0.5, 1])\nax.set_yticks([-1, -0.5, 0.5, 1])\nax.xaxis.tick_bottom()\nplt.show() ",
    "id": "6adb47981b704d5b86d28c97404ebb5d",
    "idx": 16,
    "time": "2021-01-30T22:06:01.778Z",
    "type": "execution"
   },
   {
    "code": "def poly_multiply(coeffs1, coeffs2):\n    n = next_power_of_2((len(coeffs1) - 1) * (len(coeffs2) - 1)+1)\n    roots = calc_all_nth_roots(n)\n    f1 = FFT(coeffs1, roots)\n    f2 = FFT(coeffs2, roots)\n    res = [f1[i] * f2[i] for i in range(len(f1))]\n    inverse_roots = [x**(-1) for x in roots]\n    return [x/n for x in FFT(res, inverse_roots)]",
    "id": "d3951d20f8ed4797a4ceaff63d4d9141",
    "idx": 18,
    "time": "2021-01-30T22:06:01.779Z",
    "type": "execution"
   },
   {
    "code": "def round_complex_to_int(lst):\n    return [round(x.real) for x in lst]\n\ndef zero_pop(lst):\n    while lst[-1] == 0:\n        lst.pop()",
    "id": "1574e6f11bed4a05842c592f70aaf324",
    "idx": 20,
    "time": "2021-01-30T22:06:01.780Z",
    "type": "execution"
   },
   {
    "code": "expected = [4, 13, 22, 15]\nactual = round_complex_to_int(poly_multiply([1, 2, 3], [4, 5]))\nprint(\"expected: {}\".format(expected))\nprint(\"actual:   {}\".format(actual))",
    "id": "e77f4e708f4e4dcf8334ed34f03ee1fe",
    "idx": 22,
    "time": "2021-01-30T22:06:01.782Z",
    "type": "execution"
   },
   {
    "code": "expected = [4, 13, 28, 27, 18, 0, 0, 0]\nactual = round_complex_to_int(poly_multiply([1, 2, 3], [4, 5, 6]))\nprint(\"expected: {}\".format(expected))\nprint(\"actual:   {}\".format(actual))",
    "id": "a84b1f7f888c407c8cb90f816cd7a4fe",
    "idx": 23,
    "time": "2021-01-30T22:06:01.783Z",
    "type": "execution"
   },
   {
    "code": "result = poly_multiply([1, 2, 3], [4, 5, 6])\nresult",
    "id": "d8ec346e7c00470a885f48b0016e3157",
    "idx": 25,
    "time": "2021-01-30T22:06:01.785Z",
    "type": "execution"
   },
   {
    "code": "result = round_complex_to_int(result)\nresult",
    "id": "9dd131071eee448ab7dfaf76693e8461",
    "idx": 27,
    "time": "2021-01-30T22:06:01.787Z",
    "type": "execution"
   },
   {
    "code": "zero_pop(result)\nresult",
    "id": "7790e087670240878b40a9a1948f3cca",
    "idx": 29,
    "time": "2021-01-30T22:06:01.788Z",
    "type": "execution"
   },
   {
    "code": "def poly_multiply_naive(coeffs1, coeffs2):\n    n1, n2 = len(coeffs1), len(coeffs2)\n    n = n1 + n2 - 1\n    prod_coeffs = [0] * n\n    for deg in range(n):\n        for i in range(max(0, deg + 1 - n2), min(n1, deg + 1)):\n            prod_coeffs[deg] += coeffs1[i] * coeffs2[deg - i]\n    return prod_coeffs",
    "id": "4373f173cf784f85802661c60df753d8",
    "idx": 33,
    "time": "2021-01-30T22:06:01.790Z",
    "type": "execution"
   },
   {
    "code": "def rand_ints(lo, hi, length):\n    ints = list(randint(lo, hi, length))\n    ints = [int(x) for x in ints]\n    return ints\n\ndef record(array, value, name):\n    array.append(value)\n    print(\"%s%f\" % (name, value))\n\nfft_times = []\nnaive_times = []\nspeed_ups = []\n\nfor i in range(4):\n    n = 10 ** i\n    print(\"\\nsize: %d\" % n)\n    poly1 = rand_ints(1, 100, n)\n    poly2 = rand_ints(1, 100, n)\n    time1 = time()\n    fft_res = poly_multiply(poly1, poly2)\n    fft_res = round_complex_to_int(fft_res)\n    zero_pop(fft_res)\n    time2 = time()\n    fft_time = time2 - time1\n    record(fft_times, fft_time, \"FFT time:   \")\n    naive_res = poly_multiply_naive(poly1, poly2)\n    time3 = time()\n    naive_time = time3 - time2\n    record(naive_times, naive_time, \"naive time: \")\n    assert fft_res == naive_res\n    speed_up = naive_time / fft_time\n    record(speed_ups, speed_up, \"speed up: \")\n\nplt.plot(fft_times, label=\"FFT\")\nplt.plot(naive_times, label=\"Naive\")\nplt.xlabel(\"Log Input Size\")\nplt.ylabel(\"Run Time (seconds)\")\nplt.legend(loc=\"upper left\")\nplt.title(\"Polynomial Multiplication Runtime\")\n\nplt.figure()\nplt.plot(speed_ups)\nplt.xlabel(\"Log Input Size\")\nplt.ylabel(\"Speedup\")\nplt.title(\"FFT Polynomial Multiplication Speedup\")",
    "id": "361d635bb180480fbca50927ae7a99c5",
    "idx": 35,
    "time": "2021-01-30T22:06:01.791Z",
    "type": "execution"
   },
   {
    "id": "b37da62e56824c9995fd675a95f386de",
    "time": "2021-01-30T22:06:02.198Z",
    "type": "completion"
   },
   {
    "id": "8ec76e2f0244489bab0c9e0ec0e2f200",
    "time": "2021-01-30T22:06:02.201Z",
    "type": "completion"
   },
   {
    "id": "6cd5592d676b4c03a3b8ef5ce8e3072a",
    "time": "2021-01-30T22:06:02.250Z",
    "type": "completion"
   },
   {
    "id": "64e63aa80e15489db288833bf3eb8bff",
    "time": "2021-01-30T22:06:02.254Z",
    "type": "completion"
   },
   {
    "id": "3778ba572d144362904abd00d0735229",
    "time": "2021-01-30T22:06:02.255Z",
    "type": "completion"
   },
   {
    "id": "6adb47981b704d5b86d28c97404ebb5d",
    "time": "2021-01-30T22:06:02.355Z",
    "type": "completion"
   },
   {
    "id": "d3951d20f8ed4797a4ceaff63d4d9141",
    "time": "2021-01-30T22:06:02.356Z",
    "type": "completion"
   },
   {
    "id": "1574e6f11bed4a05842c592f70aaf324",
    "time": "2021-01-30T22:06:02.357Z",
    "type": "completion"
   },
   {
    "id": "e77f4e708f4e4dcf8334ed34f03ee1fe",
    "time": "2021-01-30T22:06:02.391Z",
    "type": "completion"
   },
   {
    "id": "a84b1f7f888c407c8cb90f816cd7a4fe",
    "time": "2021-01-30T22:06:02.393Z",
    "type": "completion"
   },
   {
    "id": "d8ec346e7c00470a885f48b0016e3157",
    "time": "2021-01-30T22:06:02.396Z",
    "type": "completion"
   },
   {
    "id": "9dd131071eee448ab7dfaf76693e8461",
    "time": "2021-01-30T22:06:02.397Z",
    "type": "completion"
   },
   {
    "id": "7790e087670240878b40a9a1948f3cca",
    "time": "2021-01-30T22:06:02.402Z",
    "type": "completion"
   },
   {
    "id": "4373f173cf784f85802661c60df753d8",
    "time": "2021-01-30T22:06:02.412Z",
    "type": "completion"
   },
   {
    "id": "361d635bb180480fbca50927ae7a99c5",
    "time": "2021-01-30T22:06:16.254Z",
    "type": "completion"
   },
   {
    "id": "361d635bb180480fbca50927ae7a99c5",
    "time": "2021-01-30T22:06:16.254Z",
    "type": "completion"
   },
   {
    "id": "361d635bb180480fbca50927ae7a99c5",
    "time": "2021-01-30T22:06:16.255Z",
    "type": "completion"
   },
   {
    "code": "def poly_multiply(coeffs1, coeffs2):\n    n = next_power_of_2((len(coeffs1) - 1) * (len(coeffs2) - 1)+1)\n    roots = calc_all_nth_roots(n)\n    f1 = FFT(coeffs1, roots)\n    f2 = FFT(coeffs2, roots)\n    return f1\n    res = [f1[i] * f2[i] for i in range(len(f1))]\n    inverse_roots = [x**(-1) for x in roots]\n    return [x/n for x in FFT(res, inverse_roots)]",
    "id": "d3951d20f8ed4797a4ceaff63d4d9141",
    "idx": 18,
    "time": "2021-01-30T22:07:34.907Z",
    "type": "execution"
   },
   {
    "id": "d3951d20f8ed4797a4ceaff63d4d9141",
    "time": "2021-01-30T22:07:34.974Z",
    "type": "completion"
   },
   {
    "code": "def rand_ints(lo, hi, length):\n    ints = list(randint(lo, hi, length))\n    ints = [int(x) for x in ints]\n    return ints\n\ndef record(array, value, name):\n    array.append(value)\n    print(\"%s%f\" % (name, value))\n\nfft_times = []\nnaive_times = []\nspeed_ups = []\n\nfor i in range(4):\n    n = 10 ** i\n    print(\"\\nsize: %d\" % n)\n    poly1 = rand_ints(1, 100, n)\n    poly2 = rand_ints(1, 100, n)\n    time1 = time()\n    fft_res = poly_multiply(poly1, poly2)\n    fft_res = round_complex_to_int(fft_res)\n    zero_pop(fft_res)\n    time2 = time()\n    fft_time = time2 - time1\n    record(fft_times, fft_time, \"FFT time:   \")\n    naive_res = poly_multiply_naive(poly1, poly2)\n    time3 = time()\n    naive_time = time3 - time2\n    record(naive_times, naive_time, \"naive time: \")\n    #assert fft_res == naive_res\n    speed_up = naive_time / fft_time\n    record(speed_ups, speed_up, \"speed up: \")\n\nplt.plot(fft_times, label=\"FFT\")\nplt.plot(naive_times, label=\"Naive\")\nplt.xlabel(\"Log Input Size\")\nplt.ylabel(\"Run Time (seconds)\")\nplt.legend(loc=\"upper left\")\nplt.title(\"Polynomial Multiplication Runtime\")\n\nplt.figure()\nplt.plot(speed_ups)\nplt.xlabel(\"Log Input Size\")\nplt.ylabel(\"Speedup\")\nplt.title(\"FFT Polynomial Multiplication Speedup\")",
    "id": "361d635bb180480fbca50927ae7a99c5",
    "idx": 35,
    "time": "2021-01-30T22:07:42.634Z",
    "type": "execution"
   },
   {
    "id": "361d635bb180480fbca50927ae7a99c5",
    "time": "2021-01-30T22:07:49.025Z",
    "type": "completion"
   },
   {
    "code": "def next_power_of_2(k):\n    ret = 1\n    while ret < k:\n        ret *= 2\n    return ret\n\n# note that the sine function is math.sin(x) and the cosine function is math.cos(x)\ndef calc_nth_root(n):\n    theta_n = 2 * math.pi / n\n    a = math.cos(theta_n)\n    b = math.sin(theta_n)\n    return a + b * 1j\n\ndef calc_all_nth_roots(n):\n    theta_n = 2 * math.pi / n\n    return [cmath.rect(1, theta_n * k) for k in range(n)]\n    root = calc_nth_root(n)\n    return [root**k for k in range(n)] \n",
    "id": "3778ba572d144362904abd00d0735229",
    "idx": 14,
    "time": "2021-01-30T22:09:15.766Z",
    "type": "execution"
   },
   {
    "id": "3778ba572d144362904abd00d0735229",
    "time": "2021-01-30T22:09:15.831Z",
    "type": "completion"
   },
   {
    "code": "def rand_ints(lo, hi, length):\n    ints = list(randint(lo, hi, length))\n    ints = [int(x) for x in ints]\n    return ints\n\ndef record(array, value, name):\n    array.append(value)\n    print(\"%s%f\" % (name, value))\n\nfft_times = []\nnaive_times = []\nspeed_ups = []\n\nfor i in range(4):\n    n = 10 ** i\n    print(\"\\nsize: %d\" % n)\n    poly1 = rand_ints(1, 100, n)\n    poly2 = rand_ints(1, 100, n)\n    time1 = time()\n    fft_res = poly_multiply(poly1, poly2)\n    fft_res = round_complex_to_int(fft_res)\n    zero_pop(fft_res)\n    time2 = time()\n    fft_time = time2 - time1\n    record(fft_times, fft_time, \"FFT time:   \")\n    naive_res = poly_multiply_naive(poly1, poly2)\n    time3 = time()\n    naive_time = time3 - time2\n    record(naive_times, naive_time, \"naive time: \")\n    assert fft_res == naive_res\n    speed_up = naive_time / fft_time\n    record(speed_ups, speed_up, \"speed up: \")\n\nplt.plot(fft_times, label=\"FFT\")\nplt.plot(naive_times, label=\"Naive\")\nplt.xlabel(\"Log Input Size\")\nplt.ylabel(\"Run Time (seconds)\")\nplt.legend(loc=\"upper left\")\nplt.title(\"Polynomial Multiplication Runtime\")\n\nplt.figure()\nplt.plot(speed_ups)\nplt.xlabel(\"Log Input Size\")\nplt.ylabel(\"Speedup\")\nplt.title(\"FFT Polynomial Multiplication Speedup\")",
    "id": "361d635bb180480fbca50927ae7a99c5",
    "idx": 35,
    "time": "2021-01-30T22:09:19.749Z",
    "type": "execution"
   },
   {
    "id": "361d635bb180480fbca50927ae7a99c5",
    "time": "2021-01-30T22:09:19.917Z",
    "type": "completion"
   },
   {
    "code": "def poly_multiply(coeffs1, coeffs2):\n    n = next_power_of_2((len(coeffs1) - 1) * (len(coeffs2) - 1)+1)\n    roots = calc_all_nth_roots(n)\n    f1 = FFT(coeffs1, roots)\n    f2 = FFT(coeffs2, roots)\n    res = [f1[i] * f2[i] for i in range(len(f1))]\n    inverse_roots = [x**(-1) for x in roots]\n    return [x/n for x in FFT(res, inverse_roots)]",
    "id": "d3951d20f8ed4797a4ceaff63d4d9141",
    "idx": 18,
    "time": "2021-01-30T22:09:27.006Z",
    "type": "execution"
   },
   {
    "id": "d3951d20f8ed4797a4ceaff63d4d9141",
    "time": "2021-01-30T22:09:27.069Z",
    "type": "completion"
   },
   {
    "code": "def round_complex_to_int(lst):\n    return [round(x.real) for x in lst]\n\ndef zero_pop(lst):\n    while lst[-1] == 0:\n        lst.pop()",
    "id": "1574e6f11bed4a05842c592f70aaf324",
    "idx": 20,
    "time": "2021-01-30T22:09:27.487Z",
    "type": "execution"
   },
   {
    "id": "1574e6f11bed4a05842c592f70aaf324",
    "time": "2021-01-30T22:09:27.548Z",
    "type": "completion"
   },
   {
    "code": "expected = [4, 13, 22, 15]\nactual = round_complex_to_int(poly_multiply([1, 2, 3], [4, 5]))\nprint(\"expected: {}\".format(expected))\nprint(\"actual:   {}\".format(actual))",
    "id": "e77f4e708f4e4dcf8334ed34f03ee1fe",
    "idx": 22,
    "time": "2021-01-30T22:09:28.152Z",
    "type": "execution"
   },
   {
    "id": "e77f4e708f4e4dcf8334ed34f03ee1fe",
    "time": "2021-01-30T22:09:28.215Z",
    "type": "completion"
   },
   {
    "code": "expected = [4, 13, 28, 27, 18, 0, 0, 0]\nactual = round_complex_to_int(poly_multiply([1, 2, 3], [4, 5, 6]))\nprint(\"expected: {}\".format(expected))\nprint(\"actual:   {}\".format(actual))",
    "id": "a84b1f7f888c407c8cb90f816cd7a4fe",
    "idx": 23,
    "time": "2021-01-30T22:09:28.690Z",
    "type": "execution"
   },
   {
    "id": "a84b1f7f888c407c8cb90f816cd7a4fe",
    "time": "2021-01-30T22:09:28.755Z",
    "type": "completion"
   },
   {
    "code": "result = poly_multiply([1, 2, 3], [4, 5, 6])\nresult",
    "id": "d8ec346e7c00470a885f48b0016e3157",
    "idx": 25,
    "time": "2021-01-30T22:09:29.310Z",
    "type": "execution"
   },
   {
    "id": "d8ec346e7c00470a885f48b0016e3157",
    "time": "2021-01-30T22:09:29.371Z",
    "type": "completion"
   },
   {
    "code": "result = round_complex_to_int(result)\nresult",
    "id": "9dd131071eee448ab7dfaf76693e8461",
    "idx": 27,
    "time": "2021-01-30T22:09:29.782Z",
    "type": "execution"
   },
   {
    "id": "9dd131071eee448ab7dfaf76693e8461",
    "time": "2021-01-30T22:09:29.846Z",
    "type": "completion"
   },
   {
    "code": "zero_pop(result)\nresult",
    "id": "7790e087670240878b40a9a1948f3cca",
    "idx": 29,
    "time": "2021-01-30T22:09:30.480Z",
    "type": "execution"
   },
   {
    "id": "7790e087670240878b40a9a1948f3cca",
    "time": "2021-01-30T22:09:30.544Z",
    "type": "completion"
   },
   {
    "code": "def poly_multiply_naive(coeffs1, coeffs2):\n    n1, n2 = len(coeffs1), len(coeffs2)\n    n = n1 + n2 - 1\n    prod_coeffs = [0] * n\n    for deg in range(n):\n        for i in range(max(0, deg + 1 - n2), min(n1, deg + 1)):\n            prod_coeffs[deg] += coeffs1[i] * coeffs2[deg - i]\n    return prod_coeffs",
    "id": "4373f173cf784f85802661c60df753d8",
    "idx": 33,
    "time": "2021-01-30T22:09:31.605Z",
    "type": "execution"
   },
   {
    "id": "4373f173cf784f85802661c60df753d8",
    "time": "2021-01-30T22:09:31.668Z",
    "type": "completion"
   },
   {
    "code": "def rand_ints(lo, hi, length):\n    ints = list(randint(lo, hi, length))\n    ints = [int(x) for x in ints]\n    return ints\n\ndef record(array, value, name):\n    array.append(value)\n    print(\"%s%f\" % (name, value))\n\nfft_times = []\nnaive_times = []\nspeed_ups = []\n\nfor i in range(4):\n    n = 10 ** i\n    print(\"\\nsize: %d\" % n)\n    poly1 = rand_ints(1, 100, n)\n    poly2 = rand_ints(1, 100, n)\n    time1 = time()\n    fft_res = poly_multiply(poly1, poly2)\n    fft_res = round_complex_to_int(fft_res)\n    zero_pop(fft_res)\n    time2 = time()\n    fft_time = time2 - time1\n    record(fft_times, fft_time, \"FFT time:   \")\n    naive_res = poly_multiply_naive(poly1, poly2)\n    time3 = time()\n    naive_time = time3 - time2\n    record(naive_times, naive_time, \"naive time: \")\n    assert fft_res == naive_res\n    speed_up = naive_time / fft_time\n    record(speed_ups, speed_up, \"speed up: \")\n\nplt.plot(fft_times, label=\"FFT\")\nplt.plot(naive_times, label=\"Naive\")\nplt.xlabel(\"Log Input Size\")\nplt.ylabel(\"Run Time (seconds)\")\nplt.legend(loc=\"upper left\")\nplt.title(\"Polynomial Multiplication Runtime\")\n\nplt.figure()\nplt.plot(speed_ups)\nplt.xlabel(\"Log Input Size\")\nplt.ylabel(\"Speedup\")\nplt.title(\"FFT Polynomial Multiplication Speedup\")",
    "id": "361d635bb180480fbca50927ae7a99c5",
    "idx": 35,
    "time": "2021-01-30T22:09:32.425Z",
    "type": "execution"
   },
   {
    "id": "361d635bb180480fbca50927ae7a99c5",
    "time": "2021-01-30T22:09:46.356Z",
    "type": "completion"
   },
   {
    "code": "import math\nimport cmath\nfrom numpy.random import randint\nfrom time import time\nimport matplotlib.pyplot as plt",
    "id": "a175b92a274d4b998e5aa7c7ae51b38c",
    "idx": 1,
    "time": "2021-01-31T15:53:56.223Z",
    "type": "execution"
   },
   {
    "id": "a175b92a274d4b998e5aa7c7ae51b38c",
    "time": "2021-01-31T15:53:59.505Z",
    "type": "completion"
   },
   {
    "code": "import math\nimport cmath\nimport numpy as np\nfrom numpy.random import randint\nfrom time import time\nimport matplotlib.pyplot as plt",
    "id": "a175b92a274d4b998e5aa7c7ae51b38c",
    "idx": 1,
    "time": "2021-01-31T16:08:03.770Z",
    "type": "execution"
   },
   {
    "id": "a175b92a274d4b998e5aa7c7ae51b38c",
    "time": "2021-01-31T16:08:04.035Z",
    "type": "completion"
   },
   {
    "code": "def FFT(coeffs, roots):\n    ### YOUR SOLUTION HERE ###\n    n = len(coeffs)\n    if n == 1:\n        return coeffs[0] * roots[0]\n    E = coeffs[0::1]\n    O = coeffs[1::1]\n    EFFT = FFT(E, np.roots([1] + [0]*(n/2-1) + [-1]))\n    OFFT = FFT(O, np.roots([1] + [0]*(n/2-1) + [-1])) \n    print(coeffs)\n    print(roots)\n    ",
    "id": "80a712ce19bc48958f0022abf855db94",
    "idx": 6,
    "time": "2021-01-31T16:13:34.383Z",
    "type": "execution"
   },
   {
    "id": "80a712ce19bc48958f0022abf855db94",
    "time": "2021-01-31T16:13:34.987Z",
    "type": "completion"
   },
   {
    "code": "expected = [6, -2+2j, 2, -2-2j]\nactual = FFT([1, 2, 3], [1, 1j, -1, -1j])\nprint(\"expected: {}\".format(expected))\nprint(\"actual:   {}\".format(actual))",
    "id": "9091ce0273094b0990ffa3549b53dcc9",
    "idx": 9,
    "time": "2021-01-31T16:13:36.922Z",
    "type": "execution"
   },
   {
    "id": "9091ce0273094b0990ffa3549b53dcc9",
    "time": "2021-01-31T16:13:37.504Z",
    "type": "completion"
   },
   {
    "code": "def FFT(coeffs, roots):\n    ### YOUR SOLUTION HERE ###\n    n = len(coeffs)\n    if n == 1:\n        return coeffs[0] * roots[0]\n    E = coeffs[0::1]\n    O = coeffs[1::1]\n    EFFT = FFT(E, np.roots([1] + [0]*int(n/2-1) + [-1]))\n    OFFT = FFT(O, np.roots([1] + [0]*int(n/2-1) + [-1])) \n    print(coeffs)\n    print(roots)\n    ",
    "id": "80a712ce19bc48958f0022abf855db94",
    "idx": 6,
    "time": "2021-01-31T16:13:56.926Z",
    "type": "execution"
   },
   {
    "id": "80a712ce19bc48958f0022abf855db94",
    "time": "2021-01-31T16:13:57.207Z",
    "type": "completion"
   },
   {
    "code": "expected = [6, -2+2j, 2, -2-2j]\nactual = FFT([1, 2, 3], [1, 1j, -1, -1j])\nprint(\"expected: {}\".format(expected))\nprint(\"actual:   {}\".format(actual))",
    "id": "9091ce0273094b0990ffa3549b53dcc9",
    "idx": 9,
    "time": "2021-01-31T16:13:57.748Z",
    "type": "execution"
   },
   {
    "id": "9091ce0273094b0990ffa3549b53dcc9",
    "time": "2021-01-31T16:14:01.845Z",
    "type": "completion"
   },
   {
    "code": "def FFT(coeffs, roots):\n    ### YOUR SOLUTION HERE ###\n    n = len(coeffs)\n    if n == 1:\n        return coeffs[0] * roots[0]\n    E = coeffs[0::2]\n    O = coeffs[1::2]\n    EFFT = FFT(E, np.roots([1] + [0]*int(n/2-1) + [-1]))\n    OFFT = FFT(O, np.roots([1] + [0]*int(n/2-1) + [-1])) \n    print(coeffs)\n    print(roots)\n    ",
    "id": "80a712ce19bc48958f0022abf855db94",
    "idx": 6,
    "time": "2021-01-31T16:14:51.509Z",
    "type": "execution"
   },
   {
    "id": "80a712ce19bc48958f0022abf855db94",
    "time": "2021-01-31T16:14:51.819Z",
    "type": "completion"
   },
   {
    "code": "expected = [6, -2+2j, 2, -2-2j]\nactual = FFT([1, 2, 3], [1, 1j, -1, -1j])\nprint(\"expected: {}\".format(expected))\nprint(\"actual:   {}\".format(actual))",
    "id": "9091ce0273094b0990ffa3549b53dcc9",
    "idx": 9,
    "time": "2021-01-31T16:14:52.640Z",
    "type": "execution"
   },
   {
    "id": "9091ce0273094b0990ffa3549b53dcc9",
    "time": "2021-01-31T16:14:52.951Z",
    "type": "completion"
   },
   {
    "code": "def FFT(coeffs, roots):\n    ### YOUR SOLUTION HERE ###\n    print(\"coeffs\", coeffs)\n    print(\"roots\", roots)\n    n = len(coeffs)\n    if n == 1:\n        return coeffs[0] * roots[0]\n    E = coeffs[0::2]\n    O = coeffs[1::2]\n    EFFT = FFT(E, np.roots([1] + [0]*int(n/2-1) + [-1]))\n    OFFT = FFT(O, np.roots([1] + [0]*int(n/2-1) + [-1])) \n    ",
    "id": "80a712ce19bc48958f0022abf855db94",
    "idx": 6,
    "time": "2021-01-31T16:15:46.883Z",
    "type": "execution"
   },
   {
    "id": "80a712ce19bc48958f0022abf855db94",
    "time": "2021-01-31T16:15:47.163Z",
    "type": "completion"
   },
   {
    "code": "expected = [6, -2+2j, 2, -2-2j]\nactual = FFT([1, 2, 3], [1, 1j, -1, -1j])\nprint(\"expected: {}\".format(expected))\nprint(\"actual:   {}\".format(actual))",
    "id": "9091ce0273094b0990ffa3549b53dcc9",
    "idx": 9,
    "time": "2021-01-31T16:15:47.948Z",
    "type": "execution"
   },
   {
    "id": "9091ce0273094b0990ffa3549b53dcc9",
    "time": "2021-01-31T16:15:48.233Z",
    "type": "completion"
   },
   {
    "code": "def FFT(coeffs, roots):\n    ### YOUR SOLUTION HERE ###\n    print(\"coeffs\", coeffs)\n    print(\"roots\", roots)\n    n = len(coeffs)\n    if n == 1:\n        return coeffs[0] * roots[0]\n    E = coeffs[0::2]\n    O = coeffs[1::2]\n    rootstoevaluate = roots[0::2]\n    EFFT = FFT(E, np.roots([1] + [0]*int(n/2-1) + [-1]))\n    OFFT = FFT(O, np.roots([1] + [0]*int(n/2-1) + [-1])) \n    ",
    "id": "80a712ce19bc48958f0022abf855db94",
    "idx": 6,
    "time": "2021-01-31T16:18:25.559Z",
    "type": "execution"
   },
   {
    "id": "80a712ce19bc48958f0022abf855db94",
    "time": "2021-01-31T16:18:25.854Z",
    "type": "completion"
   },
   {
    "code": "def FFT(coeffs, roots):\n    ### YOUR SOLUTION HERE ###\n    print(\"coeffs\", coeffs)\n    print(\"roots\", roots)\n    n = len(coeffs)\n    if n == 1:\n        return coeffs[0] * roots[0]\n    E = coeffs[0::2]\n    O = coeffs[1::2]\n    rootstoevaluate = roots[0::2]\n    EFFT = FFT(E, rootstoevaluate)\n    OFFT = FFT(O, rootstoevaluare) \n    ",
    "id": "80a712ce19bc48958f0022abf855db94",
    "idx": 6,
    "time": "2021-01-31T16:18:48.833Z",
    "type": "execution"
   },
   {
    "id": "80a712ce19bc48958f0022abf855db94",
    "time": "2021-01-31T16:18:49.101Z",
    "type": "completion"
   },
   {
    "code": "expected = [6, -2+2j, 2, -2-2j]\nactual = FFT([1, 2, 3], [1, 1j, -1, -1j])\nprint(\"expected: {}\".format(expected))\nprint(\"actual:   {}\".format(actual))",
    "id": "9091ce0273094b0990ffa3549b53dcc9",
    "idx": 9,
    "time": "2021-01-31T16:18:49.683Z",
    "type": "execution"
   },
   {
    "id": "9091ce0273094b0990ffa3549b53dcc9",
    "time": "2021-01-31T16:18:50.216Z",
    "type": "completion"
   },
   {
    "code": "def FFT(coeffs, roots):\n    ### YOUR SOLUTION HERE ###\n    print(\"coeffs\", coeffs)\n    print(\"roots\", roots)\n    n = len(coeffs)\n    if n == 1:\n        return coeffs[0] * roots[0]\n    E = coeffs[0::2]\n    O = coeffs[1::2]\n    rootstoevaluate = roots[0::2]\n    EFFT = FFT(E, rootstoevaluate)\n    OFFT = FFT(O, rootstoevaluate)\n    ",
    "id": "80a712ce19bc48958f0022abf855db94",
    "idx": 6,
    "time": "2021-01-31T16:18:58.154Z",
    "type": "execution"
   },
   {
    "id": "80a712ce19bc48958f0022abf855db94",
    "time": "2021-01-31T16:18:58.423Z",
    "type": "completion"
   },
   {
    "code": "expected = [6, -2+2j, 2, -2-2j]\nactual = FFT([1, 2, 3], [1, 1j, -1, -1j])\nprint(\"expected: {}\".format(expected))\nprint(\"actual:   {}\".format(actual))",
    "id": "9091ce0273094b0990ffa3549b53dcc9",
    "idx": 9,
    "time": "2021-01-31T16:18:59.068Z",
    "type": "execution"
   },
   {
    "id": "9091ce0273094b0990ffa3549b53dcc9",
    "time": "2021-01-31T16:18:59.337Z",
    "type": "completion"
   },
   {
    "code": "def FFT(coeffs, roots):\n    ### YOUR SOLUTION HERE ###\n    print(\"coeffs\", coeffs)\n    print(\"roots\", roots)\n    n = len(coeffs)\n    if n == 1:\n        return [coeffs[0] * w for w in roots]\n    E = coeffs[0::2]\n    O = coeffs[1::2]\n    rootstoevaluate = roots[0::2]\n    EFFT = FFT(E, rootstoevaluate)\n    OFFT = FFT(O, rootstoevaluate)\n    P = [EFFT[x] + roots[2*x + 1]*OFFT[x] for x in range(0, len(roots), step = 2)]\n            \n    ",
    "id": "80a712ce19bc48958f0022abf855db94",
    "idx": 6,
    "time": "2021-01-31T16:40:19.207Z",
    "type": "execution"
   },
   {
    "id": "80a712ce19bc48958f0022abf855db94",
    "time": "2021-01-31T16:40:19.473Z",
    "type": "completion"
   },
   {
    "code": "expected = [6, -2+2j, 2, -2-2j]\nactual = FFT([1, 2, 3], [1, 1j, -1, -1j])\nprint(\"expected: {}\".format(expected))\nprint(\"actual:   {}\".format(actual))",
    "id": "9091ce0273094b0990ffa3549b53dcc9",
    "idx": 9,
    "time": "2021-01-31T16:40:20.103Z",
    "type": "execution"
   },
   {
    "id": "9091ce0273094b0990ffa3549b53dcc9",
    "time": "2021-01-31T16:40:20.762Z",
    "type": "completion"
   },
   {
    "code": "def FFT(coeffs, roots):\n    ### YOUR SOLUTION HERE ###\n    print(\"coeffs\", coeffs)\n    print(\"roots\", roots)\n    n = len(coeffs)\n    if n == 1:\n        return [coeffs[0] * w for w in roots]\n    E = coeffs[0::2]\n    O = coeffs[1::2]\n    rootstoevaluate = roots[0::2]\n    EFFT = FFT(E, rootstoevaluate)\n    OFFT = FFT(O, rootstoevaluate)\n    P = [EFFT[x] + roots[2*x + 1]*OFFT[x] for x in range(0, len(roots)/x)]\n            \n    ",
    "id": "80a712ce19bc48958f0022abf855db94",
    "idx": 6,
    "time": "2021-01-31T16:40:55.570Z",
    "type": "execution"
   },
   {
    "id": "80a712ce19bc48958f0022abf855db94",
    "time": "2021-01-31T16:40:55.853Z",
    "type": "completion"
   },
   {
    "code": "def FFT(coeffs, roots):\n    ### YOUR SOLUTION HERE ###\n    print(\"coeffs\", coeffs)\n    print(\"roots\", roots)\n    n = len(coeffs)\n    if n == 1:\n        return [coeffs[0] * w for w in roots]\n    E = coeffs[0::2]\n    O = coeffs[1::2]\n    rootstoevaluate = roots[0::2]\n    EFFT = FFT(E, rootstoevaluate)\n    OFFT = FFT(O, rootstoevaluate)\n    P = [EFFT[x] + roots[2*x + 1]*OFFT[x] for x in range(len(roots)/2)]\n            \n    ",
    "id": "80a712ce19bc48958f0022abf855db94",
    "idx": 6,
    "time": "2021-01-31T16:41:01.779Z",
    "type": "execution"
   },
   {
    "id": "80a712ce19bc48958f0022abf855db94",
    "time": "2021-01-31T16:41:02.040Z",
    "type": "completion"
   },
   {
    "code": "expected = [6, -2+2j, 2, -2-2j]\nactual = FFT([1, 2, 3], [1, 1j, -1, -1j])\nprint(\"expected: {}\".format(expected))\nprint(\"actual:   {}\".format(actual))",
    "id": "9091ce0273094b0990ffa3549b53dcc9",
    "idx": 9,
    "time": "2021-01-31T16:41:02.326Z",
    "type": "execution"
   },
   {
    "id": "9091ce0273094b0990ffa3549b53dcc9",
    "time": "2021-01-31T16:41:02.863Z",
    "type": "completion"
   },
   {
    "code": "def FFT(coeffs, roots):\n    ### YOUR SOLUTION HERE ###\n    print(\"coeffs\", coeffs)\n    print(\"roots\", roots)\n    n = len(coeffs)\n    if n == 1:\n        return [coeffs[0] * w for w in roots]\n    E = coeffs[0::2]\n    O = coeffs[1::2]\n    rootstoevaluate = roots[0::2]\n    EFFT = FFT(E, rootstoevaluate)\n    OFFT = FFT(O, rootstoevaluate)\n    P = [EFFT[x] + roots[2*x + 1]*OFFT[x] for x in range(int(len(roots)/2))]\n            \n    ",
    "id": "80a712ce19bc48958f0022abf855db94",
    "idx": 6,
    "time": "2021-01-31T16:41:41.182Z",
    "type": "execution"
   },
   {
    "id": "80a712ce19bc48958f0022abf855db94",
    "time": "2021-01-31T16:41:41.447Z",
    "type": "completion"
   },
   {
    "code": "expected = [6, -2+2j, 2, -2-2j]\nactual = FFT([1, 2, 3], [1, 1j, -1, -1j])\nprint(\"expected: {}\".format(expected))\nprint(\"actual:   {}\".format(actual))",
    "id": "9091ce0273094b0990ffa3549b53dcc9",
    "idx": 9,
    "time": "2021-01-31T16:41:42.142Z",
    "type": "execution"
   },
   {
    "id": "9091ce0273094b0990ffa3549b53dcc9",
    "time": "2021-01-31T16:41:42.677Z",
    "type": "completion"
   },
   {
    "code": "def FFT(coeffs, roots):\n    ### YOUR SOLUTION HERE ###\n    print(\"coeffs\", coeffs)\n    print(\"roots\", roots)\n    n = len(coeffs)\n    if n == 1 and roots:\n        return [coeffs[0] * w for w in roots]\n    E = coeffs[0::2]\n    O = coeffs[1::2]\n    rootstoevaluate = roots[0::2]\n    EFFT = FFT(E, rootstoevaluate)\n    OFFT = FFT(O, rootstoevaluate)\n    P = [EFFT[x] + roots[2*x + 1]*OFFT[x] for x in range(int(len(roots)/2))]\n            \n    ",
    "id": "80a712ce19bc48958f0022abf855db94",
    "idx": 6,
    "time": "2021-01-31T16:54:10.039Z",
    "type": "execution"
   },
   {
    "id": "80a712ce19bc48958f0022abf855db94",
    "time": "2021-01-31T16:54:10.313Z",
    "type": "completion"
   },
   {
    "code": "expected = [6, -2+2j, 2, -2-2j]\nactual = FFT([1, 2, 3], [1, 1j, -1, -1j])\nprint(\"expected: {}\".format(expected))\nprint(\"actual:   {}\".format(actual))",
    "id": "9091ce0273094b0990ffa3549b53dcc9",
    "idx": 9,
    "time": "2021-01-31T16:54:10.825Z",
    "type": "execution"
   },
   {
    "id": "9091ce0273094b0990ffa3549b53dcc9",
    "time": "2021-01-31T16:54:11.349Z",
    "type": "completion"
   },
   {
    "code": "def FFT(coeffs, roots):\n    ### YOUR SOLUTION HERE ###\n    print(\"coeffs\", coeffs)\n    print(\"roots\", roots)\n    n = len(coeffs)\n    if n == 1 and roots:\n        return [coeffs[0] * w for w in roots]\n    E = coeffs[0::2]\n    O = coeffs[1::2]\n    rootstoevaluate = roots[0::2]\n    EFFT = FFT(E, rootstoevaluate)\n    OFFT = FFT(O, rootstoevaluate)\n    print(\"EFFT\", EFFT)\n    print(\"OFFT\", OFFT)\n    P = [EFFT[x] + roots[2*x + 1]*OFFT[x] for x in range(int(len(roots)/2))]\n            \n    ",
    "id": "80a712ce19bc48958f0022abf855db94",
    "idx": 6,
    "time": "2021-01-31T16:55:06.755Z",
    "type": "execution"
   },
   {
    "id": "80a712ce19bc48958f0022abf855db94",
    "time": "2021-01-31T16:55:07.029Z",
    "type": "completion"
   },
   {
    "code": "expected = [6, -2+2j, 2, -2-2j]\nactual = FFT([1, 2, 3], [1, 1j, -1, -1j])\nprint(\"expected: {}\".format(expected))\nprint(\"actual:   {}\".format(actual))",
    "id": "9091ce0273094b0990ffa3549b53dcc9",
    "idx": 9,
    "time": "2021-01-31T16:55:07.670Z",
    "type": "execution"
   },
   {
    "id": "9091ce0273094b0990ffa3549b53dcc9",
    "time": "2021-01-31T16:55:08.186Z",
    "type": "completion"
   },
   {
    "code": "def FFT(coeffs, roots):\n    ### YOUR SOLUTION HERE ###\n    print(\"coeffs\", coeffs)\n    print(\"roots\", roots)\n    n = len(coeffs)\n    if n == 1 and roots:\n        retval = [coeffs[0] * w for w in roots]\n        print(\"returning\", )\n        return retval\n    E = coeffs[0::2]\n    O = coeffs[1::2]\n    rootstoevaluate = roots[0::2]\n    EFFT = FFT(E, rootstoevaluate)\n    OFFT = FFT(O, rootstoevaluate)\n    print(\"EFFT\", EFFT)\n    print(\"OFFT\", OFFT)\n    P = [EFFT[x] + roots[2*x + 1]*OFFT[x] for x in range(int(len(roots)/2))]\n            \n    ",
    "id": "80a712ce19bc48958f0022abf855db94",
    "idx": 6,
    "time": "2021-01-31T16:59:08.653Z",
    "type": "execution"
   },
   {
    "id": "80a712ce19bc48958f0022abf855db94",
    "time": "2021-01-31T16:59:08.919Z",
    "type": "completion"
   },
   {
    "code": "expected = [6, -2+2j, 2, -2-2j]\nactual = FFT([1, 2, 3], [1, 1j, -1, -1j])\nprint(\"expected: {}\".format(expected))\nprint(\"actual:   {}\".format(actual))",
    "id": "9091ce0273094b0990ffa3549b53dcc9",
    "idx": 9,
    "time": "2021-01-31T16:59:10.747Z",
    "type": "execution"
   },
   {
    "id": "9091ce0273094b0990ffa3549b53dcc9",
    "time": "2021-01-31T16:59:11.275Z",
    "type": "completion"
   },
   {
    "code": "def FFT(coeffs, roots):\n    ### YOUR SOLUTION HERE ###\n    print(\"coeffs\", coeffs)\n    print(\"roots\", roots)\n    n = len(coeffs)\n    if n == 1 and roots:\n        retval = [coeffs[0] * w for w in roots]\n        print(\"returning\", retval)\n        return retval\n    E = coeffs[0::2]\n    O = coeffs[1::2]\n    rootstoevaluate = roots[0::2]\n    EFFT = FFT(E, rootstoevaluate)\n    OFFT = FFT(O, rootstoevaluate)\n    print(\"EFFT\", EFFT)\n    print(\"OFFT\", OFFT)\n    P = [EFFT[x] + roots[2*x + 1]*OFFT[x] for x in range(int(len(roots)/2))]\n            \n    ",
    "id": "80a712ce19bc48958f0022abf855db94",
    "idx": 6,
    "time": "2021-01-31T16:59:18.940Z",
    "type": "execution"
   },
   {
    "id": "80a712ce19bc48958f0022abf855db94",
    "time": "2021-01-31T16:59:19.210Z",
    "type": "completion"
   },
   {
    "code": "expected = [6, -2+2j, 2, -2-2j]\nactual = FFT([1, 2, 3], [1, 1j, -1, -1j])\nprint(\"expected: {}\".format(expected))\nprint(\"actual:   {}\".format(actual))",
    "id": "9091ce0273094b0990ffa3549b53dcc9",
    "idx": 9,
    "time": "2021-01-31T16:59:19.928Z",
    "type": "execution"
   },
   {
    "id": "9091ce0273094b0990ffa3549b53dcc9",
    "time": "2021-01-31T16:59:20.446Z",
    "type": "completion"
   },
   {
    "code": "def FFT(coeffs, roots):\n    ### YOUR SOLUTION HERE ###\n    print(\"coeffs\", coeffs)\n    print(\"roots\", roots)\n    n = len(coeffs)\n    if n == 1 and roots or len(roots) == 1:\n        retval = [coeffs[0] * w for w in roots]\n        print(\"returning\", retval)\n        return retval\n    E = coeffs[0::2]\n    O = coeffs[1::2]\n    rootstoevaluate = roots[0::2]\n    EFFT = FFT(E, rootstoevaluate)\n    OFFT = FFT(O, rootstoevaluate)\n    print(\"EFFT\", EFFT)\n    print(\"OFFT\", OFFT)\n    P = [EFFT[x] + roots[2*x + 1]*OFFT[x] for x in range(int(len(roots)/2))]\n            \n    ",
    "id": "80a712ce19bc48958f0022abf855db94",
    "idx": 6,
    "time": "2021-01-31T17:00:19.647Z",
    "type": "execution"
   },
   {
    "id": "80a712ce19bc48958f0022abf855db94",
    "time": "2021-01-31T17:00:19.910Z",
    "type": "completion"
   },
   {
    "code": "expected = [6, -2+2j, 2, -2-2j]\nactual = FFT([1, 2, 3], [1, 1j, -1, -1j])\nprint(\"expected: {}\".format(expected))\nprint(\"actual:   {}\".format(actual))",
    "id": "9091ce0273094b0990ffa3549b53dcc9",
    "idx": 9,
    "time": "2021-01-31T17:00:20.358Z",
    "type": "execution"
   },
   {
    "id": "9091ce0273094b0990ffa3549b53dcc9",
    "time": "2021-01-31T17:00:20.876Z",
    "type": "completion"
   }
  ],
  "kernelspec": {
   "display_name": "Python 3 (ipykernel)",
   "language": "python",
   "name": "python3"
  },
  "language_info": {
   "codemirror_mode": {
    "name": "ipython",
    "version": 3
   },
   "file_extension": ".py",
   "mimetype": "text/x-python",
   "name": "python",
   "nbconvert_exporter": "python",
   "pygments_lexer": "ipython3",
   "version": "3.9.12"
  }
 },
 "nbformat": 4,
 "nbformat_minor": 4
}
